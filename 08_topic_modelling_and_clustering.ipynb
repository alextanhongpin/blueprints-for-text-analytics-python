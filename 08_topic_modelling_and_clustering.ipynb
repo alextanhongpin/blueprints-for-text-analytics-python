{
 "cells": [
  {
   "cell_type": "markdown",
   "id": "common-franchise",
   "metadata": {},
   "source": [
    "**Checking statistic of the Corpus**"
   ]
  },
  {
   "cell_type": "code",
   "execution_count": 7,
   "id": "statistical-respect",
   "metadata": {},
   "outputs": [
    {
     "name": "stdout",
     "output_type": "stream",
     "text": [
      "<class 'pandas.core.frame.DataFrame'>\n",
      "RangeIndex: 7507 entries, 0 to 7506\n",
      "Data columns (total 7 columns):\n",
      " #   Column        Non-Null Count  Dtype \n",
      "---  ------        --------------  ----- \n",
      " 0   session       7507 non-null   int64 \n",
      " 1   year          7507 non-null   int64 \n",
      " 2   country       7507 non-null   object\n",
      " 3   country_name  7507 non-null   object\n",
      " 4   speaker       7480 non-null   object\n",
      " 5   position      4502 non-null   object\n",
      " 6   text          7507 non-null   object\n",
      "dtypes: int64(2), object(5)\n",
      "memory usage: 410.7+ KB\n"
     ]
    }
   ],
   "source": [
    "import pandas as pd\n",
    "\n",
    "df = pd.read_csv(\"data/un-general-debates-blueprint.csv.gz\")\n",
    "df.info()"
   ]
  },
  {
   "cell_type": "code",
   "execution_count": 8,
   "id": "internal-architecture",
   "metadata": {},
   "outputs": [
    {
     "name": "stdout",
     "output_type": "stream",
     "text": [
      "'\\ufeffIt is indeed a pleasure for me and the members of my delegation to extend to Ambassador Garba our sincere congratulations on his election to the presidency of the forty-fourth session of the General '\n",
      "'\\ufeffOn behalf of the State of Kuwait, it\\ngives me pleasure to congratulate Mr. Han Seung-soo,\\nand his friendly country, the Republic of Korea, on his\\nelection as President of the fifty-sixth session of t'\n"
     ]
    }
   ],
   "source": [
    "# Checking dataset with formatting issues.\n",
    "print(repr(df.iloc[2666][\"text\"][0:200]))\n",
    "print(repr(df.iloc[4729][\"text\"][0:200]))"
   ]
  },
  {
   "cell_type": "markdown",
   "id": "knowing-nightmare",
   "metadata": {},
   "source": [
    "In some speeches, the newline character is used to separate paragraphs. In others, it is used to separate lines.\n",
    "\n",
    "In most cases, splitting at stops, exclamation points or question marks occuring at line ends works."
   ]
  },
  {
   "cell_type": "code",
   "execution_count": 9,
   "id": "finished-learning",
   "metadata": {},
   "outputs": [],
   "source": [
    "import re\n",
    "\n",
    "df[\"paragraphs\"] = df[\"text\"].map(lambda text: re.split(\"[.?!]\\s*\\n\", text))\n",
    "df[\"number_of_paragraphs\"] = df[\"paragraphs\"].map(len)"
   ]
  },
  {
   "cell_type": "code",
   "execution_count": 10,
   "id": "reduced-topic",
   "metadata": {},
   "outputs": [
    {
     "data": {
      "text/plain": [
       "<AxesSubplot:xlabel='year'>"
      ]
     },
     "execution_count": 10,
     "metadata": {},
     "output_type": "execute_result"
    },
    {
     "data": {
      "image/png": "[encoded data removed]",
      "text/plain": [
       "<Figure size 432x288 with 1 Axes>"
      ]
     },
     "metadata": {
      "needs_background": "light"
     },
     "output_type": "display_data"
    }
   ],
   "source": [
    "%matplotlib inline\n",
    "\n",
    "df.groupby(\"year\").agg({\"number_of_paragraphs\": \"mean\"}).plot.bar()"
   ]
  },
  {
   "cell_type": "markdown",
   "id": "rational-meditation",
   "metadata": {},
   "source": [
    "**Preparations**"
   ]
  },
  {
   "cell_type": "code",
   "execution_count": 11,
   "id": "relevant-handy",
   "metadata": {},
   "outputs": [],
   "source": [
    "from sklearn.feature_extraction.text import TfidfVectorizer\n",
    "from spacy.lang.en.stop_words import STOP_WORDS as stop_words"
   ]
  },
  {
   "cell_type": "code",
   "execution_count": 17,
   "id": "static-belarus",
   "metadata": {},
   "outputs": [
    {
     "data": {
      "text/plain": [
       "(7507, 24611)"
      ]
     },
     "execution_count": 17,
     "metadata": {},
     "output_type": "execute_result"
    }
   ],
   "source": [
    "tfidf_text = TfidfVectorizer(stop_words=stop_words, min_df=5, max_df=0.7)\n",
    "tfidf_text_vectors = tfidf_text.fit_transform(df[\"text\"])\n",
    "tfidf_text_vectors.shape"
   ]
  },
  {
   "cell_type": "code",
   "execution_count": 14,
   "id": "surprised-ticket",
   "metadata": {},
   "outputs": [
    {
     "data": {
      "text/plain": [
       "(282210, 25165)"
      ]
     },
     "execution_count": 14,
     "metadata": {},
     "output_type": "execute_result"
    }
   ],
   "source": [
    "# Flatten the paragraphs keeping the years.\n",
    "paragraph_df = pd.DataFrame(\n",
    "    [\n",
    "        {\"text\": paragraph, \"year\": year}\n",
    "        for paragraphs, year in zip(df[\"paragraphs\"], df[\"year\"])\n",
    "        for paragraph in paragraphs\n",
    "        if paragraph\n",
    "    ]\n",
    ")\n",
    "tfidf_para_vectorizer = TfidfVectorizer(stop_words=stop_words, min_df=5, max_df=0.7)\n",
    "tfidf_para_vectors = tfidf_para_vectorizer.fit_transform(paragraph_df[\"text\"])\n",
    "tfidf_para_vectors.shape"
   ]
  },
  {
   "cell_type": "markdown",
   "id": "destroyed-switch",
   "metadata": {},
   "source": [
    "### Nonnegative Matrix Factorization (NMF)\n",
    "\n",
    "$$V = W{\\cdot}H$$"
   ]
  },
  {
   "cell_type": "markdown",
   "id": "dressed-appendix",
   "metadata": {},
   "source": [
    "### Blueprint: Creating a Topic Model using NMF for Documents"
   ]
  },
  {
   "cell_type": "code",
   "execution_count": 19,
   "id": "designed-natural",
   "metadata": {},
   "outputs": [
    {
     "name": "stderr",
     "output_type": "stream",
     "text": [
      "/usr/local/lib/python3.9/site-packages/sklearn/decomposition/_nmf.py:312: FutureWarning: The 'init' value, when 'init=None' and n_components is less than n_samples and n_features, will be changed from 'nndsvd' to 'nndsvda' in 1.1 (renaming of 0.26).\n",
      "  warnings.warn((\"The 'init' value, when 'init=None' and \"\n",
      "/usr/local/lib/python3.9/site-packages/sklearn/decomposition/_nmf.py:1090: ConvergenceWarning: Maximum number of iterations 200 reached. Increase it to improve convergence.\n",
      "  warnings.warn(\"Maximum number of iterations %d reached. Increase it to\"\n"
     ]
    }
   ],
   "source": [
    "from sklearn.decomposition import NMF\n",
    "\n",
    "nmf_text_model = NMF(n_components=10, random_state=42)\n",
    "W_text_matrix = nmf_text_model.fit_transform(tfidf_text_vectors)\n",
    "H_text_matrix = nmf_text_model.components_"
   ]
  },
  {
   "cell_type": "code",
   "execution_count": 23,
   "id": "adolescent-hypothesis",
   "metadata": {},
   "outputs": [],
   "source": [
    "def display_topics(model, features, no_top_words=5):\n",
    "    for topic, word_vector in enumerate(model.components_):\n",
    "        total = word_vector.sum()\n",
    "        largest = word_vector.argsort()[::-1]  # Invert sort order\n",
    "        print(f\"\\nTopic {topic:02d}\")\n",
    "        for i in range(no_top_words):\n",
    "            print(\n",
    "                \"  {} ({:.2f})\".format(\n",
    "                    features[largest[i]], word_vector[largest[i]] * 100.0 / total\n",
    "                )\n",
    "            )"
   ]
  },
  {
   "cell_type": "code",
   "execution_count": 24,
   "id": "swiss-italic",
   "metadata": {},
   "outputs": [
    {
     "name": "stdout",
     "output_type": "stream",
     "text": [
      "\n",
      "Topic 00\n",
      "  co (0.79)\n",
      "  operation (0.65)\n",
      "  disarmament (0.36)\n",
      "  nuclear (0.34)\n",
      "  relations (0.25)\n",
      "\n",
      "Topic 01\n",
      "  terrorism (0.38)\n",
      "  challenges (0.32)\n",
      "  sustainable (0.30)\n",
      "  millennium (0.29)\n",
      "  reform (0.28)\n",
      "\n",
      "Topic 02\n",
      "  africa (1.15)\n",
      "  african (0.82)\n",
      "  south (0.63)\n",
      "  namibia (0.36)\n",
      "  delegation (0.30)\n",
      "\n",
      "Topic 03\n",
      "  arab (1.02)\n",
      "  israel (0.89)\n",
      "  palestinian (0.60)\n",
      "  lebanon (0.54)\n",
      "  israeli (0.54)\n",
      "\n",
      "Topic 04\n",
      "  american (0.33)\n",
      "  america (0.31)\n",
      "  latin (0.31)\n",
      "  panama (0.21)\n",
      "  bolivia (0.21)\n",
      "\n",
      "Topic 05\n",
      "  pacific (1.55)\n",
      "  islands (1.23)\n",
      "  solomon (0.86)\n",
      "  island (0.82)\n",
      "  fiji (0.71)\n",
      "\n",
      "Topic 06\n",
      "  soviet (0.81)\n",
      "  republic (0.78)\n",
      "  nuclear (0.68)\n",
      "  viet (0.64)\n",
      "  socialist (0.63)\n",
      "\n",
      "Topic 07\n",
      "  guinea (4.26)\n",
      "  equatorial (1.75)\n",
      "  bissau (1.53)\n",
      "  papua (1.47)\n",
      "  republic (0.57)\n",
      "\n",
      "Topic 08\n",
      "  european (0.61)\n",
      "  europe (0.44)\n",
      "  cooperation (0.39)\n",
      "  bosnia (0.34)\n",
      "  herzegovina (0.30)\n",
      "\n",
      "Topic 09\n",
      "  caribbean (0.98)\n",
      "  small (0.66)\n",
      "  bahamas (0.63)\n",
      "  saint (0.63)\n",
      "  barbados (0.61)\n"
     ]
    }
   ],
   "source": [
    "display_topics(nmf_text_model, tfidf_text.get_feature_names())"
   ]
  },
  {
   "cell_type": "markdown",
   "id": "occupied-dover",
   "metadata": {},
   "source": [
    "**Finding how \"big\" a topic is**"
   ]
  },
  {
   "cell_type": "code",
   "execution_count": 25,
   "id": "tracked-nebraska",
   "metadata": {},
   "outputs": [
    {
     "data": {
      "text/plain": [
       "array([11.14353588, 17.10877242, 13.61965772, 10.16345439, 11.41042599,\n",
       "        5.93353622,  7.86636069,  4.13893748, 11.84152198,  6.77379723])"
      ]
     },
     "execution_count": 25,
     "metadata": {},
     "output_type": "execute_result"
    }
   ],
   "source": [
    "# Sum all rows.\n",
    "W_text_matrix.sum(axis=0) / W_text_matrix.sum() * 100.0"
   ]
  },
  {
   "cell_type": "markdown",
   "id": "focal-discovery",
   "metadata": {},
   "source": [
    "### Blueprint: Creating a Topic Model for Paragraphs using NMF"
   ]
  },
  {
   "cell_type": "code",
   "execution_count": null,
   "id": "honey-moore",
   "metadata": {},
   "outputs": [],
   "source": [
    "nmf_para_model = NMF(n_components=10, random_state=42)\n",
    "W_para_matrix = nmf_para_model.fit_transform(tfidf_para_vectors)\n",
    "H_para_matrix = nmf_para_model.components_"
   ]
  },
  {
   "cell_type": "code",
   "execution_count": null,
   "id": "corresponding-therapist",
   "metadata": {},
   "outputs": [],
   "source": [
    "display_topics(nmf_para_model, tfidf_para_vectorizer.get_feature_names())"
   ]
  },
  {
   "cell_type": "markdown",
   "id": "ideal-opening",
   "metadata": {},
   "source": [
    "## Latent Semantic Analysis/Indexing"
   ]
  },
  {
   "cell_type": "code",
   "execution_count": null,
   "id": "preceding-guard",
   "metadata": {},
   "outputs": [],
   "source": []
  }
 ],
 "metadata": {
  "kernelspec": {
   "display_name": "Python 3",
   "language": "python",
   "name": "python3"
  },
  "language_info": {
   "codemirror_mode": {
    "name": "ipython",
    "version": 3
   },
   "file_extension": ".py",
   "mimetype": "text/x-python",
   "name": "python",
   "nbconvert_exporter": "python",
   "pygments_lexer": "ipython3",
   "version": "3.9.10"
  }
 },
 "nbformat": 4,
 "nbformat_minor": 5
}
