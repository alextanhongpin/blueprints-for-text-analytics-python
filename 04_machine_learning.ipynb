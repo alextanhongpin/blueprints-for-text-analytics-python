{
 "cells": [
  {
   "cell_type": "code",
   "execution_count": 1,
   "id": "motivated-watershed",
   "metadata": {},
   "outputs": [],
   "source": [
    "import pandas as pd"
   ]
  },
  {
   "cell_type": "code",
   "execution_count": 3,
   "id": "exciting-bermuda",
   "metadata": {},
   "outputs": [],
   "source": [
    "posts_file = \"data/rspct_autos.tsv\"\n",
    "posts_df = pd.read_csv(posts_file, sep=\"\\t\")\n",
    "\n",
    "subred_file = \"data/subreddit_info.csv.gz\"\n",
    "subred_df = pd.read_csv(subred_file).set_index([\"subreddit\"])\n",
    "\n",
    "df = posts_df.join(subred_df, on=\"subreddit\")"
   ]
  },
  {
   "cell_type": "markdown",
   "id": "metropolitan-captain",
   "metadata": {},
   "source": [
    "### Blueprint: Standardizing Attribute Names"
   ]
  },
  {
   "cell_type": "code",
   "execution_count": 9,
   "id": "fluid-marijuana",
   "metadata": {},
   "outputs": [
    {
     "data": {
      "text/plain": [
       "Index(['id', 'subreddit', 'title', 'selftext', 'category_1', 'category_2',\n",
       "       'category_3', 'in_data', 'reason_for_exclusion'],\n",
       "      dtype='object')"
      ]
     },
     "execution_count": 9,
     "metadata": {},
     "output_type": "execute_result"
    }
   ],
   "source": [
    "df.columns"
   ]
  },
  {
   "cell_type": "code",
   "execution_count": 10,
   "id": "presidential-dryer",
   "metadata": {},
   "outputs": [
    {
     "data": {
      "text/html": [
       "<div>\n",
       "<style scoped>\n",
       "    .dataframe tbody tr th:only-of-type {\n",
       "        vertical-align: middle;\n",
       "    }\n",
       "\n",
       "    .dataframe tbody tr th {\n",
       "        vertical-align: top;\n",
       "    }\n",
       "\n",
       "    .dataframe thead th {\n",
       "        text-align: right;\n",
       "    }\n",
       "</style>\n",
       "<table border=\"1\" class=\"dataframe\">\n",
       "  <thead>\n",
       "    <tr style=\"text-align: right;\">\n",
       "      <th></th>\n",
       "      <th>8020</th>\n",
       "    </tr>\n",
       "  </thead>\n",
       "  <tbody>\n",
       "    <tr>\n",
       "      <th>id</th>\n",
       "      <td>63wxeo</td>\n",
       "    </tr>\n",
       "    <tr>\n",
       "      <th>subreddit</th>\n",
       "      <td>mazda3</td>\n",
       "    </tr>\n",
       "    <tr>\n",
       "      <th>title</th>\n",
       "      <td>Blew my motor :(</td>\n",
       "    </tr>\n",
       "    <tr>\n",
       "      <th>text</th>\n",
       "      <td>my 08 hatch spun a rod bearing the other day a...</td>\n",
       "    </tr>\n",
       "    <tr>\n",
       "      <th>category</th>\n",
       "      <td>autos</td>\n",
       "    </tr>\n",
       "    <tr>\n",
       "      <th>subcategory</th>\n",
       "      <td>mazda</td>\n",
       "    </tr>\n",
       "  </tbody>\n",
       "</table>\n",
       "</div>"
      ],
      "text/plain": [
       "                                                          8020\n",
       "id                                                      63wxeo\n",
       "subreddit                                               mazda3\n",
       "title                                         Blew my motor :(\n",
       "text         my 08 hatch spun a rod bearing the other day a...\n",
       "category                                                 autos\n",
       "subcategory                                              mazda"
      ]
     },
     "execution_count": 10,
     "metadata": {},
     "output_type": "execute_result"
    }
   ],
   "source": [
    "column_mapping = {\n",
    "    \"id\": \"id\",\n",
    "    \"subreddit\": \"subreddit\",\n",
    "    \"title\": \"title\",\n",
    "    \"selftext\": \"text\",\n",
    "    \"category_1\": \"category\",\n",
    "    \"category_2\": \"subcategory\",\n",
    "    \"category_3\": None,  # No data.\n",
    "    \"in_data\": None,  # Not needed.\n",
    "    \"reason_for_exclusion\": None,  # Not needed.\n",
    "}\n",
    "\n",
    "# Define remaining columns.\n",
    "columns = [c for c in column_mapping.keys() if column_mapping[c] != None]\n",
    "\n",
    "# Select and rename those columns.\n",
    "df = df[columns].rename(columns=column_mapping)\n",
    "\n",
    "# Limit the data to autos category.\n",
    "df = df[df[\"category\"] == \"autos\"]\n",
    "df.sample(1).T"
   ]
  },
  {
   "cell_type": "markdown",
   "id": "successful-rally",
   "metadata": {},
   "source": [
    "**Saving and loading a Dataframe**\n",
    "\n",
    "Storing in SQL has more advantages over pickle."
   ]
  },
  {
   "cell_type": "code",
   "execution_count": 12,
   "id": "metropolitan-hundred",
   "metadata": {},
   "outputs": [],
   "source": [
    "# df.to_pickle('reddit_dataframe.pkl')\n",
    "\n",
    "import sqlite3\n",
    "\n",
    "db_name = \"reddit-selfposts.db\"\n",
    "con = sqlite3.connect(db_name)\n",
    "df.to_sql(\"posts\", con, index=False, if_exists=\"replace\")\n",
    "con.close()"
   ]
  },
  {
   "cell_type": "code",
   "execution_count": 13,
   "id": "opponent-quantum",
   "metadata": {},
   "outputs": [],
   "source": [
    "con = sqlite3.connect(db_name)\n",
    "df = pd.read_sql(\"select * from posts\", con)\n",
    "con.close()"
   ]
  },
  {
   "cell_type": "markdown",
   "id": "handmade-affect",
   "metadata": {},
   "source": [
    "## Cleaning Text Data"
   ]
  },
  {
   "cell_type": "markdown",
   "id": "miniature-disease",
   "metadata": {},
   "source": [
    "### Blueprint: Identify Noise with Regular Expressions"
   ]
  },
  {
   "cell_type": "code",
   "execution_count": 20,
   "id": "pleasant-admission",
   "metadata": {},
   "outputs": [
    {
     "data": {
      "text/plain": [
       "0.08438818565400844"
      ]
     },
     "execution_count": 20,
     "metadata": {},
     "output_type": "execute_result"
    }
   ],
   "source": [
    "import re\n",
    "\n",
    "RE_SUSPICIOUS = re.compile(r\"[&#<>{}\\[\\]\\\\]\")\n",
    "\n",
    "\n",
    "def impurity(text, min_len=10):\n",
    "    \"\"\"Returns the share of suspicious characters in a text.\"\"\"\n",
    "    if text == None or len(text) < min_len:\n",
    "        return 0\n",
    "    else:\n",
    "        return len(RE_SUSPICIOUS.findall(text)) / len(text)\n",
    "\n",
    "\n",
    "text = \"\"\"\n",
    "After viewing the [PINKIEPOOL Trailer](https://www.youtu.be/watch?v=ieHRoHUg)     \n",
    "it got me thinking about the best match ups.     \n",
    "<lb>Here's my take:<lb><lb>[](/sp)[](/ppseesyou) Deadpool<lb>[](/sp)[](/ajsly)     \n",
    "Captain America<lb>\"\"\"\n",
    "\n",
    "impurity(text)"
   ]
  },
  {
   "cell_type": "code",
   "execution_count": 21,
   "id": "judicial-scanner",
   "metadata": {},
   "outputs": [
    {
     "data": {
      "text/html": [
       "<div>\n",
       "<style scoped>\n",
       "    .dataframe tbody tr th:only-of-type {\n",
       "        vertical-align: middle;\n",
       "    }\n",
       "\n",
       "    .dataframe tbody tr th {\n",
       "        vertical-align: top;\n",
       "    }\n",
       "\n",
       "    .dataframe thead th {\n",
       "        text-align: right;\n",
       "    }\n",
       "</style>\n",
       "<table border=\"1\" class=\"dataframe\">\n",
       "  <thead>\n",
       "    <tr style=\"text-align: right;\">\n",
       "      <th></th>\n",
       "      <th>text</th>\n",
       "      <th>impurity</th>\n",
       "    </tr>\n",
       "  </thead>\n",
       "  <tbody>\n",
       "    <tr>\n",
       "      <th>19682</th>\n",
       "      <td>Looking at buying a 335i with 39k miles and 11...</td>\n",
       "      <td>0.214716</td>\n",
       "    </tr>\n",
       "    <tr>\n",
       "      <th>12357</th>\n",
       "      <td>I'm looking to lease an a4 premium plus automa...</td>\n",
       "      <td>0.165099</td>\n",
       "    </tr>\n",
       "    <tr>\n",
       "      <th>2730</th>\n",
       "      <td>Breakdown below:&lt;lb&gt;&lt;lb&gt;Elantra GT&lt;lb&gt;&lt;lb&gt;2.0L...</td>\n",
       "      <td>0.139130</td>\n",
       "    </tr>\n",
       "    <tr>\n",
       "      <th>12754</th>\n",
       "      <td>Bulbs Needed:&lt;lb&gt;&lt;lb&gt;&lt;lb&gt;**194 LED BULB x8**&lt;l...</td>\n",
       "      <td>0.132411</td>\n",
       "    </tr>\n",
       "    <tr>\n",
       "      <th>10726</th>\n",
       "      <td>I currently have a deposit on a 2013 335is (CP...</td>\n",
       "      <td>0.129317</td>\n",
       "    </tr>\n",
       "    <tr>\n",
       "      <th>...</th>\n",
       "      <td>...</td>\n",
       "      <td>...</td>\n",
       "    </tr>\n",
       "    <tr>\n",
       "      <th>15867</th>\n",
       "      <td>All the wash places around me are very expensi...</td>\n",
       "      <td>0.000000</td>\n",
       "    </tr>\n",
       "    <tr>\n",
       "      <th>8311</th>\n",
       "      <td>I've recently been having some issues with my ...</td>\n",
       "      <td>0.000000</td>\n",
       "    </tr>\n",
       "    <tr>\n",
       "      <th>15865</th>\n",
       "      <td>My 2006 9-3 has gone into limp home mode and I...</td>\n",
       "      <td>0.000000</td>\n",
       "    </tr>\n",
       "    <tr>\n",
       "      <th>15864</th>\n",
       "      <td>I'm currently looking at cars (online) and I c...</td>\n",
       "      <td>0.000000</td>\n",
       "    </tr>\n",
       "    <tr>\n",
       "      <th>10000</th>\n",
       "      <td>Well so, it was the 80s and 90s. Icelandic pol...</td>\n",
       "      <td>0.000000</td>\n",
       "    </tr>\n",
       "  </tbody>\n",
       "</table>\n",
       "<p>20000 rows × 2 columns</p>\n",
       "</div>"
      ],
      "text/plain": [
       "                                                    text  impurity\n",
       "19682  Looking at buying a 335i with 39k miles and 11...  0.214716\n",
       "12357  I'm looking to lease an a4 premium plus automa...  0.165099\n",
       "2730   Breakdown below:<lb><lb>Elantra GT<lb><lb>2.0L...  0.139130\n",
       "12754  Bulbs Needed:<lb><lb><lb>**194 LED BULB x8**<l...  0.132411\n",
       "10726  I currently have a deposit on a 2013 335is (CP...  0.129317\n",
       "...                                                  ...       ...\n",
       "15867  All the wash places around me are very expensi...  0.000000\n",
       "8311   I've recently been having some issues with my ...  0.000000\n",
       "15865  My 2006 9-3 has gone into limp home mode and I...  0.000000\n",
       "15864  I'm currently looking at cars (online) and I c...  0.000000\n",
       "10000  Well so, it was the 80s and 90s. Icelandic pol...  0.000000\n",
       "\n",
       "[20000 rows x 2 columns]"
      ]
     },
     "execution_count": 21,
     "metadata": {},
     "output_type": "execute_result"
    }
   ],
   "source": [
    "# Add new column to data frame.\n",
    "df[\"impurity\"] = df[\"text\"].apply(impurity, min_len=10)\n",
    "\n",
    "# Get the top 3 records.\n",
    "df[[\"text\", \"impurity\"]].sort_values(by=\"impurity\", ascending=False)"
   ]
  },
  {
   "cell_type": "code",
   "execution_count": 22,
   "id": "placed-assumption",
   "metadata": {},
   "outputs": [],
   "source": [
    "%run exploration.py"
   ]
  },
  {
   "cell_type": "code",
   "execution_count": 25,
   "id": "given-faculty",
   "metadata": {},
   "outputs": [
    {
     "data": {
      "text/html": [
       "<div>\n",
       "<style scoped>\n",
       "    .dataframe tbody tr th:only-of-type {\n",
       "        vertical-align: middle;\n",
       "    }\n",
       "\n",
       "    .dataframe tbody tr th {\n",
       "        vertical-align: top;\n",
       "    }\n",
       "\n",
       "    .dataframe thead th {\n",
       "        text-align: right;\n",
       "    }\n",
       "</style>\n",
       "<table border=\"1\" class=\"dataframe\">\n",
       "  <thead>\n",
       "    <tr style=\"text-align: right;\">\n",
       "      <th></th>\n",
       "      <th>freq</th>\n",
       "    </tr>\n",
       "    <tr>\n",
       "      <th>token</th>\n",
       "      <th></th>\n",
       "    </tr>\n",
       "  </thead>\n",
       "  <tbody>\n",
       "    <tr>\n",
       "      <th>&lt;lb&gt;</th>\n",
       "      <td>100729</td>\n",
       "    </tr>\n",
       "    <tr>\n",
       "      <th>&lt;tab&gt;</th>\n",
       "      <td>642</td>\n",
       "    </tr>\n",
       "  </tbody>\n",
       "</table>\n",
       "</div>"
      ],
      "text/plain": [
       "         freq\n",
       "token        \n",
       "<lb>   100729\n",
       "<tab>     642"
      ]
     },
     "execution_count": 25,
     "metadata": {},
     "output_type": "execute_result"
    }
   ],
   "source": [
    "count_words(df, column=\"text\", preprocess=lambda t: re.findall(r\"<[\\w/]*>\", t))"
   ]
  },
  {
   "cell_type": "markdown",
   "id": "noted-earth",
   "metadata": {},
   "source": [
    "### Blueprint: Removing Noise with Regular Expressions"
   ]
  },
  {
   "cell_type": "code",
   "execution_count": 26,
   "id": "announced-immunology",
   "metadata": {},
   "outputs": [],
   "source": [
    "import html\n",
    "\n",
    "\n",
    "def clean(text):\n",
    "    # convert html escapes like &amp; to characters.\n",
    "    text = html.unescape(text)\n",
    "\n",
    "    # tags like <tab>\n",
    "    text = re.sub(r\"<[^<>]*>\", \" \", text)\n",
    "\n",
    "    # markdown URLs like [Some text](https://....)\n",
    "    text = re.sub(r\"\\[([^\\[\\]]*)\\]\\([^\\(\\)]*\\)\", r\"\\1\", text)\n",
    "\n",
    "    # text or code in brackets like [0]\n",
    "    text = re.sub(r\"\\[[^\\[\\]]*\\]\", \" \", text)\n",
    "\n",
    "    # standalone sequences of specials, matches &# but not #cool\n",
    "    text = re.sub(r\"(?:^|\\s)[&#<>{}\\[\\]+|\\\\:-]{1,}(?:\\s|$)\", \" \", text)\n",
    "\n",
    "    # standalone sequences of hyphens like --- or ==\n",
    "    text = re.sub(r\"(?:^|\\s)[\\-=\\+]{2,}(?:\\s|$)\", \" \", text)\n",
    "\n",
    "    # sequences of white spaces\n",
    "    text = re.sub(r\"\\s+\", \" \", text)\n",
    "\n",
    "    return text.strip()"
   ]
  },
  {
   "cell_type": "code",
   "execution_count": 27,
   "id": "selected-leeds",
   "metadata": {},
   "outputs": [
    {
     "data": {
      "text/plain": [
       "\"After viewing the PINKIEPOOL Trailer it got me thinking about the best match ups. Here's my take: Deadpool Captain America\""
      ]
     },
     "execution_count": 27,
     "metadata": {},
     "output_type": "execute_result"
    }
   ],
   "source": [
    "clean_text = clean(text)\n",
    "clean_text"
   ]
  },
  {
   "cell_type": "code",
   "execution_count": 29,
   "id": "weekly-roman",
   "metadata": {},
   "outputs": [
    {
     "name": "stdout",
     "output_type": "stream",
     "text": [
      "Impurity: 0.0\n"
     ]
    }
   ],
   "source": [
    "print(\"Impurity:\", impurity(clean_text))"
   ]
  },
  {
   "cell_type": "code",
   "execution_count": 31,
   "id": "packed-spanish",
   "metadata": {},
   "outputs": [
    {
     "data": {
      "text/html": [
       "<div>\n",
       "<style scoped>\n",
       "    .dataframe tbody tr th:only-of-type {\n",
       "        vertical-align: middle;\n",
       "    }\n",
       "\n",
       "    .dataframe tbody tr th {\n",
       "        vertical-align: top;\n",
       "    }\n",
       "\n",
       "    .dataframe thead th {\n",
       "        text-align: right;\n",
       "    }\n",
       "</style>\n",
       "<table border=\"1\" class=\"dataframe\">\n",
       "  <thead>\n",
       "    <tr style=\"text-align: right;\">\n",
       "      <th></th>\n",
       "      <th>clean_text</th>\n",
       "      <th>impurity</th>\n",
       "    </tr>\n",
       "  </thead>\n",
       "  <tbody>\n",
       "    <tr>\n",
       "      <th>14058</th>\n",
       "      <td>Mustang 2018, 2019, or 2020? Must Haves!! 1. H...</td>\n",
       "      <td>0.030864</td>\n",
       "    </tr>\n",
       "    <tr>\n",
       "      <th>18934</th>\n",
       "      <td>At the dealership, they offered an option for ...</td>\n",
       "      <td>0.026455</td>\n",
       "    </tr>\n",
       "    <tr>\n",
       "      <th>16505</th>\n",
       "      <td>I am looking at four Caymans, all are in a sim...</td>\n",
       "      <td>0.024631</td>\n",
       "    </tr>\n",
       "  </tbody>\n",
       "</table>\n",
       "</div>"
      ],
      "text/plain": [
       "                                              clean_text  impurity\n",
       "14058  Mustang 2018, 2019, or 2020? Must Haves!! 1. H...  0.030864\n",
       "18934  At the dealership, they offered an option for ...  0.026455\n",
       "16505  I am looking at four Caymans, all are in a sim...  0.024631"
      ]
     },
     "execution_count": 31,
     "metadata": {},
     "output_type": "execute_result"
    }
   ],
   "source": [
    "df[\"clean_text\"] = df[\"text\"].map(clean)\n",
    "df[\"impurity\"] = df[\"clean_text\"].apply(impurity, min_len=20)\n",
    "df[[\"clean_text\", \"impurity\"]].sort_values(by=\"impurity\", ascending=False).head(3)"
   ]
  },
  {
   "cell_type": "markdown",
   "id": "cardiac-surrey",
   "metadata": {},
   "source": [
    "### Blueprint: Character Normalization with textacy"
   ]
  },
  {
   "cell_type": "code",
   "execution_count": 32,
   "id": "regulation-ranch",
   "metadata": {},
   "outputs": [],
   "source": [
    "import textacy.preprocessing as tprep"
   ]
  },
  {
   "cell_type": "code",
   "execution_count": 37,
   "id": "satisfactory-submission",
   "metadata": {},
   "outputs": [],
   "source": [
    "def normalize(text):\n",
    "    text = tprep.normalize.hyphenated_words(text)\n",
    "    text = tprep.normalize.quotation_marks(text)\n",
    "    text = tprep.normalize.unicode(text)\n",
    "    text = tprep.remove.accents(text)\n",
    "    return text"
   ]
  },
  {
   "cell_type": "code",
   "execution_count": 38,
   "id": "assigned-advocacy",
   "metadata": {},
   "outputs": [
    {
     "data": {
      "text/plain": [
       "'The cafe \"Saint-Raphael\" is located on Cote d\\'Azur.'"
      ]
     },
     "execution_count": 38,
     "metadata": {},
     "output_type": "execute_result"
    }
   ],
   "source": [
    "text = \"The café “Saint-Raphaël” is loca-\\nted on Côte dʼAzur.\"\n",
    "normalize(text)"
   ]
  },
  {
   "cell_type": "markdown",
   "id": "muslim-massage",
   "metadata": {},
   "source": [
    "### Blueprint: Pattern-Based Data Masking with textacy"
   ]
  },
  {
   "cell_type": "code",
   "execution_count": 41,
   "id": "naval-traffic",
   "metadata": {},
   "outputs": [],
   "source": [
    "from textacy.preprocessing.resources import RE_URL"
   ]
  },
  {
   "cell_type": "code",
   "execution_count": 43,
   "id": "periodic-schema",
   "metadata": {},
   "outputs": [
    {
     "data": {
      "text/html": [
       "<div>\n",
       "<style scoped>\n",
       "    .dataframe tbody tr th:only-of-type {\n",
       "        vertical-align: middle;\n",
       "    }\n",
       "\n",
       "    .dataframe tbody tr th {\n",
       "        vertical-align: top;\n",
       "    }\n",
       "\n",
       "    .dataframe thead th {\n",
       "        text-align: right;\n",
       "    }\n",
       "</style>\n",
       "<table border=\"1\" class=\"dataframe\">\n",
       "  <thead>\n",
       "    <tr style=\"text-align: right;\">\n",
       "      <th></th>\n",
       "      <th>freq</th>\n",
       "    </tr>\n",
       "    <tr>\n",
       "      <th>token</th>\n",
       "      <th></th>\n",
       "    </tr>\n",
       "  </thead>\n",
       "  <tbody>\n",
       "    <tr>\n",
       "      <th>www.getlowered.com</th>\n",
       "      <td>3</td>\n",
       "    </tr>\n",
       "    <tr>\n",
       "      <th>http://www.ecolamautomotive.com/#!2/kv7fq</th>\n",
       "      <td>2</td>\n",
       "    </tr>\n",
       "    <tr>\n",
       "      <th>https://www.reddit.com/r/Jeep/comments/4ux232/just_ordered_an_android_head_unit_joying_jeep/</th>\n",
       "      <td>2</td>\n",
       "    </tr>\n",
       "  </tbody>\n",
       "</table>\n",
       "</div>"
      ],
      "text/plain": [
       "                                                    freq\n",
       "token                                                   \n",
       "www.getlowered.com                                     3\n",
       "http://www.ecolamautomotive.com/#!2/kv7fq              2\n",
       "https://www.reddit.com/r/Jeep/comments/4ux232/j...     2"
      ]
     },
     "execution_count": 43,
     "metadata": {},
     "output_type": "execute_result"
    }
   ],
   "source": [
    "count_words(df, column=\"clean_text\", preprocess=RE_URL.findall).head(3)"
   ]
  },
  {
   "cell_type": "code",
   "execution_count": 49,
   "id": "protective-banking",
   "metadata": {},
   "outputs": [
    {
     "name": "stdout",
     "output_type": "stream",
     "text": [
      "Check out _URL_\n"
     ]
    }
   ],
   "source": [
    "from textacy.preprocessing.replace import urls as replace_urls\n",
    "\n",
    "text = \"Check out https://spacy.io/usage/spacy-101\"\n",
    "print(replace_urls(text))"
   ]
  },
  {
   "cell_type": "code",
   "execution_count": 50,
   "id": "superb-isaac",
   "metadata": {},
   "outputs": [],
   "source": [
    "df[\"clean_text\"] = df[\"clean_text\"].map(replace_urls)\n",
    "df[\"clean_text\"] = df[\"clean_text\"].map(normalize)"
   ]
  },
  {
   "cell_type": "code",
   "execution_count": 51,
   "id": "turned-satin",
   "metadata": {},
   "outputs": [],
   "source": [
    "df.rename(columns={\"text\": \"raw_text\", \"clean_text\": \"text\"}, inplace=True)\n",
    "df.drop(columns=[\"impurity\"], inplace=True)\n",
    "\n",
    "con = sqlite3.connect(db_name)\n",
    "df.to_sql(\"posts_cleaned\", con, index=False, if_exists=\"replace\")\n",
    "con.close()"
   ]
  },
  {
   "cell_type": "markdown",
   "id": "charged-found",
   "metadata": {},
   "source": [
    "## Tokenization"
   ]
  },
  {
   "cell_type": "code",
   "execution_count": null,
   "id": "median-uzbekistan",
   "metadata": {},
   "outputs": [],
   "source": []
  }
 ],
 "metadata": {
  "kernelspec": {
   "display_name": "Python 3",
   "language": "python",
   "name": "python3"
  },
  "language_info": {
   "codemirror_mode": {
    "name": "ipython",
    "version": 3
   },
   "file_extension": ".py",
   "mimetype": "text/x-python",
   "name": "python",
   "nbconvert_exporter": "python",
   "pygments_lexer": "ipython3",
   "version": "3.9.10"
  }
 },
 "nbformat": 4,
 "nbformat_minor": 5
}
