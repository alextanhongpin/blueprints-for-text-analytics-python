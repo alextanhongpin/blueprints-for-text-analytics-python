{
 "cells": [
  {
   "cell_type": "code",
   "execution_count": 5,
   "id": "binary-double",
   "metadata": {},
   "outputs": [
    {
     "name": "stderr",
     "output_type": "stream",
     "text": [
      "[nltk_data] Downloading package reuters to\n",
      "[nltk_data]     /Users/alextanhongpin/nltk_data...\n",
      "[nltk_data]   Package reuters is already up-to-date!\n"
     ]
    },
    {
     "data": {
      "text/plain": [
       "True"
      ]
     },
     "execution_count": 5,
     "metadata": {},
     "output_type": "execute_result"
    }
   ],
   "source": [
    "import nltk\n",
    "import spacy\n",
    "\n",
    "nltk.download(\"reuters\")"
   ]
  },
  {
   "cell_type": "markdown",
   "id": "nuclear-focus",
   "metadata": {},
   "source": [
    "### Named-entity recognition"
   ]
  },
  {
   "cell_type": "code",
   "execution_count": 7,
   "id": "utility-chancellor",
   "metadata": {},
   "outputs": [
    {
     "name": "stdout",
     "output_type": "stream",
     "text": [
      "('tok2vec', <spacy.pipeline.tok2vec.Tok2Vec object at 0x12f9d2c70>)\n",
      "('tagger', <spacy.pipeline.tagger.Tagger object at 0x12fb9d3b0>)\n",
      "('parser', <spacy.pipeline.dep_parser.DependencyParser object at 0x12f9e66a0>)\n",
      "('attribute_ruler', <spacy.pipeline.attributeruler.AttributeRuler object at 0x12fba00c0>)\n",
      "('lemmatizer', <spacy.lang.en.lemmatizer.EnglishLemmatizer object at 0x12fb56440>)\n",
      "('ner', <spacy.pipeline.ner.EntityRecognizer object at 0x12f9d4d60>)\n"
     ]
    }
   ],
   "source": [
    "nlp = spacy.load(\"en_core_web_sm\")\n",
    "print(*nlp.pipeline, sep=\"\\n\")"
   ]
  },
  {
   "cell_type": "code",
   "execution_count": 9,
   "id": "recovered-arbor",
   "metadata": {},
   "outputs": [
    {
     "name": "stdout",
     "output_type": "stream",
     "text": [
      "('Hughes Tool Co', 'ORG')\n",
      "('W.A. Kistler', 'PERSON')\n",
      "('Baker International Corp', 'ORG')\n",
      "('Kistler', 'ORG')\n",
      "('Baker', 'PERSON')\n",
      "('Texas', 'GPE')\n",
      "('Hughes', 'ORG')\n"
     ]
    }
   ],
   "source": [
    "text = \"\"\"Hughes Tool Co Chairman W.A. Kistler said its merger with\n",
    "Baker International Corp was still under consideration.\n",
    "We hope to come soon to a mutual agreement, Kistler said.\n",
    "The directors of Baker filed a law suit in Texas to force Hughes\n",
    "to complete the merger.\"\"\"\n",
    "\n",
    "doc = nlp(text)\n",
    "\n",
    "print(*[(e.text, e.label_) for e in doc.ents], sep=\"\\n\")"
   ]
  },
  {
   "cell_type": "code",
   "execution_count": 11,
   "id": "immune-thriller",
   "metadata": {},
   "outputs": [
    {
     "data": {
      "text/html": [
       "<span class=\"tex2jax_ignore\"><div class=\"entities\" style=\"line-height: 2.5; direction: ltr\">\n",
       "<mark class=\"entity\" style=\"background: #7aecec; padding: 0.45em 0.6em; margin: 0 0.25em; line-height: 1; border-radius: 0.35em;\">\n",
       "    Hughes Tool Co\n",
       "    <span style=\"font-size: 0.8em; font-weight: bold; line-height: 1; border-radius: 0.35em; vertical-align: middle; margin-left: 0.5rem\">ORG</span>\n",
       "</mark>\n",
       " Chairman \n",
       "<mark class=\"entity\" style=\"background: #aa9cfc; padding: 0.45em 0.6em; margin: 0 0.25em; line-height: 1; border-radius: 0.35em;\">\n",
       "    W.A. Kistler\n",
       "    <span style=\"font-size: 0.8em; font-weight: bold; line-height: 1; border-radius: 0.35em; vertical-align: middle; margin-left: 0.5rem\">PERSON</span>\n",
       "</mark>\n",
       " said its merger with</br>\n",
       "<mark class=\"entity\" style=\"background: #7aecec; padding: 0.45em 0.6em; margin: 0 0.25em; line-height: 1; border-radius: 0.35em;\">\n",
       "    Baker International Corp\n",
       "    <span style=\"font-size: 0.8em; font-weight: bold; line-height: 1; border-radius: 0.35em; vertical-align: middle; margin-left: 0.5rem\">ORG</span>\n",
       "</mark>\n",
       " was still under consideration.</br>We hope to come soon to a mutual agreement, \n",
       "<mark class=\"entity\" style=\"background: #7aecec; padding: 0.45em 0.6em; margin: 0 0.25em; line-height: 1; border-radius: 0.35em;\">\n",
       "    Kistler\n",
       "    <span style=\"font-size: 0.8em; font-weight: bold; line-height: 1; border-radius: 0.35em; vertical-align: middle; margin-left: 0.5rem\">ORG</span>\n",
       "</mark>\n",
       " said.</br>The directors of \n",
       "<mark class=\"entity\" style=\"background: #aa9cfc; padding: 0.45em 0.6em; margin: 0 0.25em; line-height: 1; border-radius: 0.35em;\">\n",
       "    Baker\n",
       "    <span style=\"font-size: 0.8em; font-weight: bold; line-height: 1; border-radius: 0.35em; vertical-align: middle; margin-left: 0.5rem\">PERSON</span>\n",
       "</mark>\n",
       " filed a law suit in \n",
       "<mark class=\"entity\" style=\"background: #feca74; padding: 0.45em 0.6em; margin: 0 0.25em; line-height: 1; border-radius: 0.35em;\">\n",
       "    Texas\n",
       "    <span style=\"font-size: 0.8em; font-weight: bold; line-height: 1; border-radius: 0.35em; vertical-align: middle; margin-left: 0.5rem\">GPE</span>\n",
       "</mark>\n",
       " to force \n",
       "<mark class=\"entity\" style=\"background: #7aecec; padding: 0.45em 0.6em; margin: 0 0.25em; line-height: 1; border-radius: 0.35em;\">\n",
       "    Hughes\n",
       "    <span style=\"font-size: 0.8em; font-weight: bold; line-height: 1; border-radius: 0.35em; vertical-align: middle; margin-left: 0.5rem\">ORG</span>\n",
       "</mark>\n",
       "</br>to complete the merger.</div></span>"
      ],
      "text/plain": [
       "<IPython.core.display.HTML object>"
      ]
     },
     "metadata": {},
     "output_type": "display_data"
    }
   ],
   "source": [
    "from spacy import displacy\n",
    "\n",
    "displacy.render(doc, style=\"ent\")"
   ]
  },
  {
   "cell_type": "markdown",
   "id": "flexible-marathon",
   "metadata": {},
   "source": [
    "### Blueprint: Using Rule-based Named-entity recognition"
   ]
  },
  {
   "cell_type": "code",
   "execution_count": 30,
   "id": "reverse-blade",
   "metadata": {},
   "outputs": [],
   "source": [
    "from spacy.pipeline import EntityRuler\n",
    "\n",
    "departments = [\"Justice\", \"Transportation\"]\n",
    "patterns = [\n",
    "    {\n",
    "        \"label\": \"GOV\",\n",
    "        \"pattern\": [\n",
    "            {\"TEXT\": \"U.S.\", \"OP\": \"?\"},\n",
    "            {\"TEXT\": \"Department\"},\n",
    "            {\"TEXT\": \"of\"},\n",
    "            {\"TEXT\": {\"IN\": departments}, \"ENT_TYPE\": \"ORG\"},\n",
    "        ],\n",
    "    },\n",
    "    {\n",
    "        \"label\": \"GOV\",\n",
    "        \"pattern\": [\n",
    "            {\"TEXT\": \"U.S.\", \"OP\": \"?\"},\n",
    "            {\"TEXT\": {\"IN\": departments}, \"ENT_TYPE\": \"ORG\"},\n",
    "            {\"TEXT\": \"Department\"},\n",
    "        ],\n",
    "    },\n",
    "    {\n",
    "        \"label\": \"GOV\",\n",
    "        \"pattern\": [\n",
    "            {\"TEXT\": \"Securities\"},\n",
    "            {\"TEXT\": \"and\"},\n",
    "            {\"TEXT\": \"Exchange\"},\n",
    "            {\"TEXT\": \"Commision\"},\n",
    "        ],\n",
    "    },\n",
    "]"
   ]
  },
  {
   "cell_type": "code",
   "execution_count": 42,
   "id": "other-aging",
   "metadata": {},
   "outputs": [],
   "source": [
    "if nlp.has_pipe(\"entity_ruler\"):\n",
    "    nlp.remove_pipe(\"entity_ruler\")\n",
    "\n",
    "entity_ruler = nlp.add_pipe(\n",
    "    \"entity_ruler\",\n",
    "    config={\n",
    "        \"overwrite_ents\": True,\n",
    "    },\n",
    ")\n",
    "entity_ruler.add_patterns(patterns)"
   ]
  },
  {
   "cell_type": "code",
   "execution_count": 43,
   "id": "quantitative-agriculture",
   "metadata": {},
   "outputs": [
    {
     "data": {
      "text/html": [
       "<span class=\"tex2jax_ignore\"><div class=\"entities\" style=\"line-height: 2.5; direction: ltr\">\n",
       "<mark class=\"entity\" style=\"background: #ddd; padding: 0.45em 0.6em; margin: 0 0.25em; line-height: 1; border-radius: 0.35em;\">\n",
       "    Justice Department\n",
       "    <span style=\"font-size: 0.8em; font-weight: bold; line-height: 1; border-radius: 0.35em; vertical-align: middle; margin-left: 0.5rem\">GOV</span>\n",
       "</mark>\n",
       " is an alias for the \n",
       "<mark class=\"entity\" style=\"background: #ddd; padding: 0.45em 0.6em; margin: 0 0.25em; line-height: 1; border-radius: 0.35em;\">\n",
       "    U.S. Department of Justice\n",
       "    <span style=\"font-size: 0.8em; font-weight: bold; line-height: 1; border-radius: 0.35em; vertical-align: middle; margin-left: 0.5rem\">GOV</span>\n",
       "</mark>\n",
       ".</br>\n",
       "<mark class=\"entity\" style=\"background: #ddd; padding: 0.45em 0.6em; margin: 0 0.25em; line-height: 1; border-radius: 0.35em;\">\n",
       "    Department of Transportation\n",
       "    <span style=\"font-size: 0.8em; font-weight: bold; line-height: 1; border-radius: 0.35em; vertical-align: middle; margin-left: 0.5rem\">GOV</span>\n",
       "</mark>\n",
       " and \n",
       "<mark class=\"entity\" style=\"background: #7aecec; padding: 0.45em 0.6em; margin: 0 0.25em; line-height: 1; border-radius: 0.35em;\">\n",
       "    the Securities and Exchange Commission\n",
       "    <span style=\"font-size: 0.8em; font-weight: bold; line-height: 1; border-radius: 0.35em; vertical-align: middle; margin-left: 0.5rem\">ORG</span>\n",
       "</mark>\n",
       "</br>are government organisations, but \n",
       "<mark class=\"entity\" style=\"background: #7aecec; padding: 0.45em 0.6em; margin: 0 0.25em; line-height: 1; border-radius: 0.35em;\">\n",
       "    the Sales Department\n",
       "    <span style=\"font-size: 0.8em; font-weight: bold; line-height: 1; border-radius: 0.35em; vertical-align: middle; margin-left: 0.5rem\">ORG</span>\n",
       "</mark>\n",
       " is not.</div></span>"
      ],
      "text/plain": [
       "<IPython.core.display.HTML object>"
      ]
     },
     "metadata": {},
     "output_type": "display_data"
    }
   ],
   "source": [
    "text = \"\"\"Justice Department is an alias for the U.S. Department of Justice.\n",
    "Department of Transportation and the Securities and Exchange Commission\n",
    "are government organisations, but the Sales Department is not.\"\"\"\n",
    "\n",
    "doc = nlp(text)\n",
    "displacy.render(doc, style=\"ent\", jupyter=True)"
   ]
  },
  {
   "cell_type": "markdown",
   "id": "trained-trance",
   "metadata": {},
   "source": [
    "### Blueprint: Normalizing Named Entities"
   ]
  },
  {
   "cell_type": "code",
   "execution_count": 44,
   "id": "chronic-cloud",
   "metadata": {},
   "outputs": [
    {
     "name": "stdout",
     "output_type": "stream",
     "text": [
      "(['Baker', 'International', \"'s\"], 'ORG')\n",
      "(['the', 'New', 'York', 'Stock', 'Exchange'], 'ORG')\n"
     ]
    }
   ],
   "source": [
    "text = \"Baker International's shares climbed on the New York Stock Exchange.\"\n",
    "\n",
    "doc = nlp(text)\n",
    "print(*[([t.text for t in e], e.label_) for e in doc.ents], sep=\"\\n\")"
   ]
  },
  {
   "cell_type": "code",
   "execution_count": 47,
   "id": "surrounded-junction",
   "metadata": {},
   "outputs": [],
   "source": [
    "from spacy import Language\n",
    "from spacy.tokens import Span\n",
    "\n",
    "\n",
    "@Language.component(\"norm_entities\")\n",
    "def norm_entities(doc):\n",
    "    ents = []\n",
    "    for ent in doc.ents:\n",
    "        if ent[0].pos_ == \"DET\":  # leading article\n",
    "            ent = Span(doc, ent.start + 1, ent.end, label=ent.label)\n",
    "        if len(ent) > 0:\n",
    "            if ent[-1].pos_ == \"PART\":  # trailing particle like 's\n",
    "                ent = Span(doc, ent.start, ent.end - 1, label=ent.label)\n",
    "            ents.append(ent)\n",
    "    doc.ents = tuple(ents)\n",
    "    return doc"
   ]
  },
  {
   "cell_type": "code",
   "execution_count": 49,
   "id": "dressed-vitamin",
   "metadata": {},
   "outputs": [
    {
     "name": "stdout",
     "output_type": "stream",
     "text": [
      "(['Baker', 'International'], 'ORG')\n",
      "(['New', 'York', 'Stock', 'Exchange'], 'ORG')\n"
     ]
    }
   ],
   "source": [
    "nlp.add_pipe(\"norm_entities\")\n",
    "doc = nlp(text)\n",
    "\n",
    "print(*[([t.text for t in e], e.label_) for e in doc.ents], sep=\"\\n\")"
   ]
  },
  {
   "cell_type": "markdown",
   "id": "possible-sherman",
   "metadata": {},
   "source": [
    "**Merging Entity Token**"
   ]
  },
  {
   "cell_type": "code",
   "execution_count": 51,
   "id": "animated-priest",
   "metadata": {},
   "outputs": [
    {
     "name": "stdout",
     "output_type": "stream",
     "text": [
      "('Baker International', 'ORG') ('New York Stock Exchange', 'ORG')\n"
     ]
    }
   ],
   "source": [
    "from spacy.pipeline import merge_entities\n",
    "\n",
    "if nlp.has_pipe(\"merge_entities\"):  ###\n",
    "    _ = nlp.remove_pipe(\"merge_entities\")  ###\n",
    "nlp.add_pipe(\"merge_entities\")\n",
    "\n",
    "doc = nlp(text)\n",
    "print(*[(t.text, t.ent_type_) for t in doc if t.ent_type_ != \"\"])"
   ]
  },
  {
   "cell_type": "code",
   "execution_count": null,
   "id": "settled-element",
   "metadata": {},
   "outputs": [],
   "source": []
  }
 ],
 "metadata": {
  "kernelspec": {
   "display_name": "Python 3 (ipykernel)",
   "language": "python",
   "name": "python3"
  },
  "language_info": {
   "codemirror_mode": {
    "name": "ipython",
    "version": 3
   },
   "file_extension": ".py",
   "mimetype": "text/x-python",
   "name": "python",
   "nbconvert_exporter": "python",
   "pygments_lexer": "ipython3",
   "version": "3.9.10"
  }
 },
 "nbformat": 4,
 "nbformat_minor": 5
}
