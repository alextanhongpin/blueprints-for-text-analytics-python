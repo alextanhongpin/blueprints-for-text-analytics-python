{
 "cells": [
  {
   "cell_type": "markdown",
   "id": "tired-constitution",
   "metadata": {},
   "source": [
    "# What you will learn\n",
    "\n",
    "- how to apply supervised learning techniques\n",
    "- splitting the data into train and test\n",
    "- validating model performance using accuracy measures\n",
    "- applying cross-validation techniques"
   ]
  },
  {
   "cell_type": "code",
   "execution_count": 1,
   "id": "retired-heather",
   "metadata": {},
   "outputs": [
    {
     "name": "stdout",
     "output_type": "stream",
     "text": [
      "Index(['Issue_id', 'Priority', 'Component', 'Duplicated_issue', 'Title',\n",
      "       'Description', 'Status', 'Resolution', 'Version', 'Created_time',\n",
      "       'Resolved_time'],\n",
      "      dtype='object')\n"
     ]
    }
   ],
   "source": [
    "import pandas as pd\n",
    "\n",
    "pd.set_option(\"display.max_columns\", None)\n",
    "pd.set_option(\"display.expand_frame_repr\", False)\n",
    "pd.set_option(\"max_colwidth\", None)\n",
    "\n",
    "df = pd.read_csv(\"data/eclipse_jdt.csv.gz\")\n",
    "print(df.columns)"
   ]
  },
  {
   "cell_type": "code",
   "execution_count": 2,
   "id": "analyzed-andrew",
   "metadata": {},
   "outputs": [
    {
     "data": {
      "text/html": [
       "<div>\n",
       "<style scoped>\n",
       "    .dataframe tbody tr th:only-of-type {\n",
       "        vertical-align: middle;\n",
       "    }\n",
       "\n",
       "    .dataframe tbody tr th {\n",
       "        vertical-align: top;\n",
       "    }\n",
       "\n",
       "    .dataframe thead th {\n",
       "        text-align: right;\n",
       "    }\n",
       "</style>\n",
       "<table border=\"1\" class=\"dataframe\">\n",
       "  <thead>\n",
       "    <tr style=\"text-align: right;\">\n",
       "      <th></th>\n",
       "      <th>Issue_id</th>\n",
       "      <th>Priority</th>\n",
       "      <th>Component</th>\n",
       "      <th>Title</th>\n",
       "      <th>Description</th>\n",
       "    </tr>\n",
       "  </thead>\n",
       "  <tbody>\n",
       "    <tr>\n",
       "      <th>4699</th>\n",
       "      <td>12525</td>\n",
       "      <td>P1</td>\n",
       "      <td>UI</td>\n",
       "      <td>NPE in extract method</td>\n",
       "      <td>in junit.awtui.TestRunner in the method createUI try to extract the ; following range:; ; ; \\t\\tPanel numbersPanel= &lt;START&gt;new Panel(new FlowLayout());; \\t\\tnumbersPanel.add(new Label(Runs:));\\t\\t; \\tnumbersPanel.add(fNumberOfRuns);; \\t\\tnumbersPanel.add(new Label(   Errors:));\\t; \\tnumbersPanel.add(fNumberOfErrors);; \\t\\tnumbersPanel.add(new Label(   Failures:));\\tnumbersPanel.add; (fNumberOfFailures); &lt;END&gt;; ; You get a walkback:; java.lang.NullPointerException; \\tat ; org.eclipse.jdt.internal.corext.dom.SelectionAnalyzer.handleNextSelectedNode; (SelectionAnalyzer.java:97); \\tat ; org.eclipse.jdt.internal.corext.refactoring.code.ExtractMethodAnalyzer.handleNex; tSelectedNode(ExtractMethodAnalyzer.java:384); \\tat org.eclipse.jdt.internal.corext.dom.SelectionAnalyzer.visitNode; (SelectionAnalyzer.java:73); \\tat org.eclipse.jdt.internal.corext.dom.GenericVisitor.visit; (GenericVisitor.java:83); \\tat org.eclipse.jdt.core.dom.ExpressionStatement.accept0; (ExpressionStatement.java:71); \\tat org.eclipse.jdt.core.dom.ASTNode.acceptChildren(ASTNode.java:986); \\tat org.eclipse.jdt.core.dom.Block.accept0(Block.java:73); \\tat org.eclipse.jdt.core.dom.ASTNode.acceptChild(ASTNode.java:957); \\tat org.eclipse.jdt.core.dom.MethodDeclaration.accept0; (MethodDeclaration.java:173); \\tat org.eclipse.jdt.core.dom.ASTNode.acceptChildren(ASTNode.java:986); \\tat org.eclipse.jdt.core.dom.TypeDeclaration.accept0; (TypeDeclaration.java:153); \\tat org.eclipse.jdt.core.dom.ASTNode.acceptChildren(ASTNode.java:986); \\tat org.eclipse.jdt.core.dom.CompilationUnit.accept0; (CompilationUnit.java:138); \\tat org.eclipse.jdt.core.dom.ASTNode.accept(ASTNode.java:906); \\tat ; org.eclipse.jdt.internal.corext.refactoring.code.ExtractMethodRefactoring.checkA; ctivation(ExtractMethodRefactoring.java:161); \\tat ; org.eclipse.jdt.internal.ui.refactoring.actions.RefactoringStarter.activate; (RefactoringStarter.java:74); \\tat ; org.eclipse.jdt.internal.ui.refactoring.actions.TextSelectionBasedRefactoringAct; ion.run(TextSelectionBasedRefactoringAction.java:28); \\tat ; org.eclipse.jdt.internal.ui.refactoring.actions.TextSelectionAction.run; (TextSelectionAction.java:80); \\tat org.eclipse.ui.internal.PluginAction.runWithEvent; (PluginAction.java:204); \\tat org.eclipse.jface.action.ActionContributionItem.handleWidgetSelection; (ActionContributionItem.java:407); \\tat org.eclipse.jface.action.ActionContributionItem.handleWidgetEvent; (ActionContributionItem.java(Compiled Code)); \\tat ; org.eclipse.jface.action.ActionContributionItem$ActionListener.handleEvent; (ActionContributionItem.java(Compiled Code)); \\tat ; org.eclipse.jface.action.ActionContributionItem$ActionListener.handleEvent; (ActionContributionItem.java(Compiled Code)); \\tat org.eclipse.swt.widgets.EventTable.sendEvent(EventTable.java; (Compiled Code)); \\tat org.eclipse.swt.widgets.Widget.notifyListeners(Widget.java(Compiled ; Code)); \\tat org.eclipse.swt.widgets.Display.runDeferredEvents(Display.java; (Compiled Code)); \\tat org.eclipse.swt.widgets.Display.readAndDispatch(Display.java; (Compiled Code)); \\tat org.eclipse.ui.internal.Workbench.runEventLoop(Workbench.java; (Compiled Code)); \\tat org.eclipse.ui.internal.Workbench.run(Workbench.java:705); \\tat org.eclipse.core.internal.boot.InternalBootLoader.run; (InternalBootLoader.java:777); \\tat org.eclipse.core.boot.BootLoader.run(BootLoader.java:319); \\tat java.lang.reflect.Method.invoke(Native Method); \\tat org.eclipse.core.launcher.Main.basicRun(Main.java:196); \\tat org.eclipse.core.launcher.Main.run(Main.java:555); \\tat org.eclipse.core.launcher.UIMain.main(UIMain.java:52)</td>\n",
       "    </tr>\n",
       "    <tr>\n",
       "      <th>24679</th>\n",
       "      <td>87521</td>\n",
       "      <td>P3</td>\n",
       "      <td>UI</td>\n",
       "      <td>[quick fix] Automate remove unneccesary cast operation</td>\n",
       "      <td>Please add a feature to automatically remove all unnecessary casts in an entire; project.  Sometimes there are thousands of them and it takes a long time to do; each on individually.</td>\n",
       "    </tr>\n",
       "  </tbody>\n",
       "</table>\n",
       "</div>"
      ],
      "text/plain": [
       "       Issue_id Priority Component                                                   Title                                                                                                                                                                                                                                                                                                                                                                                                                                                                                                                                                                                                                                                                                                                                                                                                                                                                                                                                                                                                                                                                                                                                                                                                                                                                                                                                                                                                                                                                                                                                                                                                                                                                                                                                                                                                                                                                                                                                                                                                                                                                                                                                                                                                                                                                                                                                                                                                                                                                                                                                                                                                                                                                                                                                                                                                                                                                                                                                                                                                                                                                                                                                                                                                                                                                                                                                                                                                                                                                                                                                                                                                                                                                                                                                          Description\n",
       "4699      12525       P1        UI                                   NPE in extract method  in junit.awtui.TestRunner in the method createUI try to extract the ; following range:; ; ; \\t\\tPanel numbersPanel= <START>new Panel(new FlowLayout());; \\t\\tnumbersPanel.add(new Label(Runs:));\\t\\t; \\tnumbersPanel.add(fNumberOfRuns);; \\t\\tnumbersPanel.add(new Label(   Errors:));\\t; \\tnumbersPanel.add(fNumberOfErrors);; \\t\\tnumbersPanel.add(new Label(   Failures:));\\tnumbersPanel.add; (fNumberOfFailures); <END>; ; You get a walkback:; java.lang.NullPointerException; \\tat ; org.eclipse.jdt.internal.corext.dom.SelectionAnalyzer.handleNextSelectedNode; (SelectionAnalyzer.java:97); \\tat ; org.eclipse.jdt.internal.corext.refactoring.code.ExtractMethodAnalyzer.handleNex; tSelectedNode(ExtractMethodAnalyzer.java:384); \\tat org.eclipse.jdt.internal.corext.dom.SelectionAnalyzer.visitNode; (SelectionAnalyzer.java:73); \\tat org.eclipse.jdt.internal.corext.dom.GenericVisitor.visit; (GenericVisitor.java:83); \\tat org.eclipse.jdt.core.dom.ExpressionStatement.accept0; (ExpressionStatement.java:71); \\tat org.eclipse.jdt.core.dom.ASTNode.acceptChildren(ASTNode.java:986); \\tat org.eclipse.jdt.core.dom.Block.accept0(Block.java:73); \\tat org.eclipse.jdt.core.dom.ASTNode.acceptChild(ASTNode.java:957); \\tat org.eclipse.jdt.core.dom.MethodDeclaration.accept0; (MethodDeclaration.java:173); \\tat org.eclipse.jdt.core.dom.ASTNode.acceptChildren(ASTNode.java:986); \\tat org.eclipse.jdt.core.dom.TypeDeclaration.accept0; (TypeDeclaration.java:153); \\tat org.eclipse.jdt.core.dom.ASTNode.acceptChildren(ASTNode.java:986); \\tat org.eclipse.jdt.core.dom.CompilationUnit.accept0; (CompilationUnit.java:138); \\tat org.eclipse.jdt.core.dom.ASTNode.accept(ASTNode.java:906); \\tat ; org.eclipse.jdt.internal.corext.refactoring.code.ExtractMethodRefactoring.checkA; ctivation(ExtractMethodRefactoring.java:161); \\tat ; org.eclipse.jdt.internal.ui.refactoring.actions.RefactoringStarter.activate; (RefactoringStarter.java:74); \\tat ; org.eclipse.jdt.internal.ui.refactoring.actions.TextSelectionBasedRefactoringAct; ion.run(TextSelectionBasedRefactoringAction.java:28); \\tat ; org.eclipse.jdt.internal.ui.refactoring.actions.TextSelectionAction.run; (TextSelectionAction.java:80); \\tat org.eclipse.ui.internal.PluginAction.runWithEvent; (PluginAction.java:204); \\tat org.eclipse.jface.action.ActionContributionItem.handleWidgetSelection; (ActionContributionItem.java:407); \\tat org.eclipse.jface.action.ActionContributionItem.handleWidgetEvent; (ActionContributionItem.java(Compiled Code)); \\tat ; org.eclipse.jface.action.ActionContributionItem$ActionListener.handleEvent; (ActionContributionItem.java(Compiled Code)); \\tat ; org.eclipse.jface.action.ActionContributionItem$ActionListener.handleEvent; (ActionContributionItem.java(Compiled Code)); \\tat org.eclipse.swt.widgets.EventTable.sendEvent(EventTable.java; (Compiled Code)); \\tat org.eclipse.swt.widgets.Widget.notifyListeners(Widget.java(Compiled ; Code)); \\tat org.eclipse.swt.widgets.Display.runDeferredEvents(Display.java; (Compiled Code)); \\tat org.eclipse.swt.widgets.Display.readAndDispatch(Display.java; (Compiled Code)); \\tat org.eclipse.ui.internal.Workbench.runEventLoop(Workbench.java; (Compiled Code)); \\tat org.eclipse.ui.internal.Workbench.run(Workbench.java:705); \\tat org.eclipse.core.internal.boot.InternalBootLoader.run; (InternalBootLoader.java:777); \\tat org.eclipse.core.boot.BootLoader.run(BootLoader.java:319); \\tat java.lang.reflect.Method.invoke(Native Method); \\tat org.eclipse.core.launcher.Main.basicRun(Main.java:196); \\tat org.eclipse.core.launcher.Main.run(Main.java:555); \\tat org.eclipse.core.launcher.UIMain.main(UIMain.java:52)\n",
       "24679     87521       P3        UI  [quick fix] Automate remove unneccesary cast operation                                                                                                                                                                                                                                                                                                                                                                                                                                                                                                                                                                                                                                                                                                                                                                                                                                                                                                                                                                                                                                                                                                                                                                                                                                                                                                                                                                                                                                                                                                                                                                                                                                                                                                                                                                                                                                                                                                                                                                                                                                                                                                                                                                                                                                                                                                                                                                                                                                                                                                                                                                                                                                                                                                                                                                                                                                                                                                                                                                                                                                                                                                                                                                                                                                                                                                                                                                                                                                                                                                                                                               Please add a feature to automatically remove all unnecessary casts in an entire; project.  Sometimes there are thousands of them and it takes a long time to do; each on individually."
      ]
     },
     "execution_count": 2,
     "metadata": {},
     "output_type": "execute_result"
    }
   ],
   "source": [
    "df[[\"Issue_id\", \"Priority\", \"Component\", \"Title\", \"Description\"]].sample(2)"
   ]
  },
  {
   "cell_type": "code",
   "execution_count": 3,
   "id": "collectible-minutes",
   "metadata": {},
   "outputs": [
    {
     "name": "stdout",
     "output_type": "stream",
     "text": [
      "<class 'pandas.core.frame.DataFrame'>\n",
      "RangeIndex: 45296 entries, 0 to 45295\n",
      "Data columns (total 11 columns):\n",
      " #   Column            Non-Null Count  Dtype  \n",
      "---  ------            --------------  -----  \n",
      " 0   Issue_id          45296 non-null  int64  \n",
      " 1   Priority          45296 non-null  object \n",
      " 2   Component         45296 non-null  object \n",
      " 3   Duplicated_issue  7688 non-null   float64\n",
      " 4   Title             45296 non-null  object \n",
      " 5   Description       45253 non-null  object \n",
      " 6   Status            45296 non-null  object \n",
      " 7   Resolution        45296 non-null  object \n",
      " 8   Version           45296 non-null  object \n",
      " 9   Created_time      45296 non-null  object \n",
      " 10  Resolved_time     45296 non-null  object \n",
      "dtypes: float64(1), int64(1), object(9)\n",
      "memory usage: 3.8+ MB\n"
     ]
    }
   ],
   "source": [
    "df.info()"
   ]
  },
  {
   "cell_type": "code",
   "execution_count": 4,
   "id": "educated-saver",
   "metadata": {},
   "outputs": [
    {
     "data": {
      "text/html": [
       "<div>\n",
       "<style scoped>\n",
       "    .dataframe tbody tr th:only-of-type {\n",
       "        vertical-align: middle;\n",
       "    }\n",
       "\n",
       "    .dataframe tbody tr th {\n",
       "        vertical-align: top;\n",
       "    }\n",
       "\n",
       "    .dataframe thead th {\n",
       "        text-align: right;\n",
       "    }\n",
       "</style>\n",
       "<table border=\"1\" class=\"dataframe\">\n",
       "  <thead>\n",
       "    <tr style=\"text-align: right;\">\n",
       "      <th></th>\n",
       "      <th>Issue_id</th>\n",
       "      <th>Duplicated_issue</th>\n",
       "    </tr>\n",
       "  </thead>\n",
       "  <tbody>\n",
       "    <tr>\n",
       "      <th>count</th>\n",
       "      <td>45296.000000</td>\n",
       "      <td>7688.000000</td>\n",
       "    </tr>\n",
       "    <tr>\n",
       "      <th>mean</th>\n",
       "      <td>115382.154097</td>\n",
       "      <td>95391.218132</td>\n",
       "    </tr>\n",
       "    <tr>\n",
       "      <th>std</th>\n",
       "      <td>109016.589026</td>\n",
       "      <td>94600.431707</td>\n",
       "    </tr>\n",
       "    <tr>\n",
       "      <th>min</th>\n",
       "      <td>1518.000000</td>\n",
       "      <td>10.000000</td>\n",
       "    </tr>\n",
       "    <tr>\n",
       "      <th>25%</th>\n",
       "      <td>31741.000000</td>\n",
       "      <td>28330.750000</td>\n",
       "    </tr>\n",
       "    <tr>\n",
       "      <th>50%</th>\n",
       "      <td>78303.500000</td>\n",
       "      <td>63564.000000</td>\n",
       "    </tr>\n",
       "    <tr>\n",
       "      <th>75%</th>\n",
       "      <td>166469.000000</td>\n",
       "      <td>131405.000000</td>\n",
       "    </tr>\n",
       "    <tr>\n",
       "      <th>max</th>\n",
       "      <td>424785.000000</td>\n",
       "      <td>424403.000000</td>\n",
       "    </tr>\n",
       "  </tbody>\n",
       "</table>\n",
       "</div>"
      ],
      "text/plain": [
       "            Issue_id  Duplicated_issue\n",
       "count   45296.000000       7688.000000\n",
       "mean   115382.154097      95391.218132\n",
       "std    109016.589026      94600.431707\n",
       "min      1518.000000         10.000000\n",
       "25%     31741.000000      28330.750000\n",
       "50%     78303.500000      63564.000000\n",
       "75%    166469.000000     131405.000000\n",
       "max    424785.000000     424403.000000"
      ]
     },
     "execution_count": 4,
     "metadata": {},
     "output_type": "execute_result"
    }
   ],
   "source": [
    "df.describe()"
   ]
  },
  {
   "cell_type": "code",
   "execution_count": 5,
   "id": "thirty-brook",
   "metadata": {},
   "outputs": [
    {
     "data": {
      "text/plain": [
       "Issue_id                0\n",
       "Priority                0\n",
       "Component               0\n",
       "Duplicated_issue    37608\n",
       "Title                   0\n",
       "Description            43\n",
       "Status                  0\n",
       "Resolution              0\n",
       "Version                 0\n",
       "Created_time            0\n",
       "Resolved_time           0\n",
       "dtype: int64"
      ]
     },
     "execution_count": 5,
     "metadata": {},
     "output_type": "execute_result"
    }
   ],
   "source": [
    "df.isna().sum()"
   ]
  },
  {
   "cell_type": "markdown",
   "id": "faced-permission",
   "metadata": {},
   "source": [
    "- issue id: The primary key for the issued used to track the bug\n",
    "- priority: this varies from P1 (most critical) to P5 (least critical) and defines the severity of the bug (a categorical field)\n",
    "- component: this refers to specific architectural part of the project where the bug occurs. This could be UI, the APT etc (a categorical field)\n",
    "- title: this is a short summary entered by the user that briefly describes the bug (a full text field)\n",
    "- description: this is a more detailed description of the software behaviour that produces the bug and it's impact on the usage (a full text field)"
   ]
  },
  {
   "cell_type": "code",
   "execution_count": 6,
   "id": "prospective-sapphire",
   "metadata": {},
   "outputs": [
    {
     "data": {
      "text/plain": [
       "Issue_id              int64\n",
       "Priority             object\n",
       "Component            object\n",
       "Duplicated_issue    float64\n",
       "Title                object\n",
       "Description          object\n",
       "Status               object\n",
       "Resolution           object\n",
       "Version              object\n",
       "Created_time         object\n",
       "Resolved_time        object\n",
       "dtype: object"
      ]
     },
     "execution_count": 6,
     "metadata": {},
     "output_type": "execute_result"
    }
   ],
   "source": [
    "df.dtypes"
   ]
  },
  {
   "cell_type": "code",
   "execution_count": 7,
   "id": "egyptian-integer",
   "metadata": {},
   "outputs": [
    {
     "data": {
      "text/plain": [
       "Issue_id            45296\n",
       "Priority                5\n",
       "Component               6\n",
       "Duplicated_issue     4894\n",
       "Title               44811\n",
       "Description         44663\n",
       "Status                  3\n",
       "Resolution              7\n",
       "Version                40\n",
       "Created_time        43239\n",
       "Resolved_time       42754\n",
       "dtype: int64"
      ]
     },
     "execution_count": 7,
     "metadata": {},
     "output_type": "execute_result"
    }
   ],
   "source": [
    "df.nunique()"
   ]
  },
  {
   "cell_type": "code",
   "execution_count": 8,
   "id": "latest-trauma",
   "metadata": {},
   "outputs": [
    {
     "data": {
      "text/html": [
       "<div>\n",
       "<style scoped>\n",
       "    .dataframe tbody tr th:only-of-type {\n",
       "        vertical-align: middle;\n",
       "    }\n",
       "\n",
       "    .dataframe tbody tr th {\n",
       "        vertical-align: top;\n",
       "    }\n",
       "\n",
       "    .dataframe thead th {\n",
       "        text-align: right;\n",
       "    }\n",
       "</style>\n",
       "<table border=\"1\" class=\"dataframe\">\n",
       "  <thead>\n",
       "    <tr style=\"text-align: right;\">\n",
       "      <th></th>\n",
       "      <th>4419</th>\n",
       "    </tr>\n",
       "  </thead>\n",
       "  <tbody>\n",
       "    <tr>\n",
       "      <th>Issue_id</th>\n",
       "      <td>11789</td>\n",
       "    </tr>\n",
       "    <tr>\n",
       "      <th>Priority</th>\n",
       "      <td>P2</td>\n",
       "    </tr>\n",
       "    <tr>\n",
       "      <th>Component</th>\n",
       "      <td>UI</td>\n",
       "    </tr>\n",
       "    <tr>\n",
       "      <th>Duplicated_issue</th>\n",
       "      <td>NaN</td>\n",
       "    </tr>\n",
       "    <tr>\n",
       "      <th>Title</th>\n",
       "      <td>clipboard based copying of java resources - inconsistent paste targets</td>\n",
       "    </tr>\n",
       "    <tr>\n",
       "      <th>Description</th>\n",
       "      <td>projects:;   target position is always a child of the (invisible) root;;   no matter what was selected; ; other resources:;   target position is child of selected root; ; Explorer pastes resources as neighbours -&gt; I can hit CTRL-C; CTRL-V in a row; and have a new copy; w/o needing to select the parent resource.</td>\n",
       "    </tr>\n",
       "    <tr>\n",
       "      <th>Status</th>\n",
       "      <td>RESOLVED</td>\n",
       "    </tr>\n",
       "    <tr>\n",
       "      <th>Resolution</th>\n",
       "      <td>FIXED</td>\n",
       "    </tr>\n",
       "    <tr>\n",
       "      <th>Version</th>\n",
       "      <td>2.0</td>\n",
       "    </tr>\n",
       "    <tr>\n",
       "      <th>Created_time</th>\n",
       "      <td>2002-03-20 05:17:00 -0500</td>\n",
       "    </tr>\n",
       "    <tr>\n",
       "      <th>Resolved_time</th>\n",
       "      <td>2002-04-02 09:23:43 -0500</td>\n",
       "    </tr>\n",
       "  </tbody>\n",
       "</table>\n",
       "</div>"
      ],
      "text/plain": [
       "                                                                                                                                                                                                                                                                                                                                      4419\n",
       "Issue_id                                                                                                                                                                                                                                                                                                                             11789\n",
       "Priority                                                                                                                                                                                                                                                                                                                                P2\n",
       "Component                                                                                                                                                                                                                                                                                                                               UI\n",
       "Duplicated_issue                                                                                                                                                                                                                                                                                                                       NaN\n",
       "Title                                                                                                                                                                                                                                                               clipboard based copying of java resources - inconsistent paste targets\n",
       "Description       projects:;   target position is always a child of the (invisible) root;;   no matter what was selected; ; other resources:;   target position is child of selected root; ; Explorer pastes resources as neighbours -> I can hit CTRL-C; CTRL-V in a row; and have a new copy; w/o needing to select the parent resource.\n",
       "Status                                                                                                                                                                                                                                                                                                                            RESOLVED\n",
       "Resolution                                                                                                                                                                                                                                                                                                                           FIXED\n",
       "Version                                                                                                                                                                                                                                                                                                                                2.0\n",
       "Created_time                                                                                                                                                                                                                                                                                                     2002-03-20 05:17:00 -0500\n",
       "Resolved_time                                                                                                                                                                                                                                                                                                    2002-04-02 09:23:43 -0500"
      ]
     },
     "execution_count": 8,
     "metadata": {},
     "output_type": "execute_result"
    }
   ],
   "source": [
    "df.sample(1).T"
   ]
  },
  {
   "cell_type": "code",
   "execution_count": 9,
   "id": "colored-fairy",
   "metadata": {},
   "outputs": [
    {
     "data": {
      "text/plain": [
       "<AxesSubplot:>"
      ]
     },
     "execution_count": 9,
     "metadata": {},
     "output_type": "execute_result"
    },
    {
     "data": {
      "image/png": "[encoded data removed]",
      "text/plain": [
       "<Figure size 432x288 with 1 Axes>"
      ]
     },
     "metadata": {
      "needs_background": "light"
     },
     "output_type": "display_data"
    }
   ],
   "source": [
    "df[\"Priority\"].value_counts().sort_index().plot(kind=\"bar\")"
   ]
  },
  {
   "cell_type": "code",
   "execution_count": 10,
   "id": "moving-canadian",
   "metadata": {},
   "outputs": [
    {
     "data": {
      "text/plain": [
       "UI       17479\n",
       "Core     13669\n",
       "Debug     7542\n",
       "Text      5901\n",
       "APT        406\n",
       "Doc        299\n",
       "Name: Component, dtype: int64"
      ]
     },
     "execution_count": 10,
     "metadata": {},
     "output_type": "execute_result"
    }
   ],
   "source": [
    "df[\"Component\"].value_counts()"
   ]
  },
  {
   "cell_type": "markdown",
   "id": "injured-disclaimer",
   "metadata": {},
   "source": [
    "### Blueprint: Building a Text Classification System"
   ]
  },
  {
   "cell_type": "markdown",
   "id": "encouraging-nepal",
   "metadata": {},
   "source": [
    "**Step 1: Data Preparation**"
   ]
  },
  {
   "cell_type": "code",
   "execution_count": 11,
   "id": "handled-enclosure",
   "metadata": {},
   "outputs": [
    {
     "data": {
      "text/plain": [
       "Index(['Priority', 'text'], dtype='object')"
      ]
     },
     "execution_count": 11,
     "metadata": {},
     "output_type": "execute_result"
    }
   ],
   "source": [
    "df = df[[\"Title\", \"Description\", \"Priority\"]]\n",
    "df = df.dropna()\n",
    "df[\"text\"] = df[\"Title\"] + \" \" + df[\"Description\"]\n",
    "df = df.drop(columns=[\"Title\", \"Description\"])\n",
    "df.columns"
   ]
  },
  {
   "cell_type": "code",
   "execution_count": 12,
   "id": "arabic-manhattan",
   "metadata": {},
   "outputs": [
    {
     "data": {
      "text/html": [
       "<div>\n",
       "<style scoped>\n",
       "    .dataframe tbody tr th:only-of-type {\n",
       "        vertical-align: middle;\n",
       "    }\n",
       "\n",
       "    .dataframe tbody tr th {\n",
       "        vertical-align: top;\n",
       "    }\n",
       "\n",
       "    .dataframe thead th {\n",
       "        text-align: right;\n",
       "    }\n",
       "</style>\n",
       "<table border=\"1\" class=\"dataframe\">\n",
       "  <thead>\n",
       "    <tr style=\"text-align: right;\">\n",
       "      <th></th>\n",
       "      <th>Priority</th>\n",
       "      <th>text</th>\n",
       "    </tr>\n",
       "  </thead>\n",
       "  <tbody>\n",
       "    <tr>\n",
       "      <th>16632</th>\n",
       "      <td>P3</td>\n",
       "      <td>WIBNI there was a parameter warning class too specific When a parameter is passed to a method; it would be nice to be warned if the ; methods used on the parameter object were checked and a warning generated that ; the class is too specific. For example; if a parameter fred is declared as ; ArrayList and only the method iterator is called then the warning; The ArrayList argument fred may be replaced by more general base class ; Collection or some such.</td>\n",
       "    </tr>\n",
       "    <tr>\n",
       "      <th>41045</th>\n",
       "      <td>P3</td>\n",
       "      <td>Built-in compiler wont compile DocumentBuilderFactory.setXIncludeAware The following program does not compile inside eclipse. dbf.setXIncludeAware fails. Outside eclipse I can compile with no problem. Im using IBM Java 1.6 SR7 on Centos 5.4 x86_64 to run eclipse and have no other JVMs. Eclipse is running under this jvm; ; import javax.xml.parsers.*;; public class junk {; public void foo() {; javax.xml.parsers.DocumentBuilderFactory dbf = DocumentBuilderFactory.newInstance();; dbf.setXIncludeAware(true);; }; }; ; ; ; Configuration Details --; Product: Eclipse 1.2.2.20100122-1337 (org.eclipse.epp.package.java.product); Installed Features:; org.eclipse.jdt 3.5.2.r352_v20100108-7r88FEwFI0WTuoBl0iaG0tyhfZH6</td>\n",
       "    </tr>\n",
       "  </tbody>\n",
       "</table>\n",
       "</div>"
      ],
      "text/plain": [
       "      Priority                                                                                                                                                                                                                                                                                                                                                                                                                                                                                                                                                                                                                                                                                                                                     text\n",
       "16632       P3                                                                                                                                                                                                                                                                 WIBNI there was a parameter warning class too specific When a parameter is passed to a method; it would be nice to be warned if the ; methods used on the parameter object were checked and a warning generated that ; the class is too specific. For example; if a parameter fred is declared as ; ArrayList and only the method iterator is called then the warning; The ArrayList argument fred may be replaced by more general base class ; Collection or some such.\n",
       "41045       P3  Built-in compiler wont compile DocumentBuilderFactory.setXIncludeAware The following program does not compile inside eclipse. dbf.setXIncludeAware fails. Outside eclipse I can compile with no problem. Im using IBM Java 1.6 SR7 on Centos 5.4 x86_64 to run eclipse and have no other JVMs. Eclipse is running under this jvm; ; import javax.xml.parsers.*;; public class junk {; public void foo() {; javax.xml.parsers.DocumentBuilderFactory dbf = DocumentBuilderFactory.newInstance();; dbf.setXIncludeAware(true);; }; }; ; ; ; Configuration Details --; Product: Eclipse 1.2.2.20100122-1337 (org.eclipse.epp.package.java.product); Installed Features:; org.eclipse.jdt 3.5.2.r352_v20100108-7r88FEwFI0WTuoBl0iaG0tyhfZH6"
      ]
     },
     "execution_count": 12,
     "metadata": {},
     "output_type": "execute_result"
    }
   ],
   "source": [
    "%run preprocess.py\n",
    "\n",
    "df[\"text\"] = df[\"text\"].map(clean)\n",
    "df = df[df[\"text\"].str.len() > 50]\n",
    "df.sample(2)"
   ]
  },
  {
   "cell_type": "markdown",
   "id": "centered-technical",
   "metadata": {},
   "source": [
    "**Step 2: Train-test split**"
   ]
  },
  {
   "cell_type": "code",
   "execution_count": 14,
   "id": "ranging-glasgow",
   "metadata": {},
   "outputs": [
    {
     "name": "stdout",
     "output_type": "stream",
     "text": [
      "Size of training data: 36040\n",
      "Size of test data: 9011\n"
     ]
    }
   ],
   "source": [
    "from sklearn.model_selection import train_test_split\n",
    "\n",
    "X_train, X_test, y_train, y_test = train_test_split(\n",
    "    df[\"text\"], df[\"Priority\"], test_size=0.2, random_state=42, stratify=df[\"Priority\"]\n",
    ")\n",
    "print(\"Size of training data:\", X_train.shape[0])\n",
    "print(\"Size of test data:\", X_test.shape[0])"
   ]
  },
  {
   "cell_type": "markdown",
   "id": "amateur-asthma",
   "metadata": {},
   "source": [
    "**Step 3: Training the Machine Learning Model**"
   ]
  },
  {
   "cell_type": "code",
   "execution_count": 15,
   "id": "established-civilian",
   "metadata": {},
   "outputs": [],
   "source": [
    "from sklearn.feature_extraction.text import TfidfVectorizer\n",
    "\n",
    "tfidf = TfidfVectorizer(min_df=10, ngram_range=(1, 2), stop_words=\"english\")\n",
    "X_train_tf = tfidf.fit_transform(X_train)"
   ]
  },
  {
   "cell_type": "code",
   "execution_count": 16,
   "id": "differential-insurance",
   "metadata": {},
   "outputs": [
    {
     "data": {
      "text/plain": [
       "LinearSVC(random_state=0, tol=1e-05)"
      ]
     },
     "execution_count": 16,
     "metadata": {},
     "output_type": "execute_result"
    }
   ],
   "source": [
    "from sklearn.svm import LinearSVC\n",
    "\n",
    "model1 = LinearSVC(random_state=0, tol=1e-5)\n",
    "model1.fit(X_train_tf, y_train)"
   ]
  },
  {
   "cell_type": "markdown",
   "id": "behavioral-importance",
   "metadata": {},
   "source": [
    "**Step 4: Model Evaluation**"
   ]
  },
  {
   "cell_type": "code",
   "execution_count": 23,
   "id": "exterior-faculty",
   "metadata": {},
   "outputs": [
    {
     "name": "stdout",
     "output_type": "stream",
     "text": [
      "Accuracy score - 0.8761513705471091\n"
     ]
    }
   ],
   "source": [
    "from sklearn.metrics import accuracy_score\n",
    "\n",
    "X_test_tf = tfidf.transform(X_test)\n",
    "y_pred = model1.predict(X_test_tf)\n",
    "\n",
    "print(\"Accuracy score -\", accuracy_score(y_test, y_pred))"
   ]
  },
  {
   "cell_type": "code",
   "execution_count": 27,
   "id": "therapeutic-sapphire",
   "metadata": {},
   "outputs": [
    {
     "name": "stdout",
     "output_type": "stream",
     "text": [
      "Accuracy score - 0.8769281988680502\n"
     ]
    }
   ],
   "source": [
    "from sklearn.dummy import DummyClassifier\n",
    "\n",
    "clf = DummyClassifier(strategy=\"most_frequent\")\n",
    "clf.fit(X_train, y_train)\n",
    "\n",
    "y_pred_baseline = clf.predict(X_test)\n",
    "print(\"Accuracy score -\", accuracy_score(y_test, y_pred_baseline))"
   ]
  },
  {
   "cell_type": "code",
   "execution_count": 29,
   "id": "finite-anime",
   "metadata": {},
   "outputs": [
    {
     "data": {
      "text/plain": [
       "array([[  19,    1,  199,    4,    0],\n",
       "       [   6,   18,  576,    8,    0],\n",
       "       [   8,   48, 7827,   19,    0],\n",
       "       [   0,    5,  192,   31,    0],\n",
       "       [   0,    0,   50,    0,    0]])"
      ]
     },
     "execution_count": 29,
     "metadata": {},
     "output_type": "execute_result"
    }
   ],
   "source": [
    "from sklearn.metrics import confusion_matrix, plot_confusion_matrix\n",
    "\n",
    "confusion_matrix(y_test, y_pred)"
   ]
  },
  {
   "cell_type": "code",
   "execution_count": 31,
   "id": "consolidated-geneva",
   "metadata": {},
   "outputs": [
    {
     "data": {
      "text/plain": [
       "<sklearn.metrics._plot.confusion_matrix.ConfusionMatrixDisplay at 0x1157fad00>"
      ]
     },
     "execution_count": 31,
     "metadata": {},
     "output_type": "execute_result"
    },
    {
     "data": {
      "image/png": "[encoded data removed]",
      "text/plain": [
       "<Figure size 432x288 with 2 Axes>"
      ]
     },
     "metadata": {
      "needs_background": "light"
     },
     "output_type": "display_data"
    }
   ],
   "source": [
    "import matplotlib.pyplot as plt\n",
    "\n",
    "%matplotlib inline\n",
    "\n",
    "plot_confusion_matrix(model1, X_test_tf, y_test, values_format=\"d\", cmap=plt.cm.Blues)"
   ]
  },
  {
   "cell_type": "code",
   "execution_count": 33,
   "id": "sexual-wells",
   "metadata": {},
   "outputs": [
    {
     "name": "stdout",
     "output_type": "stream",
     "text": [
      "              precision    recall  f1-score   support\n",
      "\n",
      "          P1       0.58      0.09      0.15       223\n",
      "          P2       0.25      0.03      0.05       608\n",
      "          P3       0.89      0.99      0.93      7902\n",
      "          P4       0.50      0.14      0.21       228\n",
      "          P5       0.00      0.00      0.00        50\n",
      "\n",
      "    accuracy                           0.88      9011\n",
      "   macro avg       0.44      0.25      0.27      9011\n",
      "weighted avg       0.82      0.88      0.83      9011\n",
      "\n"
     ]
    },
    {
     "name": "stderr",
     "output_type": "stream",
     "text": [
      "/usr/local/lib/python3.9/site-packages/sklearn/metrics/_classification.py:1248: UndefinedMetricWarning: Precision and F-score are ill-defined and being set to 0.0 in labels with no predicted samples. Use `zero_division` parameter to control this behavior.\n",
      "  _warn_prf(average, modifier, msg_start, len(result))\n",
      "/usr/local/lib/python3.9/site-packages/sklearn/metrics/_classification.py:1248: UndefinedMetricWarning: Precision and F-score are ill-defined and being set to 0.0 in labels with no predicted samples. Use `zero_division` parameter to control this behavior.\n",
      "  _warn_prf(average, modifier, msg_start, len(result))\n",
      "/usr/local/lib/python3.9/site-packages/sklearn/metrics/_classification.py:1248: UndefinedMetricWarning: Precision and F-score are ill-defined and being set to 0.0 in labels with no predicted samples. Use `zero_division` parameter to control this behavior.\n",
      "  _warn_prf(average, modifier, msg_start, len(result))\n"
     ]
    }
   ],
   "source": [
    "from sklearn.metrics import classification_report\n",
    "\n",
    "print(classification_report(y_test, y_pred))"
   ]
  },
  {
   "cell_type": "code",
   "execution_count": 35,
   "id": "arctic-framing",
   "metadata": {},
   "outputs": [
    {
     "data": {
      "text/plain": [
       "{'P5'}"
      ]
     },
     "execution_count": 35,
     "metadata": {},
     "output_type": "execute_result"
    }
   ],
   "source": [
    "# There are some labels in y_test that is not in y_pred, causing the error above.\n",
    "# That means that there are no F-score calculated for this label.\n",
    "set(y_test) - set(y_pred)"
   ]
  },
  {
   "cell_type": "code",
   "execution_count": 38,
   "id": "valuable-baghdad",
   "metadata": {},
   "outputs": [
    {
     "name": "stdout",
     "output_type": "stream",
     "text": [
      "              precision    recall  f1-score   support\n",
      "\n",
      "          P1       0.58      0.09      0.15       223\n",
      "          P2       0.25      0.03      0.05       608\n",
      "          P3       0.89      0.99      0.93      7902\n",
      "          P4       0.50      0.14      0.21       228\n",
      "          P5       0.00      0.00      0.00        50\n",
      "\n",
      "    accuracy                           0.88      9011\n",
      "   macro avg       0.44      0.25      0.27      9011\n",
      "weighted avg       0.82      0.88      0.83      9011\n",
      "\n"
     ]
    }
   ],
   "source": [
    "print(classification_report(y_test, y_pred, zero_division=0))"
   ]
  },
  {
   "cell_type": "markdown",
   "id": "united-battery",
   "metadata": {},
   "source": [
    "**Class Imbalance**"
   ]
  },
  {
   "cell_type": "code",
   "execution_count": 42,
   "id": "cooked-hormone",
   "metadata": {},
   "outputs": [
    {
     "data": {
      "text/plain": [
       "P3    39506\n",
       "P2     3038\n",
       "P4     1138\n",
       "P1     1117\n",
       "P5      252\n",
       "Name: Priority, dtype: int64"
      ]
     },
     "execution_count": 42,
     "metadata": {},
     "output_type": "execute_result"
    }
   ],
   "source": [
    "# We have to many P3.\n",
    "# df.groupby(\"Priority\").count()\n",
    "df[\"Priority\"].value_counts()"
   ]
  },
  {
   "cell_type": "code",
   "execution_count": 43,
   "id": "blocked-match",
   "metadata": {},
   "outputs": [
    {
     "data": {
      "text/plain": [
       "P3    4000\n",
       "P2    3038\n",
       "P4    1138\n",
       "P1    1117\n",
       "P5     252\n",
       "Name: Priority, dtype: int64"
      ]
     },
     "execution_count": 43,
     "metadata": {},
     "output_type": "execute_result"
    }
   ],
   "source": [
    "# Filter bug reports with priority P3 and sample 4000 rows from it.\n",
    "df_sample_p3 = df[df[\"Priority\"] == \"P3\"].sample(n=4000)\n",
    "\n",
    "# Create a separate DataFrame containing all other bug reports.\n",
    "df_sample_rest = df[df[\"Priority\"] != \"P3\"]\n",
    "\n",
    "# Concatenate the two DataFrame to create the new balanced bug reports dataset.\n",
    "df_balanced = pd.concat([df_sample_rest, df_sample_p3])\n",
    "\n",
    "# Check the status of the class imbalance.\n",
    "df_balanced[\"Priority\"].value_counts()"
   ]
  },
  {
   "cell_type": "markdown",
   "id": "meaningful-valley",
   "metadata": {},
   "source": [
    "### Final Blueprint for Text Classification"
   ]
  },
  {
   "cell_type": "code",
   "execution_count": 45,
   "id": "interested-empty",
   "metadata": {},
   "outputs": [
    {
     "name": "stdout",
     "output_type": "stream",
     "text": [
      "Size of training data 7636\n",
      "Size of test data 1909\n"
     ]
    }
   ],
   "source": [
    "# Loading the balanced DataFrame.\n",
    "df = df_balanced[[\"text\", \"Priority\"]]\n",
    "df = df.dropna()\n",
    "\n",
    "# Step 1 - Data Preparation.\n",
    "df[\"text\"] = df[\"text\"].apply(clean)\n",
    "\n",
    "# Step 2 - Train-Test Split.\n",
    "X_train, X_test, y_train, y_test = train_test_split(\n",
    "    df[\"text\"],\n",
    "    df[\"Priority\"],\n",
    "    test_size=0.2,\n",
    "    random_state=42,\n",
    "    stratify=df[\"Priority\"],\n",
    ")\n",
    "\n",
    "print(\"Size of training data\", X_train.shape[0])\n",
    "print(\"Size of test data\", X_test.shape[0])"
   ]
  },
  {
   "cell_type": "code",
   "execution_count": 46,
   "id": "accessible-surprise",
   "metadata": {},
   "outputs": [],
   "source": [
    "tfidf = TfidfVectorizer(min_df=10, ngram_range=(1, 2), stop_words=\"english\")\n",
    "X_train_tf = tfidf.fit_transform(X_train)"
   ]
  },
  {
   "cell_type": "code",
   "execution_count": 47,
   "id": "international-villa",
   "metadata": {},
   "outputs": [
    {
     "name": "stdout",
     "output_type": "stream",
     "text": [
      "Accuracy Score - 0.4934520691461498\n",
      "              precision    recall  f1-score   support\n",
      "\n",
      "          P1       0.41      0.27      0.33       223\n",
      "          P2       0.43      0.47      0.45       608\n",
      "          P3       0.56      0.64      0.60       800\n",
      "          P4       0.47      0.36      0.41       228\n",
      "          P5       0.00      0.00      0.00        50\n",
      "\n",
      "    accuracy                           0.49      1909\n",
      "   macro avg       0.37      0.35      0.36      1909\n",
      "weighted avg       0.48      0.49      0.48      1909\n",
      "\n"
     ]
    }
   ],
   "source": [
    "model1 = LinearSVC(random_state=0, tol=1e-5)\n",
    "model1.fit(X_train_tf, y_train)\n",
    "\n",
    "# Step 4 - Model Evaluation.\n",
    "\n",
    "X_test_tf = tfidf.transform(X_test)\n",
    "y_pred = model1.predict(X_test_tf)\n",
    "print(\"Accuracy Score -\", accuracy_score(y_test, y_pred))\n",
    "print(classification_report(y_test, y_pred))"
   ]
  },
  {
   "cell_type": "code",
   "execution_count": 48,
   "id": "imposed-things",
   "metadata": {},
   "outputs": [
    {
     "name": "stdout",
     "output_type": "stream",
     "text": [
      "Accuracy score - 0.2964903090623363\n"
     ]
    }
   ],
   "source": [
    "clf = DummyClassifier(strategy=\"stratified\")\n",
    "clf.fit(X_train, y_train)\n",
    "\n",
    "y_pred_baseline = clf.predict(X_test)\n",
    "print(\"Accuracy score -\", accuracy_score(y_test, y_pred_baseline))"
   ]
  },
  {
   "cell_type": "code",
   "execution_count": 49,
   "id": "israeli-explosion",
   "metadata": {},
   "outputs": [
    {
     "data": {
      "text/html": [
       "<div>\n",
       "<style scoped>\n",
       "    .dataframe tbody tr th:only-of-type {\n",
       "        vertical-align: middle;\n",
       "    }\n",
       "\n",
       "    .dataframe tbody tr th {\n",
       "        vertical-align: top;\n",
       "    }\n",
       "\n",
       "    .dataframe thead th {\n",
       "        text-align: right;\n",
       "    }\n",
       "</style>\n",
       "<table border=\"1\" class=\"dataframe\">\n",
       "  <thead>\n",
       "    <tr style=\"text-align: right;\">\n",
       "      <th></th>\n",
       "      <th>text</th>\n",
       "      <th>actual</th>\n",
       "      <th>predicted</th>\n",
       "    </tr>\n",
       "  </thead>\n",
       "  <tbody>\n",
       "    <tr>\n",
       "      <th>6071</th>\n",
       "      <td>Support to add library to source/class/boot path Need to be able to add a library (conatiner) to source/class/boot paths in java ; launch configs.</td>\n",
       "      <td>P2</td>\n",
       "      <td>P2</td>\n",
       "    </tr>\n",
       "    <tr>\n",
       "      <th>208</th>\n",
       "      <td>CoreDump in debugger step action (1GKNVC2) Was running Eclipse-in-Eclipse; and debugging open on selection. Selected step into from the frame below the top one; and got a core dump.; Target Eclipse was running on Sun JDK 1.3; dev Eclipse was running on default IBM JRE 1.3.; ; ===========================; Exception code: C0000005 ACCESS_VIOLATION; Fault address: 71621AFC 01:00040AFC D:\\eclipse\\sdk\\eclipse\\jre\\bin\\classic\\jvm.dll; ; Registers:; EAX:00000001; EBX:00000008; ECX:00000008; EDX:00000001; ESI:00000001; EDI:008A66F0; CS:EIP:001B:71621AFC; SS:ESP:0023:1146FC94 EBP:1146FF74; DS:0023 ES:0023 FS:0038 GS:0000; Flags:00010202; ; Wed Sep 26 14:14:41 2001; ; ; J2RE 1.3.0 IBM build cn130-20010502; D:\\eclipse\\sdk\\eclipse\\jre\\bin\\javaw.exe -classpath c:\\eclipse2\\plugins\\Eclipse Core Launcher;c:\\eclipse2\\plugins\\Eclipse Core Launcher\\startup.jar;c:\\eclipse2\\plugins\\org.apache.xerces;c:\\eclipse2\\plugins\\org.apache.xerces\\xerces.jar;c:\\eclipse2\\plugins\\org.eclipse.ant.core;c:\\eclipse2\\plugins\\org.eclipse.ant.core\\ant.jar;c:\\eclipse2\\plugins\\org.eclipse.ant.core\\antsupport.jar;c:\\eclipse2\\plugins\\org.eclipse.core.resources\\resources.jar;c:\\eclipse2\\plugins\\org.eclipse.core.runtime\\runtime.jar;c:\\eclipse2\\plugins\\org.eclipse.ant.ui;c:\\eclipse2\\plugins\\org.eclipse.ant.ui\\antui.jar;c:\\eclipse2\\plugins\\org.eclipse.help\\help.jar;c:\\eclipse2\\plugins\\org.eclipse.swt\\swt.jar;c:\\eclipse2\\plugins\\org.eclipse.ui\\bin;c:\\eclipse2\\plugins\\org.eclipse.swt;c:\\eclipse2\\plugins\\org.eclipse.core.boot\\boot.jar;c:\\eclipse2\\plugins\\org.eclipse.compare\\bin;c:\\eclipse2\\plugins\\org.eclipse.core.boot;c:\\eclipse2\\plugins\\org.eclipse.core.resources;c:\\eclipse2\\plugins\\org.eclipse.core.runtime;c:\\eclipse2\\plugins\\org.eclipse.core.target;c:\\eclipse2\\plugins\\org.eclipse.core.target\\target.jar;c:\\eclipse2\\plugins\\org.eclipse.webdav\\webdav.jar;c:\\eclipse2\\plugins\\org.eclipse.debug.core\\bin;c:\\eclipse2\\plugins\\org.eclipse.debug.ui\\bin;c:\\eclipse2\\plugins\\org.eclipse.help;c:\\eclipse2\\plugins\\org.eclipse.help.ui;c:\\eclipse2\\plugins\\org.eclipse.help.ui\\helpworkbench.jar;c:\\eclipse2\\plugins\\org.eclipse.jdt.core\\bin;c:\\eclipse2\\plugins\\org.eclipse.jdt.debug\\bin;c:\\eclipse2\\plugins\\org.eclipse.jdt.debug\\jdi.jar;c:\\eclipse2\\plugins\\org.eclipse.jdt.launching\\bin;c:\\eclipse2\\plugins\\org.eclipse.jdt.launching.j9\\bin;c:\\eclipse2\\plugins\\org.eclipse.jdt.ui\\bin;c:\\eclipse2\\plugins\\org.eclipse.search\\bin;c:\\eclipse2\\plugins\\org.eclipse.jdt.ui.vcm\\bin;c:\\eclipse2\\plugins\\org.eclipse.vcm.core\\vcm.jar;c:\\eclipse2\\plugins\\org.eclipse.vcm.ui\\vcmui.jar;c:\\eclipse2\\plugins\\org.eclipse.vcm.core;c:\\eclipse2\\plugins\\org.eclipse.vcm.core.cvs.ssh;c:\\eclipse2\\plugins\\org.eclipse.vcm.core.cvs.ssh\\vcmcvsssh.jar;c:\\eclipse2\\plugins\\org.eclipse.vcm.ui -Xdebug -Xnoagent -Djava.compiler=NONE -Xrunjdwp:transport=dt_socket;address=localhost:13448 org.eclipse.core.launcher.UIMain -dev bin -platform c:/wks1 ; ; System Properties; -----------------; Java Home Dir: D:\\eclipse\\sdk\\eclipse\\jre; Java DLL Dir: D:\\eclipse\\sdk\\eclipse\\jre\\bin; Sys Classpath: D:\\eclipse\\sdk\\eclipse\\jre\\lib\\rt.jar;D:\\eclipse\\sdk\\eclipse\\jre\\lib\\i18n.jar;D:\\eclipse\\sdk\\eclipse\\jre\\classes; User Args:; -Djava.class.path=.; -Djava.class.path=c:\\eclipse2\\plugins\\Eclipse Core Launcher;c:\\eclipse2\\plugins\\Eclipse Core Launcher\\startup.jar;c:\\eclipse2\\plugins\\org.apache.xerces;c:\\eclipse2\\plugins\\org.apache.xerces\\xerces.jar;c:\\eclipse2\\plugins\\org.eclipse.ant.core;c:\\eclipse2\\plugins\\org.eclipse.ant.core\\ant.jar;c:\\eclipse2\\plugins\\org.eclipse.ant.core\\antsupport.jar;c:\\eclipse2\\plugins\\org.eclipse.core.resources\\resources.jar;c:\\eclipse2\\plugins\\org.eclipse.core.runtime\\runtime.jar;c:\\eclipse2\\plugins\\org.eclipse.ant.ui;c:\\eclipse2\\plugins\\org.eclipse.ant.ui\\antui.jar;c:\\eclipse2\\plugins\\org.eclipse.help\\help.jar;c:\\eclipse2\\plugins\\org.eclipse.swt\\swt.jar;c:\\eclipse2\\plugins\\org.eclipse.ui\\bin;c:\\eclipse2\\plugins\\org.eclipse.swt;c:\\eclipse2\\plugins\\org.eclipse.core.boot\\boot.jar;c:\\eclipse2\\plugins\\org.eclipse.compare\\bin;c:\\eclipse2\\plugins\\org.eclipse.core.boot;c:\\eclipse2\\plugins\\org.eclipse.core.resources;c:\\eclipse2\\plugins\\org.eclipse.core.runtime;c:\\eclipse2\\plugins\\org.eclipse.core.target;c:\\eclipse2\\plugins\\org.eclipse.core.target\\target.jar;c:\\eclipse2\\plugins\\org.eclipse.webdav\\webdav.jar;c:\\eclipse2\\plugins\\org.eclipse.debug.core\\bin;c:\\eclipse2\\plugins\\org.eclipse.debug.ui\\bin;c:\\eclipse2\\plugins\\org.eclipse.help;c:\\eclipse2\\plugins\\org.eclipse.help.ui;c:\\eclipse2\\plugins\\org.eclipse.help.ui\\helpworkbench.jar;c:\\eclipse2\\plugins\\org.eclipse.jdt.core\\bin;c:\\eclipse2\\plugins\\org.eclipse.jdt.debug\\bin;c:\\eclipse2\\plugins\\org.eclipse.jdt.debug\\jdi.jar;c:\\eclipse2\\plugins\\org.eclipse.jdt.launching\\bin;c:\\eclipse2\\plugins\\org.eclipse.jdt.launching.j9\\bin;c:\\eclipse2\\plugins\\org.eclipse.jdt.ui\\bin;c:\\eclipse2\\plugins\\org.eclipse.search\\bin;c:\\eclipse2\\plugins\\org.eclipse.jdt.ui.vcm\\bin;c:\\eclipse2\\plugins\\org.eclipse.vcm.core\\vcm.jar;c:\\eclipse2\\plugins\\org.eclipse.vcm.ui\\vcmui.jar;c:\\eclipse2\\plugins\\org.eclipse.vcm.core;c:\\eclipse2\\plugins\\org.eclipse.vcm.core.cvs.ssh;c:\\eclipse2\\plugins\\org.eclipse.vcm.core.cvs.ssh\\vcmcvsssh.jar;c:\\eclipse2\\plugins\\org.eclipse.vcm.ui; -Xdebug; -Xnoagent; -Djava.compiler=NONE; -Xrunjdwp:transport=dt_socket;address=localhost:13448; ; ; Current Thread Details; ----------------------; JDWP Transport Listener: dt_socket (TID:0x8e8638; sys_thread_t:0x8a68c0; state:R; native ID:0x594) prio=5; ; Native Stack -----; Address Frame; 0x71621afc 0x1146ff74 MdCurrentJNIGlobals+0x190fc; 0x008a6928 0x716310e0 0x0000:0x00000000 ; ; -------------------------------------------------------------------------; ; ; ; Operating Environment; ---------------------; error getting host name; OS Level Windows_NT; Processors -; Architecture x86 Family 6 Model 8 Stepping 6; GenuineIntel; How Many 1; ; Memory Usage: ; PageFaultCount: 17998; Working Set Size: 22290432; Peak Working Set Size: 37920768; Quota Paged Pool Usage: 51068; Quota Peak Paged Pool Usage: 57416; Quota Non-Paged Pool Usage: 19104; Quota Peak Non-Paged Pool Usage: 22208; Pagefile Usage: 56496128; Peak Pagefile Usage: 56496128; ; ; Application Environment; -----------------------; Environment Variables -; ALLUSERSPROFILE=C:\\Documents and Settings\\All Users.WINNT; CommonProgramFiles=C:\\Program Files\\Common Files; COMPUTERNAME=PHILIPPETP; ComSpec=C:\\WINNT\\system32\\cmd.exe; HOMEDRIVE=C:; HOMEPATH=\\; IBM_JAVA_COMMAND_LINE=D:\\eclipse\\sdk\\eclipse\\jre\\bin\\javaw.exe -classpath c:\\eclipse2\\plugins\\Eclipse Core Launcher;c:\\eclipse2\\plugins\\Eclipse Core Launcher\\startup.jar;c:\\eclipse2\\plugins\\org.apache.xerces;c:\\eclipse2\\plugins\\org.apache.xerces\\xerces.jar;c:\\eclipse2\\plugins\\org.eclipse.ant.core;c:\\eclipse2\\plugins\\org.eclipse.ant.core\\ant.jar;c:\\eclipse2\\plugins\\org.eclipse.ant.core\\antsupport.jar;c:\\eclipse2\\plugins\\org.eclipse.core.resources\\resources.jar;c:\\eclipse2\\plugins\\org.eclipse.core.runtime\\runtime.jar;c:\\eclipse2\\plugins\\org.eclipse.ant.ui;c:\\eclipse2\\plugins\\org.eclipse.ant.ui\\antui.jar;c:\\eclipse2\\plugins\\org.eclipse.help\\help.jar;c:\\eclipse2\\plugins\\org.eclipse.swt\\swt.jar;c:\\eclipse2\\plugins\\org.eclipse.ui\\bin;c:\\eclipse2\\plugins\\org.eclipse.swt;c:\\eclipse2\\plugins\\org.eclipse.core.boot\\boot.jar;c:\\eclipse2\\plugins\\org.eclipse.compare\\bin;c:\\eclipse2\\plugins\\org.eclipse.core.boot;c:\\eclipse2\\plugins\\org.eclipse.core.resources;c:\\eclipse2\\plugins\\org.eclipse.core.runtime;c:\\eclipse2\\plugins\\org.eclipse.core.target;c:\\eclipse2\\plugins\\org.eclipse.core.target\\target.jar;c:\\eclipse2\\plugins\\org.eclipse.webdav\\webdav.jar;c:\\eclipse2\\plugins\\org.eclipse.debug.core\\bin;c:\\eclipse2\\plugins\\org.eclipse.debug.ui\\bin;c:\\eclipse2\\plugins\\org.eclipse.help;c:\\eclipse2\\plugins\\org.eclipse.help.ui;c:\\eclipse2\\plugins\\org.eclipse.help.ui\\helpworkbench.jar;c:\\eclipse2\\plugins\\org.eclipse.jdt.core\\bin;c:\\eclipse2\\plugins\\org.eclipse.jdt.debug\\bin;c:\\eclipse2\\plugins\\org.eclipse.jdt.debug\\jdi.jar;c:\\eclipse2\\plugins\\org.eclipse.jdt.launching\\bin;c:\\eclipse2\\plugins\\org.eclipse.jdt.launching.j9\\bin;c:\\eclipse2\\plugins\\org.eclipse.jdt.ui\\bin;c:\\eclipse2\\plugins\\org.eclipse.search\\bin;c:\\eclipse2\\plugins\\org.eclipse.jdt.ui.vcm\\bin;c:\\eclipse2\\plugins\\org.eclipse.vcm.core\\vcm.jar;c:\\eclipse2\\plugins\\org.eclipse.vcm.ui\\vcmui.jar;c:\\eclipse2\\plugins\\org.eclipse.vcm.core;c:\\eclipse2\\plugins\\org.eclipse.vcm.core.cvs.ssh;c:\\eclipse2\\plugins\\org.eclipse.vcm.core.cvs.ssh\\vcmcvsssh.jar;c:\\eclipse2\\plugins\\org.eclipse.vcm.ui -Xdebug -Xnoagent -Djava.compiler=NONE -Xrunjdwp:transport=dt_socket;address=localhost:13448 org.eclipse.core.launcher.UIMain -dev bin -platform c:/wks1 ; JDKDIR=.; LOGONSERVER=\\\\PHILIPPETP; NUMBER_OF_PROCESSORS=1; NWLANGUAGE=English; NWUSERNAME=philippe; OS=Windows_NT; Os2LibPath=C:\\WINNT\\system32\\os2\\dll;; Path=C:\\WINNT\\system32;C:\\WINNT;C:\\WINNT\\System32\\Wbem;C:\\WINNT\\system32\\nls;C:\\WINNT\\system32\\nls\\English;d:\\cvs; PATHEXT=.COM;.EXE;.BAT;.CMD;.VBS;.VBE;.JS;.JSE;.WSF;.WSH; PROCESSOR_ARCHITECTURE=x86; PROCESSOR_IDENTIFIER=x86 Family 6 Model 8 Stepping 6; GenuineIntel; PROCESSOR_LEVEL=6; PROCESSOR_REVISION=0806; ProgramFiles=C:\\Program Files; PROMPT=$P$G; SystemDrive=C:; SystemRoot=C:\\WINNT; TEMP=C:\\DOCUME~1\\philippe\\LOCALS~1\\Temp; TMP=C:\\DOCUME~1\\philippe\\LOCALS~1\\Temp; USERDOMAIN=PHILIPPETP; USERNAME=Philippe; USERPROFILE=C:\\Documents and Settings\\philippe; windir=C:\\WINNT; WINDOWS_LOGIN=0; ; ; Loaded Modules (sizes in bytes); ---------------------------------; 0x00400000 (0x5000) D:\\eclipse\\sdk\\eclipse\\jre\\bin\\javaw.exe; 0x77f80000 (0x7b000) C:\\WINNT\\System32\\ntdll.dll; 0x77db0000 (0x5b000) C:\\WINNT\\system32\\ADVAPI32.dll; 0x77e80000 (0xb5000) C:\\WINNT\\system32\\KERNEL32.DLL; 0x77d40000 (0x70000) C:\\WINNT\\system32\\RPCRT4.DLL; 0x78000000 (0x46000) C:\\WINNT\\system32\\MSVCRT.dll; 0x715e0000 (0xf0000) D:\\eclipse\\sdk\\eclipse\\jre\\bin\\classic\\jvm.dll; 0x71590000 (0x5000) D:\\eclipse\\sdk\\eclipse\\jre\\bin\\xhpi.dll; 0x707b0000 (0xa000) D:\\eclipse\\sdk\\eclipse\\jre\\bin\\hpi.dll; 0x77570000 (0x30000) C:\\WINNT\\System32\\WINMM.dll; 0x77e10000 (0x64000) C:\\WINNT\\system32\\USER32.DLL; 0x77f40000 (0x3c000) C:\\WINNT\\system32\\GDI32.DLL; 0x708c0000 (0x1f000) D:\\eclipse\\sdk\\eclipse\\jre\\bin\\jdwp.dll; 0x70830000 (0x2c000) D:\\eclipse\\sdk\\eclipse\\jre\\bin\\java.dll; 0x715b0000 (0x10000) D:\\eclipse\\sdk\\eclipse\\jre\\bin\\zip.dll; 0x70650000 (0x6000) D:\\eclipse\\sdk\\eclipse\\jre\\bin\\dt_socket.dll; 0x75030000 (0x13000) C:\\WINNT\\System32\\ws2_32.dll; 0x75020000 (0x8000) C:\\WINNT\\System32\\WS2HELP.DLL; 0x66210000 (0x9000) C:\\WINNT\\system32\\netware\\NWWS2NDS.DLL; 0x50d50000 (0x42000) C:\\WINNT\\System32\\NETWIN32.DLL; 0x50d00000 (0x15000) C:\\WINNT\\System32\\CLNWIN32.DLL; 0x50df0000 (0x20000) C:\\WINNT\\System32\\LOCWIN32.DLL; 0x50db0000 (0x29000) C:\\WINNT\\System32\\NCPWIN32.dll; 0x75050000 (0x8000) C:\\WINNT\\System32\\WSOCK32.dll; 0x66220000 (0xc000) C:\\WINNT\\system32\\netware\\NWWS2SLP.DLL; 0x1c000000 (0x6000) C:\\WINNT\\System32\\NWSRVLOC.dll; 0x785c0000 (0xc000) C:\\WINNT\\System32\\rnr20.dll; 0x77980000 (0x24000) C:\\WINNT\\System32\\DNSAPI.DLL; 0x77340000 (0x13000) C:\\WINNT\\System32\\iphlpapi.dll; 0x77520000 (0x5000) C:\\WINNT\\System32\\ICMP.DLL; 0x77320000 (0x17000) C:\\WINNT\\System32\\MPRAPI.DLL; 0x75150000 (0x10000) C:\\WINNT\\System32\\SAMLIB.DLL; 0x75170000 (0x4f000) C:\\WINNT\\System32\\NETAPI32.DLL; 0x77be0000 (0xf000) C:\\WINNT\\System32\\SECUR32.DLL; 0x751c0000 (0x6000) C:\\WINNT\\System32\\NETRAP.DLL; 0x77950000 (0x29000) C:\\WINNT\\system32\\WLDAP32.DLL; 0x77a50000 (0xf6000) C:\\WINNT\\system32\\OLE32.DLL; 0x779b0000 (0x9b000) C:\\WINNT\\system32\\OLEAUT32.DLL; 0x773b0000 (0x2e000) C:\\WINNT\\System32\\ACTIVEDS.DLL; 0x77380000 (0x22000) C:\\WINNT\\System32\\ADSLDPC.DLL; 0x77830000 (0xe000) C:\\WINNT\\System32\\RTUTILS.DLL; 0x77880000 (0x8d000) C:\\WINNT\\System32\\SETUPAPI.DLL; 0x77c10000 (0x5d000) C:\\WINNT\\System32\\USERENV.DLL; 0x774e0000 (0x32000) C:\\WINNT\\System32\\RASAPI32.DLL; 0x774c0000 (0x11000) C:\\WINNT\\System32\\RASMAN.DLL; 0x77530000 (0x22000) C:\\WINNT\\System32\\TAPI32.DLL; 0x77b50000 (0x89000) C:\\WINNT\\system32\\COMCTL32.DLL; 0x77c70000 (0x4a000) C:\\WINNT\\system32\\SHLWAPI.DLL; 0x77360000 (0x19000) C:\\WINNT\\System32\\DHCPCSVC.DLL; 0x775a0000 (0x85000) C:\\WINNT\\System32\\CLBCATQ.DLL; 0x777e0000 (0x8000) C:\\WINNT\\System32\\winrnr.dll; 0x777f0000 (0x5000) C:\\WINNT\\System32\\rasadhlp.dll; 0x74fd0000 (0x1f000) C:\\WINNT\\system32\\msafd.dll; 0x75010000 (0x7000) C:\\WINNT\\System32\\wshtcpip.dll; 0x11af0000 (0x3c000) C:\\eclipse2\\plugins\\org.eclipse.swt\\ws\\win32\\swt-win32-1134.dll; 0x76b30000 (0x3e000) C:\\WINNT\\system32\\comdlg32.dll; 0x782f0000 (0x242000) C:\\WINNT\\system32\\SHELL32.DLL; 0x75e60000 (0x1a000) C:\\WINNT\\System32\\IMM32.dll; 0x125d0000 (0x7000) C:\\eclipse2\\plugins\\org.eclipse.core.resources\\os\\win32\\core128.dll; 0x71370000 (0x9000) D:\\eclipse\\sdk\\eclipse\\jre\\bin\\net.dll; 0x77920000 (0x23000) C:\\WINNT\\system32\\IMAGEHLP.DLL; 0x72a00000 (0x2d000) C:\\WINNT\\system32\\DBGHELP.dll; 0x690a0000 (0xb000) C:\\WINNT\\System32\\PSAPI.DLL; ; ; Java Threads; ------------; org.eclipse.jface.text.reconciler.MonoReconciler (TID:0x156c910; sys_thread_t:0x121b6d80; state:CW; native ID:0x18c) prio=1; at java.lang.Object.wait(Native Method); at org.eclipse.jface.text.reconciler.AbstractReconciler$BackgroundThread.run(AbstractReconciler.java:128); ; Native Stack -----; Address Frame; 0x77f827e8 0x127dfd2c RtlFillMemoryUlong+0x21; 0x77e86a3d 0x00000001 OpenFile+0x1b6; ; -------------------------------------------------------------------------; ; Java indexing: org.eclipse.jdt.internal.core.search.indexing.IndexManager (TID:0x9854f8; sys_thread_t:0x11dbc350; state:CW; native ID:0x348) prio=5; at java.lang.Thread.sleep(Native Method); at org.eclipse.jdt.internal.core.search.processing.JobManager.run(JobManager.java:227); at java.lang.Thread.run(Thread.java:498); ; Native Stack -----; Address Frame; 0x77f827e8 0x125cfd00 RtlFillMemoryUlong+0x21; 0x77e86a3d 0x00000001 OpenFile+0x1b6; ; -------------------------------------------------------------------------; ; JDWP Command Reader (TID:0x8e85a8; sys_thread_t:0x8a8ee0; state:R; native ID:0x474) prio=5; ; Native Stack -----; Address Frame; 0x77f827e8 0x114efe0c RtlFillMemoryUlong+0x21; 0x74fd8e33 0x114efe88 0x0001:0x00007e33 C:\\WINNT\\system32\\msafd.dll; 0x7503a247 0x114efed0 WSCWriteNameSpaceOrder+0x130; 0x70651e18 0x000001f4 0x0001:0x00000e18 D:\\eclipse\\sdk\\eclipse\\jre\\bin\\dt_socket.dll; ; -------------------------------------------------------------------------; ; JDWP Event Helper Thread (TID:0x8e85f0; sys_thread_t:0x8a7bd0; state:CW; native ID:0x538) prio=5; ; Native Stack -----; Address Frame; 0x77f827e8 0x114afed0 RtlFillMemoryUlong+0x21; 0x77e86a3d 0x00000001 OpenFile+0x1b6; ; -------------------------------------------------------------------------; ; JDWP Transport Listener: dt_socket (TID:0x8e8638; sys_thread_t:0x8a68c0; state:R; native ID:0x594) prio=5; ; Native Stack -----; Address Frame; 0x71621afc 0x1146ff74 MdCurrentJNIGlobals+0x190fc; 0x008a6928 0x716310e0 0x0000:0x00000000 ; ; -------------------------------------------------------------------------; ; Finalizer (TID:0x8e8708; sys_thread_t:0x82f630; state:CW; native ID:0x5d0) prio=8; at java.lang.Object.wait(Native Method); at java.lang.ref.ReferenceQueue.remove(ReferenceQueue.java:114); at java.lang.ref.ReferenceQueue.remove(ReferenceQueue.java:129); at java.lang.ref.Finalizer$FinalizerThread.run(Finalizer.java:168); ; Native Stack -----; Address Frame; 0x77f827e8 0x0cf2fca4 RtlFillMemoryUlong+0x21; 0x77e86a3d 0x00000001 OpenFile+0x1b6; ; -------------------------------------------------------------------------; ; Reference Handler (TID:0x8e8750; sys_thread_t:0x82b330; state:CW; native ID:0x5c0) prio=10; at java.lang.Object.wait(Native Method); at java.lang.Object.wait(Object.java:421); at java.lang.ref.Reference$ReferenceHandler.run(Reference.java:116); ; Native Stack -----; Address Frame; 0x77f827e8 0x0ceefcf8 RtlFillMemoryUlong+0x21; 0x77e86a3d 0x00000001 OpenFile+0x1b6; ; -------------------------------------------------------------------------; ; Signal dispatcher (TID:0x8e8798; sys_thread_t:0x8231d8; state:R; native ID:0x5a4) prio=5; ; Native Stack -----; Address Frame; 0x77f827e8 0x0ceaff24 RtlFillMemoryUlong+0x21; 0x77e86a3d 0x0ceaffb4 OpenFile+0x1b6; 0x77e8758a 0x0ceaffec FileTimeToSystemTime+0x12f; ; -------------------------------------------------------------------------; ; main (TID:0x8e87e0; sys_thread_t:0x2394d0; state:S; native ID:0x4b8) prio=5; at java.lang.String. (String.java:211); at org.eclipse.jdt.internal.core.SelectionRequestor.resolveType(SelectionRequestor.java:213); at org.eclipse.jdt.internal.core.SelectionRequestor.acceptMethod(SelectionRequestor.java:107); at org.eclipse.jdt.internal.codeassist.SelectionEngine.selectFrom(SelectionEngine.java:351); at org.eclipse.jdt.internal.codeassist.SelectionEngine.select(SelectionEngine.java:304); at org.eclipse.jdt.internal.core.Openable.codeSelect(Openable.java:146); at org.eclipse.jdt.internal.core.Openable.codeSelect(Openable.java:119); at org.eclipse.jdt.internal.core.CompilationUnit.codeSelect(CompilationUnit.java:67); at org.eclipse.jdt.internal.ui.text.java.hover.JavaTypeHover.getHoverInfo(JavaTypeHover.java:81); at org.eclipse.jdt.internal.ui.text.java.hover.JavaTextHover.getHoverInfo(JavaTextHover.java:161); at org.eclipse.jface.text.TextHoveringController.mouseHover(TextHoveringController.java:355); at org.eclipse.swt.widgets.TypedListener.handleEvent(TypedListener.java:205); at org.eclipse.swt.widgets.EventTable.sendEvent(EventTable.java:51); at org.eclipse.swt.widgets.Widget.notifyListeners(Widget.java:634); at org.eclipse.swt.widgets.Display.runDeferredEvents(Display.java:1282); at org.eclipse.swt.widgets.Display.readAndDispatch(Display.java:1092); at org.eclipse.ui.internal.Workbench.runEventLoop(Workbench.java:675); at org.eclipse.ui.internal.Workbench.run(Workbench.java:658); at org.eclipse.core.internal.boot.InternalBootLoader.run(InternalBootLoader.java:815); at org.eclipse.core.boot.BootLoader.run(BootLoader.java:285); at java.lang.reflect.Method.invoke(Native Method); at org.eclipse.core.launcher.Main.basicRun(Main.java:151); at org.eclipse.core.launcher.Main.run(Main.java:433); at org.eclipse.core.launcher.UIMain.main(UIMain.java:52); ; Native Stack -----; Address Frame; 0x77f830b3 0x0cf33c38 RtlAllocateAndInitializeSid+0x68; ; -------------------------------------------------------------------------; ; ; ; ; NOTES:; ; PM (9/26/2001 6:12:04 PM); I reproduced it trying to step over the line suffixed with ///// in the String constructor.; ; public String(char value ) {; this.count = value.length;; this.value = new char ; ////// STEP OVER core dump; System.arraycopy(value; 0; this.value; 0; count);;</td>\n",
       "      <td>P1</td>\n",
       "      <td>P1</td>\n",
       "    </tr>\n",
       "  </tbody>\n",
       "</table>\n",
       "</div>"
      ],
      "text/plain": [
       "                                                                                                                                                                                                                                                                                                                                                                                                                                                                                                                                                                                                                                                                                                                                                                                                                                                                                                                                                                                                                                                                                                                                                                                                                                                                                                                                                                                                                                                                                                                                                                                                                                                                                                                                                                                                                                                                                                                                                                                                                                                                                                                                                                                                                                                                                                                                                                                                                                                                                                                                                                                                                                                                                                                                                                                                                                                                                                                                                                                                                                                                                                                                                                                                                                                                                                                                                                                                                                                                                                                                                                                                                                                                                                                                                                                                                                                                                                                                                                                                                                                                                                                                                                                                                                                                                                                                                                                                                                                                                                                                                                                                                                                                                                                                                                                                                                                                                                                                                                                                                                                                                                                                                                                                                                                                                                                                                                                                                                                                                                                                                                                                                                                                                                                                                                                                                                                                                                                                                                                                                                                                                                                                                                                                                                                                                                                                                                                                                                                                                                                                                                                                                                                                                                                                                                                                                                                                                                                                                                                                                                                                                                                                                                                                                                                                                                                                                                                                                                                                                                                                                                                                                                                                                                                                                                                                                                                                                                                                                                                                                                                                                                                                                                                                                                                                                                                                                                                                                                                                                                                                                                                                                                                                                                                                                                                                                                                                                                                                                                                                                                                                                                                                                                                                                                                                                                                                                                                                                                                                                                                                                                                                                                                                                                                                                                                                                                                                                                                                                                                                                                                                                                                                                                                                                                                                                                                                                                                                                                                                                                                                                                                                                                                                                                                                                                                                                                                                                                                                                                                                                                                                                                                                                                                                                                                                                                                                                                                                                                                                                                                                                                                                                                                                                                                                                                                                                                                                                                                                                                                                                                                                                                                                                                                                                                                                                                                                                                                                                                                                                                                                                                                                                                                                                                                                                                                                                                                                                                                                                                                                                                                                                                                                                                                                                                                                                                                                                                                                                                                                                                                                                                                                                                                                                                                                                                                                                                                                                                                                                                                                                                                                                                                                                                                                                                                                                                                                                                                                                                                                                                                                                                                                                                                                                                                                                                                                                                                                                                                                                                                                                                                                                                                                                                                                                                                                                                                                                                                                                                                                                                                                                                                                                                                                                                                                                                                                                                                                                                                                                                                                                                                                                                                                                                                                                                                                                                                                                                                                                                                                                                                                                                                                                                                                                                                                                                                                                                                                                                                                                                                                                                                                                                                                                                                                                                                                                                                                                                                                                                                                                                                                                                                                                                                                                                                                                                                                                                                                                                                                                                                                                                                                                                                                                                                                                                                                                                                                                                                                                                                                                                                                                                                                                                                                                                                                                                                                                                                                                                                                                                                                                                                                                                                                                                                                                                                                                                                                                                                     text actual predicted\n",
       "6071                                                                                                                                                                                                                                                                                                                                                                                                                                                                                                                                                                                                                                                                                                                                                                                                                                                                                                                                                                                                                                                                                                                                                                                                                                                                                                                                                                                                                                                                                                                                                                                                                                                                                                                                                                                                                                                                                                                                                                                                                                                                                                                                                                                                                                                                                                                                                                                                                                                                                                                                                                                                                                                                                                                                                                                                                                                                                                                                                                                                                                                                                                                                                                                                                                                                                                                                                                                                                                                                                                                                                                                                                                                                                                                                                                                                                                                                                                                                                                                                                                                                                                                                                                                                                                                                                                                                                                                                                                                                                                                                                                                                                                                                                                                                                                                                                                                                                                                                                                                                                                                                                                                                                                                                                                                                                                                                                                                                                                                                                                                                                                                                                                                                                                                                                                                                                                                                                                                                                                                                                                                                                                                                                                                                                                                                                                                                                                                                                                                                                                                                                                                                                                                                                                                                                                                                                                                                                                                                                                                                                                                                                                                                                                                                                                                                                                                                                                                                                                                                                                                                                                                                                                                                                                                                                                                                                                                                                                                                                                                                                                                                                                                                                                                                                                                                                                                                                                                                                                                                                                                                                                                                                                                                                                                                                                                                                                                                                                                                                                                                                                                                                                                                                                                                                                                                                                                                                                                                                                                                                                                                                                                                                                                                                                                                                                                                                                                                                                                                                                                                                                                                                                                                                                                                                                                                                                                                                                                                                                                                                                                                                                                                                                                                                                                                                                                                                                                                                                                                                                                                                                                                                                                                                                                                                                                                                                                                                                                                                                                                                                                                                                                                                                                                                                                                                                                                                                                                                                                                                                                                                                                                                                                                                                                                                                                                                                                                                                                                                                                                                                                                                                                                                                                                                                                                                                                                                                                                                                                                                                                                                                                                                                                                                                                                                                                                                                                                                                                                                                                                                                                                                                                                                                                                                                                                                                                                                                                                                                                                                                                                                                                                                                                                                                                                                                                                                                                                                                                                                                                                                                                                                                                                                                                                                                                                                                                                                                                                                                                                                                                                                                                                                                                                                                                                                                                                                                                                                                                                                                                                                                                                                                                                                                                                                                                                                                                                                                                                                                                                                                                                                                                                                                                                                                                                                                                                                                                                                                                                                                                                                                                                                                                                                                                                                                                                                                                                                                                                                                                                                                                                                                                                                                                                                                                                                                                                                                                                                                                                                                                                                                                                                                                                                                                                                                                                                                                                                                                                                                                                                                                                                                                                                                                                                                                                                                                                                                                                                                                                                                                                                                                                                                                                                                                                                                                                                                                                                                                                                                                                                                                                                                                                                                                                                                                                                                   Support to add library to source/class/boot path Need to be able to add a library (conatiner) to source/class/boot paths in java ; launch configs.     P2        P2\n",
       "208   CoreDump in debugger step action (1GKNVC2) Was running Eclipse-in-Eclipse; and debugging open on selection. Selected step into from the frame below the top one; and got a core dump.; Target Eclipse was running on Sun JDK 1.3; dev Eclipse was running on default IBM JRE 1.3.; ; ===========================; Exception code: C0000005 ACCESS_VIOLATION; Fault address: 71621AFC 01:00040AFC D:\\eclipse\\sdk\\eclipse\\jre\\bin\\classic\\jvm.dll; ; Registers:; EAX:00000001; EBX:00000008; ECX:00000008; EDX:00000001; ESI:00000001; EDI:008A66F0; CS:EIP:001B:71621AFC; SS:ESP:0023:1146FC94 EBP:1146FF74; DS:0023 ES:0023 FS:0038 GS:0000; Flags:00010202; ; Wed Sep 26 14:14:41 2001; ; ; J2RE 1.3.0 IBM build cn130-20010502; D:\\eclipse\\sdk\\eclipse\\jre\\bin\\javaw.exe -classpath c:\\eclipse2\\plugins\\Eclipse Core Launcher;c:\\eclipse2\\plugins\\Eclipse Core Launcher\\startup.jar;c:\\eclipse2\\plugins\\org.apache.xerces;c:\\eclipse2\\plugins\\org.apache.xerces\\xerces.jar;c:\\eclipse2\\plugins\\org.eclipse.ant.core;c:\\eclipse2\\plugins\\org.eclipse.ant.core\\ant.jar;c:\\eclipse2\\plugins\\org.eclipse.ant.core\\antsupport.jar;c:\\eclipse2\\plugins\\org.eclipse.core.resources\\resources.jar;c:\\eclipse2\\plugins\\org.eclipse.core.runtime\\runtime.jar;c:\\eclipse2\\plugins\\org.eclipse.ant.ui;c:\\eclipse2\\plugins\\org.eclipse.ant.ui\\antui.jar;c:\\eclipse2\\plugins\\org.eclipse.help\\help.jar;c:\\eclipse2\\plugins\\org.eclipse.swt\\swt.jar;c:\\eclipse2\\plugins\\org.eclipse.ui\\bin;c:\\eclipse2\\plugins\\org.eclipse.swt;c:\\eclipse2\\plugins\\org.eclipse.core.boot\\boot.jar;c:\\eclipse2\\plugins\\org.eclipse.compare\\bin;c:\\eclipse2\\plugins\\org.eclipse.core.boot;c:\\eclipse2\\plugins\\org.eclipse.core.resources;c:\\eclipse2\\plugins\\org.eclipse.core.runtime;c:\\eclipse2\\plugins\\org.eclipse.core.target;c:\\eclipse2\\plugins\\org.eclipse.core.target\\target.jar;c:\\eclipse2\\plugins\\org.eclipse.webdav\\webdav.jar;c:\\eclipse2\\plugins\\org.eclipse.debug.core\\bin;c:\\eclipse2\\plugins\\org.eclipse.debug.ui\\bin;c:\\eclipse2\\plugins\\org.eclipse.help;c:\\eclipse2\\plugins\\org.eclipse.help.ui;c:\\eclipse2\\plugins\\org.eclipse.help.ui\\helpworkbench.jar;c:\\eclipse2\\plugins\\org.eclipse.jdt.core\\bin;c:\\eclipse2\\plugins\\org.eclipse.jdt.debug\\bin;c:\\eclipse2\\plugins\\org.eclipse.jdt.debug\\jdi.jar;c:\\eclipse2\\plugins\\org.eclipse.jdt.launching\\bin;c:\\eclipse2\\plugins\\org.eclipse.jdt.launching.j9\\bin;c:\\eclipse2\\plugins\\org.eclipse.jdt.ui\\bin;c:\\eclipse2\\plugins\\org.eclipse.search\\bin;c:\\eclipse2\\plugins\\org.eclipse.jdt.ui.vcm\\bin;c:\\eclipse2\\plugins\\org.eclipse.vcm.core\\vcm.jar;c:\\eclipse2\\plugins\\org.eclipse.vcm.ui\\vcmui.jar;c:\\eclipse2\\plugins\\org.eclipse.vcm.core;c:\\eclipse2\\plugins\\org.eclipse.vcm.core.cvs.ssh;c:\\eclipse2\\plugins\\org.eclipse.vcm.core.cvs.ssh\\vcmcvsssh.jar;c:\\eclipse2\\plugins\\org.eclipse.vcm.ui -Xdebug -Xnoagent -Djava.compiler=NONE -Xrunjdwp:transport=dt_socket;address=localhost:13448 org.eclipse.core.launcher.UIMain -dev bin -platform c:/wks1 ; ; System Properties; -----------------; Java Home Dir: D:\\eclipse\\sdk\\eclipse\\jre; Java DLL Dir: D:\\eclipse\\sdk\\eclipse\\jre\\bin; Sys Classpath: D:\\eclipse\\sdk\\eclipse\\jre\\lib\\rt.jar;D:\\eclipse\\sdk\\eclipse\\jre\\lib\\i18n.jar;D:\\eclipse\\sdk\\eclipse\\jre\\classes; User Args:; -Djava.class.path=.; -Djava.class.path=c:\\eclipse2\\plugins\\Eclipse Core Launcher;c:\\eclipse2\\plugins\\Eclipse Core Launcher\\startup.jar;c:\\eclipse2\\plugins\\org.apache.xerces;c:\\eclipse2\\plugins\\org.apache.xerces\\xerces.jar;c:\\eclipse2\\plugins\\org.eclipse.ant.core;c:\\eclipse2\\plugins\\org.eclipse.ant.core\\ant.jar;c:\\eclipse2\\plugins\\org.eclipse.ant.core\\antsupport.jar;c:\\eclipse2\\plugins\\org.eclipse.core.resources\\resources.jar;c:\\eclipse2\\plugins\\org.eclipse.core.runtime\\runtime.jar;c:\\eclipse2\\plugins\\org.eclipse.ant.ui;c:\\eclipse2\\plugins\\org.eclipse.ant.ui\\antui.jar;c:\\eclipse2\\plugins\\org.eclipse.help\\help.jar;c:\\eclipse2\\plugins\\org.eclipse.swt\\swt.jar;c:\\eclipse2\\plugins\\org.eclipse.ui\\bin;c:\\eclipse2\\plugins\\org.eclipse.swt;c:\\eclipse2\\plugins\\org.eclipse.core.boot\\boot.jar;c:\\eclipse2\\plugins\\org.eclipse.compare\\bin;c:\\eclipse2\\plugins\\org.eclipse.core.boot;c:\\eclipse2\\plugins\\org.eclipse.core.resources;c:\\eclipse2\\plugins\\org.eclipse.core.runtime;c:\\eclipse2\\plugins\\org.eclipse.core.target;c:\\eclipse2\\plugins\\org.eclipse.core.target\\target.jar;c:\\eclipse2\\plugins\\org.eclipse.webdav\\webdav.jar;c:\\eclipse2\\plugins\\org.eclipse.debug.core\\bin;c:\\eclipse2\\plugins\\org.eclipse.debug.ui\\bin;c:\\eclipse2\\plugins\\org.eclipse.help;c:\\eclipse2\\plugins\\org.eclipse.help.ui;c:\\eclipse2\\plugins\\org.eclipse.help.ui\\helpworkbench.jar;c:\\eclipse2\\plugins\\org.eclipse.jdt.core\\bin;c:\\eclipse2\\plugins\\org.eclipse.jdt.debug\\bin;c:\\eclipse2\\plugins\\org.eclipse.jdt.debug\\jdi.jar;c:\\eclipse2\\plugins\\org.eclipse.jdt.launching\\bin;c:\\eclipse2\\plugins\\org.eclipse.jdt.launching.j9\\bin;c:\\eclipse2\\plugins\\org.eclipse.jdt.ui\\bin;c:\\eclipse2\\plugins\\org.eclipse.search\\bin;c:\\eclipse2\\plugins\\org.eclipse.jdt.ui.vcm\\bin;c:\\eclipse2\\plugins\\org.eclipse.vcm.core\\vcm.jar;c:\\eclipse2\\plugins\\org.eclipse.vcm.ui\\vcmui.jar;c:\\eclipse2\\plugins\\org.eclipse.vcm.core;c:\\eclipse2\\plugins\\org.eclipse.vcm.core.cvs.ssh;c:\\eclipse2\\plugins\\org.eclipse.vcm.core.cvs.ssh\\vcmcvsssh.jar;c:\\eclipse2\\plugins\\org.eclipse.vcm.ui; -Xdebug; -Xnoagent; -Djava.compiler=NONE; -Xrunjdwp:transport=dt_socket;address=localhost:13448; ; ; Current Thread Details; ----------------------; JDWP Transport Listener: dt_socket (TID:0x8e8638; sys_thread_t:0x8a68c0; state:R; native ID:0x594) prio=5; ; Native Stack -----; Address Frame; 0x71621afc 0x1146ff74 MdCurrentJNIGlobals+0x190fc; 0x008a6928 0x716310e0 0x0000:0x00000000 ; ; -------------------------------------------------------------------------; ; ; ; Operating Environment; ---------------------; error getting host name; OS Level Windows_NT; Processors -; Architecture x86 Family 6 Model 8 Stepping 6; GenuineIntel; How Many 1; ; Memory Usage: ; PageFaultCount: 17998; Working Set Size: 22290432; Peak Working Set Size: 37920768; Quota Paged Pool Usage: 51068; Quota Peak Paged Pool Usage: 57416; Quota Non-Paged Pool Usage: 19104; Quota Peak Non-Paged Pool Usage: 22208; Pagefile Usage: 56496128; Peak Pagefile Usage: 56496128; ; ; Application Environment; -----------------------; Environment Variables -; ALLUSERSPROFILE=C:\\Documents and Settings\\All Users.WINNT; CommonProgramFiles=C:\\Program Files\\Common Files; COMPUTERNAME=PHILIPPETP; ComSpec=C:\\WINNT\\system32\\cmd.exe; HOMEDRIVE=C:; HOMEPATH=\\; IBM_JAVA_COMMAND_LINE=D:\\eclipse\\sdk\\eclipse\\jre\\bin\\javaw.exe -classpath c:\\eclipse2\\plugins\\Eclipse Core Launcher;c:\\eclipse2\\plugins\\Eclipse Core Launcher\\startup.jar;c:\\eclipse2\\plugins\\org.apache.xerces;c:\\eclipse2\\plugins\\org.apache.xerces\\xerces.jar;c:\\eclipse2\\plugins\\org.eclipse.ant.core;c:\\eclipse2\\plugins\\org.eclipse.ant.core\\ant.jar;c:\\eclipse2\\plugins\\org.eclipse.ant.core\\antsupport.jar;c:\\eclipse2\\plugins\\org.eclipse.core.resources\\resources.jar;c:\\eclipse2\\plugins\\org.eclipse.core.runtime\\runtime.jar;c:\\eclipse2\\plugins\\org.eclipse.ant.ui;c:\\eclipse2\\plugins\\org.eclipse.ant.ui\\antui.jar;c:\\eclipse2\\plugins\\org.eclipse.help\\help.jar;c:\\eclipse2\\plugins\\org.eclipse.swt\\swt.jar;c:\\eclipse2\\plugins\\org.eclipse.ui\\bin;c:\\eclipse2\\plugins\\org.eclipse.swt;c:\\eclipse2\\plugins\\org.eclipse.core.boot\\boot.jar;c:\\eclipse2\\plugins\\org.eclipse.compare\\bin;c:\\eclipse2\\plugins\\org.eclipse.core.boot;c:\\eclipse2\\plugins\\org.eclipse.core.resources;c:\\eclipse2\\plugins\\org.eclipse.core.runtime;c:\\eclipse2\\plugins\\org.eclipse.core.target;c:\\eclipse2\\plugins\\org.eclipse.core.target\\target.jar;c:\\eclipse2\\plugins\\org.eclipse.webdav\\webdav.jar;c:\\eclipse2\\plugins\\org.eclipse.debug.core\\bin;c:\\eclipse2\\plugins\\org.eclipse.debug.ui\\bin;c:\\eclipse2\\plugins\\org.eclipse.help;c:\\eclipse2\\plugins\\org.eclipse.help.ui;c:\\eclipse2\\plugins\\org.eclipse.help.ui\\helpworkbench.jar;c:\\eclipse2\\plugins\\org.eclipse.jdt.core\\bin;c:\\eclipse2\\plugins\\org.eclipse.jdt.debug\\bin;c:\\eclipse2\\plugins\\org.eclipse.jdt.debug\\jdi.jar;c:\\eclipse2\\plugins\\org.eclipse.jdt.launching\\bin;c:\\eclipse2\\plugins\\org.eclipse.jdt.launching.j9\\bin;c:\\eclipse2\\plugins\\org.eclipse.jdt.ui\\bin;c:\\eclipse2\\plugins\\org.eclipse.search\\bin;c:\\eclipse2\\plugins\\org.eclipse.jdt.ui.vcm\\bin;c:\\eclipse2\\plugins\\org.eclipse.vcm.core\\vcm.jar;c:\\eclipse2\\plugins\\org.eclipse.vcm.ui\\vcmui.jar;c:\\eclipse2\\plugins\\org.eclipse.vcm.core;c:\\eclipse2\\plugins\\org.eclipse.vcm.core.cvs.ssh;c:\\eclipse2\\plugins\\org.eclipse.vcm.core.cvs.ssh\\vcmcvsssh.jar;c:\\eclipse2\\plugins\\org.eclipse.vcm.ui -Xdebug -Xnoagent -Djava.compiler=NONE -Xrunjdwp:transport=dt_socket;address=localhost:13448 org.eclipse.core.launcher.UIMain -dev bin -platform c:/wks1 ; JDKDIR=.; LOGONSERVER=\\\\PHILIPPETP; NUMBER_OF_PROCESSORS=1; NWLANGUAGE=English; NWUSERNAME=philippe; OS=Windows_NT; Os2LibPath=C:\\WINNT\\system32\\os2\\dll;; Path=C:\\WINNT\\system32;C:\\WINNT;C:\\WINNT\\System32\\Wbem;C:\\WINNT\\system32\\nls;C:\\WINNT\\system32\\nls\\English;d:\\cvs; PATHEXT=.COM;.EXE;.BAT;.CMD;.VBS;.VBE;.JS;.JSE;.WSF;.WSH; PROCESSOR_ARCHITECTURE=x86; PROCESSOR_IDENTIFIER=x86 Family 6 Model 8 Stepping 6; GenuineIntel; PROCESSOR_LEVEL=6; PROCESSOR_REVISION=0806; ProgramFiles=C:\\Program Files; PROMPT=$P$G; SystemDrive=C:; SystemRoot=C:\\WINNT; TEMP=C:\\DOCUME~1\\philippe\\LOCALS~1\\Temp; TMP=C:\\DOCUME~1\\philippe\\LOCALS~1\\Temp; USERDOMAIN=PHILIPPETP; USERNAME=Philippe; USERPROFILE=C:\\Documents and Settings\\philippe; windir=C:\\WINNT; WINDOWS_LOGIN=0; ; ; Loaded Modules (sizes in bytes); ---------------------------------; 0x00400000 (0x5000) D:\\eclipse\\sdk\\eclipse\\jre\\bin\\javaw.exe; 0x77f80000 (0x7b000) C:\\WINNT\\System32\\ntdll.dll; 0x77db0000 (0x5b000) C:\\WINNT\\system32\\ADVAPI32.dll; 0x77e80000 (0xb5000) C:\\WINNT\\system32\\KERNEL32.DLL; 0x77d40000 (0x70000) C:\\WINNT\\system32\\RPCRT4.DLL; 0x78000000 (0x46000) C:\\WINNT\\system32\\MSVCRT.dll; 0x715e0000 (0xf0000) D:\\eclipse\\sdk\\eclipse\\jre\\bin\\classic\\jvm.dll; 0x71590000 (0x5000) D:\\eclipse\\sdk\\eclipse\\jre\\bin\\xhpi.dll; 0x707b0000 (0xa000) D:\\eclipse\\sdk\\eclipse\\jre\\bin\\hpi.dll; 0x77570000 (0x30000) C:\\WINNT\\System32\\WINMM.dll; 0x77e10000 (0x64000) C:\\WINNT\\system32\\USER32.DLL; 0x77f40000 (0x3c000) C:\\WINNT\\system32\\GDI32.DLL; 0x708c0000 (0x1f000) D:\\eclipse\\sdk\\eclipse\\jre\\bin\\jdwp.dll; 0x70830000 (0x2c000) D:\\eclipse\\sdk\\eclipse\\jre\\bin\\java.dll; 0x715b0000 (0x10000) D:\\eclipse\\sdk\\eclipse\\jre\\bin\\zip.dll; 0x70650000 (0x6000) D:\\eclipse\\sdk\\eclipse\\jre\\bin\\dt_socket.dll; 0x75030000 (0x13000) C:\\WINNT\\System32\\ws2_32.dll; 0x75020000 (0x8000) C:\\WINNT\\System32\\WS2HELP.DLL; 0x66210000 (0x9000) C:\\WINNT\\system32\\netware\\NWWS2NDS.DLL; 0x50d50000 (0x42000) C:\\WINNT\\System32\\NETWIN32.DLL; 0x50d00000 (0x15000) C:\\WINNT\\System32\\CLNWIN32.DLL; 0x50df0000 (0x20000) C:\\WINNT\\System32\\LOCWIN32.DLL; 0x50db0000 (0x29000) C:\\WINNT\\System32\\NCPWIN32.dll; 0x75050000 (0x8000) C:\\WINNT\\System32\\WSOCK32.dll; 0x66220000 (0xc000) C:\\WINNT\\system32\\netware\\NWWS2SLP.DLL; 0x1c000000 (0x6000) C:\\WINNT\\System32\\NWSRVLOC.dll; 0x785c0000 (0xc000) C:\\WINNT\\System32\\rnr20.dll; 0x77980000 (0x24000) C:\\WINNT\\System32\\DNSAPI.DLL; 0x77340000 (0x13000) C:\\WINNT\\System32\\iphlpapi.dll; 0x77520000 (0x5000) C:\\WINNT\\System32\\ICMP.DLL; 0x77320000 (0x17000) C:\\WINNT\\System32\\MPRAPI.DLL; 0x75150000 (0x10000) C:\\WINNT\\System32\\SAMLIB.DLL; 0x75170000 (0x4f000) C:\\WINNT\\System32\\NETAPI32.DLL; 0x77be0000 (0xf000) C:\\WINNT\\System32\\SECUR32.DLL; 0x751c0000 (0x6000) C:\\WINNT\\System32\\NETRAP.DLL; 0x77950000 (0x29000) C:\\WINNT\\system32\\WLDAP32.DLL; 0x77a50000 (0xf6000) C:\\WINNT\\system32\\OLE32.DLL; 0x779b0000 (0x9b000) C:\\WINNT\\system32\\OLEAUT32.DLL; 0x773b0000 (0x2e000) C:\\WINNT\\System32\\ACTIVEDS.DLL; 0x77380000 (0x22000) C:\\WINNT\\System32\\ADSLDPC.DLL; 0x77830000 (0xe000) C:\\WINNT\\System32\\RTUTILS.DLL; 0x77880000 (0x8d000) C:\\WINNT\\System32\\SETUPAPI.DLL; 0x77c10000 (0x5d000) C:\\WINNT\\System32\\USERENV.DLL; 0x774e0000 (0x32000) C:\\WINNT\\System32\\RASAPI32.DLL; 0x774c0000 (0x11000) C:\\WINNT\\System32\\RASMAN.DLL; 0x77530000 (0x22000) C:\\WINNT\\System32\\TAPI32.DLL; 0x77b50000 (0x89000) C:\\WINNT\\system32\\COMCTL32.DLL; 0x77c70000 (0x4a000) C:\\WINNT\\system32\\SHLWAPI.DLL; 0x77360000 (0x19000) C:\\WINNT\\System32\\DHCPCSVC.DLL; 0x775a0000 (0x85000) C:\\WINNT\\System32\\CLBCATQ.DLL; 0x777e0000 (0x8000) C:\\WINNT\\System32\\winrnr.dll; 0x777f0000 (0x5000) C:\\WINNT\\System32\\rasadhlp.dll; 0x74fd0000 (0x1f000) C:\\WINNT\\system32\\msafd.dll; 0x75010000 (0x7000) C:\\WINNT\\System32\\wshtcpip.dll; 0x11af0000 (0x3c000) C:\\eclipse2\\plugins\\org.eclipse.swt\\ws\\win32\\swt-win32-1134.dll; 0x76b30000 (0x3e000) C:\\WINNT\\system32\\comdlg32.dll; 0x782f0000 (0x242000) C:\\WINNT\\system32\\SHELL32.DLL; 0x75e60000 (0x1a000) C:\\WINNT\\System32\\IMM32.dll; 0x125d0000 (0x7000) C:\\eclipse2\\plugins\\org.eclipse.core.resources\\os\\win32\\core128.dll; 0x71370000 (0x9000) D:\\eclipse\\sdk\\eclipse\\jre\\bin\\net.dll; 0x77920000 (0x23000) C:\\WINNT\\system32\\IMAGEHLP.DLL; 0x72a00000 (0x2d000) C:\\WINNT\\system32\\DBGHELP.dll; 0x690a0000 (0xb000) C:\\WINNT\\System32\\PSAPI.DLL; ; ; Java Threads; ------------; org.eclipse.jface.text.reconciler.MonoReconciler (TID:0x156c910; sys_thread_t:0x121b6d80; state:CW; native ID:0x18c) prio=1; at java.lang.Object.wait(Native Method); at org.eclipse.jface.text.reconciler.AbstractReconciler$BackgroundThread.run(AbstractReconciler.java:128); ; Native Stack -----; Address Frame; 0x77f827e8 0x127dfd2c RtlFillMemoryUlong+0x21; 0x77e86a3d 0x00000001 OpenFile+0x1b6; ; -------------------------------------------------------------------------; ; Java indexing: org.eclipse.jdt.internal.core.search.indexing.IndexManager (TID:0x9854f8; sys_thread_t:0x11dbc350; state:CW; native ID:0x348) prio=5; at java.lang.Thread.sleep(Native Method); at org.eclipse.jdt.internal.core.search.processing.JobManager.run(JobManager.java:227); at java.lang.Thread.run(Thread.java:498); ; Native Stack -----; Address Frame; 0x77f827e8 0x125cfd00 RtlFillMemoryUlong+0x21; 0x77e86a3d 0x00000001 OpenFile+0x1b6; ; -------------------------------------------------------------------------; ; JDWP Command Reader (TID:0x8e85a8; sys_thread_t:0x8a8ee0; state:R; native ID:0x474) prio=5; ; Native Stack -----; Address Frame; 0x77f827e8 0x114efe0c RtlFillMemoryUlong+0x21; 0x74fd8e33 0x114efe88 0x0001:0x00007e33 C:\\WINNT\\system32\\msafd.dll; 0x7503a247 0x114efed0 WSCWriteNameSpaceOrder+0x130; 0x70651e18 0x000001f4 0x0001:0x00000e18 D:\\eclipse\\sdk\\eclipse\\jre\\bin\\dt_socket.dll; ; -------------------------------------------------------------------------; ; JDWP Event Helper Thread (TID:0x8e85f0; sys_thread_t:0x8a7bd0; state:CW; native ID:0x538) prio=5; ; Native Stack -----; Address Frame; 0x77f827e8 0x114afed0 RtlFillMemoryUlong+0x21; 0x77e86a3d 0x00000001 OpenFile+0x1b6; ; -------------------------------------------------------------------------; ; JDWP Transport Listener: dt_socket (TID:0x8e8638; sys_thread_t:0x8a68c0; state:R; native ID:0x594) prio=5; ; Native Stack -----; Address Frame; 0x71621afc 0x1146ff74 MdCurrentJNIGlobals+0x190fc; 0x008a6928 0x716310e0 0x0000:0x00000000 ; ; -------------------------------------------------------------------------; ; Finalizer (TID:0x8e8708; sys_thread_t:0x82f630; state:CW; native ID:0x5d0) prio=8; at java.lang.Object.wait(Native Method); at java.lang.ref.ReferenceQueue.remove(ReferenceQueue.java:114); at java.lang.ref.ReferenceQueue.remove(ReferenceQueue.java:129); at java.lang.ref.Finalizer$FinalizerThread.run(Finalizer.java:168); ; Native Stack -----; Address Frame; 0x77f827e8 0x0cf2fca4 RtlFillMemoryUlong+0x21; 0x77e86a3d 0x00000001 OpenFile+0x1b6; ; -------------------------------------------------------------------------; ; Reference Handler (TID:0x8e8750; sys_thread_t:0x82b330; state:CW; native ID:0x5c0) prio=10; at java.lang.Object.wait(Native Method); at java.lang.Object.wait(Object.java:421); at java.lang.ref.Reference$ReferenceHandler.run(Reference.java:116); ; Native Stack -----; Address Frame; 0x77f827e8 0x0ceefcf8 RtlFillMemoryUlong+0x21; 0x77e86a3d 0x00000001 OpenFile+0x1b6; ; -------------------------------------------------------------------------; ; Signal dispatcher (TID:0x8e8798; sys_thread_t:0x8231d8; state:R; native ID:0x5a4) prio=5; ; Native Stack -----; Address Frame; 0x77f827e8 0x0ceaff24 RtlFillMemoryUlong+0x21; 0x77e86a3d 0x0ceaffb4 OpenFile+0x1b6; 0x77e8758a 0x0ceaffec FileTimeToSystemTime+0x12f; ; -------------------------------------------------------------------------; ; main (TID:0x8e87e0; sys_thread_t:0x2394d0; state:S; native ID:0x4b8) prio=5; at java.lang.String. (String.java:211); at org.eclipse.jdt.internal.core.SelectionRequestor.resolveType(SelectionRequestor.java:213); at org.eclipse.jdt.internal.core.SelectionRequestor.acceptMethod(SelectionRequestor.java:107); at org.eclipse.jdt.internal.codeassist.SelectionEngine.selectFrom(SelectionEngine.java:351); at org.eclipse.jdt.internal.codeassist.SelectionEngine.select(SelectionEngine.java:304); at org.eclipse.jdt.internal.core.Openable.codeSelect(Openable.java:146); at org.eclipse.jdt.internal.core.Openable.codeSelect(Openable.java:119); at org.eclipse.jdt.internal.core.CompilationUnit.codeSelect(CompilationUnit.java:67); at org.eclipse.jdt.internal.ui.text.java.hover.JavaTypeHover.getHoverInfo(JavaTypeHover.java:81); at org.eclipse.jdt.internal.ui.text.java.hover.JavaTextHover.getHoverInfo(JavaTextHover.java:161); at org.eclipse.jface.text.TextHoveringController.mouseHover(TextHoveringController.java:355); at org.eclipse.swt.widgets.TypedListener.handleEvent(TypedListener.java:205); at org.eclipse.swt.widgets.EventTable.sendEvent(EventTable.java:51); at org.eclipse.swt.widgets.Widget.notifyListeners(Widget.java:634); at org.eclipse.swt.widgets.Display.runDeferredEvents(Display.java:1282); at org.eclipse.swt.widgets.Display.readAndDispatch(Display.java:1092); at org.eclipse.ui.internal.Workbench.runEventLoop(Workbench.java:675); at org.eclipse.ui.internal.Workbench.run(Workbench.java:658); at org.eclipse.core.internal.boot.InternalBootLoader.run(InternalBootLoader.java:815); at org.eclipse.core.boot.BootLoader.run(BootLoader.java:285); at java.lang.reflect.Method.invoke(Native Method); at org.eclipse.core.launcher.Main.basicRun(Main.java:151); at org.eclipse.core.launcher.Main.run(Main.java:433); at org.eclipse.core.launcher.UIMain.main(UIMain.java:52); ; Native Stack -----; Address Frame; 0x77f830b3 0x0cf33c38 RtlAllocateAndInitializeSid+0x68; ; -------------------------------------------------------------------------; ; ; ; ; NOTES:; ; PM (9/26/2001 6:12:04 PM); I reproduced it trying to step over the line suffixed with ///// in the String constructor.; ; public String(char value ) {; this.count = value.length;; this.value = new char ; ////// STEP OVER core dump; System.arraycopy(value; 0; this.value; 0; count);;     P1        P1"
      ]
     },
     "execution_count": 49,
     "metadata": {},
     "output_type": "execute_result"
    }
   ],
   "source": [
    "# Cases for correct predictions.\n",
    "frame = {\"text\": X_test, \"actual\": y_test, \"predicted\": y_pred}\n",
    "\n",
    "result = pd.DataFrame(frame)\n",
    "\n",
    "\n",
    "result[\n",
    "    ((result[\"actual\"] == \"P1\") | (result[\"actual\"] == \"P2\"))\n",
    "    & (result[\"actual\"] == result[\"predicted\"])\n",
    "].sample(2)"
   ]
  },
  {
   "cell_type": "code",
   "execution_count": 50,
   "id": "impossible-hampton",
   "metadata": {},
   "outputs": [
    {
     "data": {
      "text/html": [
       "<div>\n",
       "<style scoped>\n",
       "    .dataframe tbody tr th:only-of-type {\n",
       "        vertical-align: middle;\n",
       "    }\n",
       "\n",
       "    .dataframe tbody tr th {\n",
       "        vertical-align: top;\n",
       "    }\n",
       "\n",
       "    .dataframe thead th {\n",
       "        text-align: right;\n",
       "    }\n",
       "</style>\n",
       "<table border=\"1\" class=\"dataframe\">\n",
       "  <thead>\n",
       "    <tr style=\"text-align: right;\">\n",
       "      <th></th>\n",
       "      <th>text</th>\n",
       "      <th>actual</th>\n",
       "      <th>predicted</th>\n",
       "    </tr>\n",
       "  </thead>\n",
       "  <tbody>\n",
       "    <tr>\n",
       "      <th>1411</th>\n",
       "      <td>Thread suspend/resume errors in classes with the same name This bug was exposed as a result of the fix for installing breakpoints in too; many classes (a breakpoint in class Hello would result in a breakpoint being; installed in Hello2). It appears to have been merely exposed by the fix; not; caused by it.; ; 1. Create the two classes which follow and place breakpoints where indicated in; comments.; 2. Debug Hello to the first breakpoint.; 3. Click resume.; 4. Note that the second breakpoint is not hit.; Alternatively:; 1. Same as above.; 2. Same as above.; 3. Step over the System.out call and the instantiation of Hello2; 4. Note that after stepping over the instantiation; the thread was somehow; resumed such that the call to Hello2#foo() is made and the breakpoint in Hello2; is hit.; ; public class Hello() {; ; public static void main(String args) {; Hello h= new Hello();; h.foo();; }; ; public void foo() {; System.out.println(Foo!); // place breakpoint here; Hello2 h2= new Hello2();; h2.foo();; }; }; ; public class Hello2 {; ; public void foo() {; System.out.println(Foo2!); // place breakpoint here; }; ;</td>\n",
       "      <td>P1</td>\n",
       "      <td>P3</td>\n",
       "    </tr>\n",
       "    <tr>\n",
       "      <th>372</th>\n",
       "      <td>Exception adding .class file to folder in package view (1GEUF3I) 1. Start empty Eclipse; 2. Create Java project; 3. In the packages view add a normal folder; 4. Add x.txt ==&gt; visible; folder icon switches from package to folder; 5. Add testInput.class ==&gt; folder switches back to package and .class file not visible; Exception is written to console (see below); ; Maybe the UI should not allow to add .class files if they cant be; handled later.; ; Note that with the default setup (proj = src = bin) it will not be possible; to have normal folders (i.e. which arent on the classpath). This means; it is not possible to write a program that uses .java or .class only as; input.; ; Java Model Exception: Java Model Status ; at org.eclipse.jdt.internal.core.JavaElement.newNotPresentException(JavaElement.java; Compiled Code); at java.lang.Exception. (Exception.java; Compiled Code); at org.eclipse.core.runtime.CoreException. (CoreException.java; Compiled Code); at org.eclipse.jdt.core.JavaModelException. (JavaModelException.java; Compiled Code); at org.eclipse.jdt.internal.core.JavaElement.newNotPresentException(JavaElement.java; Compiled Code); at org.eclipse.jdt.internal.core.JavaElement.getRawInfo(JavaElement.java; Compiled Code); at org.eclipse.jdt.internal.core.BinaryType.getSuperclassName(BinaryType.java:206); at org.eclipse.jdt.internal.core.hierarchy.TypeHierarchy.subtypesIncludeSupertypeOf(TypeHierarchy.java; Compiled Code); at org.eclipse.jdt.internal.core.hierarchy.TypeHierarchy.isAffectedByType(TypeHierarchy.java; Compiled Code); at org.eclipse.jdt.internal.core.hierarchy.TypeHierarchy.isAffected(TypeHierarchy.java; Compiled Code); at org.eclipse.jdt.internal.core.hierarchy.TypeHierarchy.isAffectedByChildren(TypeHierarchy.java; Compiled Code); at org.eclipse.jdt.internal.core.hierarchy.TypeHierarchy.isAffectedByPackageFragment(TypeHierarchy.java; Compiled Code); at org.eclipse.jdt.internal.core.hierarchy.TypeHierarchy.isAffected(TypeHierarchy.java; Compiled Code); at org.eclipse.jdt.internal.core.hierarchy.TypeHierarchy.isAffectedByChildren(TypeHierarchy.java; Compiled Code); at org.eclipse.jdt.internal.core.hierarchy.TypeHierarchy.isAffectedByPackageFragmentRoot(TypeHierarchy.java; Compiled Code); at org.eclipse.jdt.internal.core.hierarchy.TypeHierarchy.isAffected(TypeHierarchy.java; Compiled Code); at org.eclipse.jdt.internal.core.hierarchy.TypeHierarchy.isAffectedByChildren(TypeHierarchy.java; Compiled Code); at org.eclipse.jdt.internal.core.hierarchy.TypeHierarchy.isAffectedByJavaProject(TypeHierarchy.java; Compiled Code); at org.eclipse.jdt.internal.core.hierarchy.TypeHierarchy.isAffected(TypeHierarchy.java; Compiled Code); at org.eclipse.jdt.internal.core.hierarchy.TypeHierarchy.isAffectedByChildren(TypeHierarchy.java; Compiled Code); at org.eclipse.jdt.internal.core.hierarchy.TypeHierarchy.isAffectedByJavaModel(TypeHierarchy.java; Compiled Code); at org.eclipse.jdt.internal.core.hierarchy.TypeHierarchy.isAffected(TypeHierarchy.java; Compiled Code); at org.eclipse.jdt.internal.core.hierarchy.TypeHierarchy.elementChanged(TypeHierarchy.java; Compiled Code); at org.eclipse.jdt.internal.core.JavaModelManager.fire(JavaModelManager.java; Compiled Code); at org.eclipse.jdt.internal.core.JavaModelManager.resourceChanged(JavaModelManager.java; Compiled Code); at org.eclipse.core.internal.events.NotificationManager$1.run(NotificationManager.java; Compiled Code); at org.eclipse.core.internal.runtime.InternalPlatform.run(InternalPlatform.java; Compiled Code); at org.eclipse.core.runtime.Platform.run(Platform.java; Compiled Code); at org.eclipse.core.internal.events.NotificationManager.notify(NotificationManager.java; Compiled Code); at org.eclipse.core.internal.events.NotificationManager.broadcastChanges(NotificationManager.java:34); at org.eclipse.core.internal.events.NotificationManager.broadcastChanges(NotificationManager.java:48); at org.eclipse.core.internal.resources.Workspace.broadcastChanges(Workspace.java; Compiled Code); at org.eclipse.core.internal.resources.Workspace.endOperation(Workspace.java; Compiled Code); at org.eclipse.core.internal.resources.Workspace.run(Workspace.java:1188); at org.eclipse.ui.actions.WorkspaceModifyOperation.run(WorkspaceModifyOperation.java:78); at org.eclipse.jface.operation.ModalContext$ModalContextThread.run(ModalContext.java:98); Java Model Exception: Java Model Status ; at org.eclipse.jdt.internal.core.JavaElement.newNotPresentException(JavaElement.java; Compiled Code); at java.lang.Exception. (Exception.java; Compiled Code); at org.eclipse.core.runtime.CoreException. (CoreException.java; Compiled Code); at org.eclipse.jdt.core.JavaModelException. (JavaModelException.java; Compiled Code); at org.eclipse.jdt.internal.core.JavaElement.newNotPresentException(JavaElement.java; Compiled Code); at org.eclipse.jdt.internal.core.JavaElement.getRawInfo(JavaElement.java; Compiled Code); at org.eclipse.jdt.internal.core.BinaryType.getSuperclassName(BinaryType.java:206); at org.eclipse.jdt.internal.core.hierarchy.TypeHierarchy.subtypesIncludeSupertypeOf(TypeHierarchy.java; Compiled Code); at org.eclipse.jdt.internal.core.hierarchy.TypeHierarchy.isAffectedByType(TypeHierarchy.java; Compiled Code); at org.eclipse.jdt.internal.core.hierarchy.TypeHierarchy.isAffected(TypeHierarchy.java; Compiled Code); at org.eclipse.jdt.internal.core.hierarchy.TypeHierarchy.isAffectedByChildren(TypeHierarchy.java; Compiled Code); at org.eclipse.jdt.internal.core.hierarchy.TypeHierarchy.isAffectedByPackageFragment(TypeHierarchy.java; Compiled Code); at org.eclipse.jdt.internal.core.hierarchy.TypeHierarchy.isAffected(TypeHierarchy.java; Compiled Code); at org.eclipse.jdt.internal.core.hierarchy.TypeHierarchy.isAffectedByChildren(TypeHierarchy.java; Compiled Code); at org.eclipse.jdt.internal.core.hierarchy.TypeHierarchy.isAffectedByPackageFragmentRoot(TypeHierarchy.java; Compiled Code); at org.eclipse.jdt.internal.core.hierarchy.TypeHierarchy.isAffected(TypeHierarchy.java; Compiled Code); at org.eclipse.jdt.internal.core.hierarchy.TypeHierarchy.isAffectedByChildren(TypeHierarchy.java; Compiled Code); at org.eclipse.jdt.internal.core.hierarchy.TypeHierarchy.isAffectedByJavaProject(TypeHierarchy.java; Compiled Code); at org.eclipse.jdt.internal.core.hierarchy.TypeHierarchy.isAffected(TypeHierarchy.java; Compiled Code); at org.eclipse.jdt.internal.core.hierarchy.TypeHierarchy.isAffectedByChildren(TypeHierarchy.java; Compiled Code); at org.eclipse.jdt.internal.core.hierarchy.TypeHierarchy.isAffectedByJavaModel(TypeHierarchy.java; Compiled Code); at org.eclipse.jdt.internal.core.hierarchy.TypeHierarchy.isAffected(TypeHierarchy.java; Compiled Code); at org.eclipse.jdt.internal.core.hierarchy.TypeHierarchy.elementChanged(TypeHierarchy.java; Compiled Code); at org.eclipse.jdt.internal.core.JavaModelManager.fire(JavaModelManager.java; Compiled Code); at org.eclipse.jdt.internal.core.JavaModelManager.resourceChanged(JavaModelManager.java; Compiled Code); at org.eclipse.core.internal.events.NotificationManager$1.run(NotificationManager.java; Compiled Code); at org.eclipse.core.internal.runtime.InternalPlatform.run(InternalPlatform.java; Compiled Code); at org.eclipse.core.runtime.Platform.run(Platform.java; Compiled Code); at org.eclipse.core.internal.events.NotificationManager.notify(NotificationManager.java; Compiled Code); at org.eclipse.core.internal.events.NotificationManager.broadcastChanges(NotificationManager.java:34); at org.eclipse.core.internal.events.NotificationManager.broadcastChanges(NotificationManager.java:48); at org.eclipse.core.internal.resources.Workspace.broadcastChanges(Workspace.java; Compiled Code); at org.eclipse.core.internal.resources.Workspace.endOperation(Workspace.java; Compiled Code); at org.eclipse.core.internal.resources.Workspace.run(Workspace.java:1188); at org.eclipse.ui.actions.WorkspaceModifyOperation.run(WorkspaceModifyOperation.java:78); at org.eclipse.jface.operation.ModalContext$ModalContextThread.run(ModalContext.java:98); Java Model Exception: Java Model Status ; at org.eclipse.jdt.internal.core.JavaElement.newNotPresentException(JavaElement.java; Compiled Code); at java.lang.Exception. (Exception.java; Compiled Code); at org.eclipse.core.runtime.CoreException. (CoreException.java; Compiled Code); at org.eclipse.jdt.core.JavaModelException. (JavaModelException.java; Compiled Code); at org.eclipse.jdt.internal.core.JavaElement.newNotPresentException(JavaElement.java; Compiled Code); at org.eclipse.jdt.internal.core.JavaElement.getRawInfo(JavaElement.java; Compiled Code); at org.eclipse.jdt.internal.core.BinaryType.getSuperclassName(BinaryType.java:206); at org.eclipse.jdt.internal.core.hierarchy.TypeHierarchy.subtypesIncludeSupertypeOf(TypeHierarchy.java; Compiled Code); at org.eclipse.jdt.internal.core.hierarchy.TypeHierarchy.isAffectedByType(TypeHierarchy.java; Compiled Code); at org.eclipse.jdt.internal.core.hierarchy.TypeHierarchy.isAffected(TypeHierarchy.java; Compiled Code); at org.eclipse.jdt.internal.core.hierarchy.TypeHierarchy.isAffectedByChildren(TypeHierarchy.java; Compiled Code); at org.eclipse.jdt.internal.core.hierarchy.TypeHierarchy.isAffectedByPackageFragment(TypeHierarchy.java; Compiled Code); at org.eclipse.jdt.internal.core.hierarchy.TypeHierarchy.isAffected(TypeHierarchy.java; Compiled Code); at org.eclipse.jdt.internal.core.hierarchy.TypeHierarchy.isAffectedByChildren(TypeHierarchy.java; Compiled Code); at org.eclipse.jdt.internal.core.hierarchy.TypeHierarchy.isAffectedByPackageFragmentRoot(TypeHierarchy.java; Compiled Code); at org.eclipse.jdt.internal.core.hierarchy.TypeHierarchy.isAffected(TypeHierarchy.java; Compiled Code); at org.eclipse.jdt.internal.core.hierarchy.TypeHierarchy.isAffectedByChildren(TypeHierarchy.java; Compiled Code); at org.eclipse.jdt.internal.core.hierarchy.TypeHierarchy.isAffectedByJavaProject(TypeHierarchy.java; Compiled Code); at org.eclipse.jdt.internal.core.hierarchy.TypeHierarchy.isAffected(TypeHierarchy.java; Compiled Code); at org.eclipse.jdt.internal.core.hierarchy.TypeHierarchy.isAffectedByChildren(TypeHierarchy.java; Compiled Code); at org.eclipse.jdt.internal.core.hierarchy.TypeHierarchy.isAffectedByJavaModel(TypeHierarchy.java; Compiled Code); at org.eclipse.jdt.internal.core.hierarchy.TypeHierarchy.isAffected(TypeHierarchy.java; Compiled Code); at org.eclipse.jdt.internal.core.hierarchy.TypeHierarchy.elementChanged(TypeHierarchy.java; Compiled Code); at org.eclipse.jdt.internal.core.JavaModelManager.fire(JavaModelManager.java; Compiled Code); at org.eclipse.jdt.internal.core.JavaModelManager.resourceChanged(JavaModelManager.java; Compiled Code); at org.eclipse.core.internal.events.NotificationManager$1.run(NotificationManager.java; Compiled Code); at org.eclipse.core.internal.runtime.InternalPlatform.run(InternalPlatform.java; Compiled Code); at org.eclipse.core.runtime.Platform.run(Platform.java; Compiled Code); at org.eclipse.core.internal.events.NotificationManager.notify(NotificationManager.java; Compiled Code); at org.eclipse.core.internal.events.NotificationManager.broadcastChanges(NotificationManager.java:34); at org.eclipse.core.internal.events.NotificationManager.broadcastChanges(NotificationManager.java:48); at org.eclipse.core.internal.resources.Workspace.broadcastChanges(Workspace.java; Compiled Code); at org.eclipse.core.internal.resources.Workspace.endOperation(Workspace.java; Compiled Code); at org.eclipse.core.internal.resources.Workspace.run(Workspace.java:1188); at org.eclipse.ui.actions.WorkspaceModifyOperation.run(WorkspaceModifyOperation.java:78); at org.eclipse.jface.operation.ModalContext$ModalContextThread.run(ModalContext.java:98); ; ; NOTES:; ; GDA (6/5/01 11:09:21 AM); Recommend to fix.; ; JW (6/5/01 5:35:00 PM) OK to investigate.; ; EG (6/6/2001 3:50:52 AM); Step 5 was done by using the basic New File wizard. This wizard is part of the workbench and doesnt; know about Java. The wizard has to be available in the Java UI otherwise users cant create non Java; resources like .txt files. This means the UI cant protect the user from this case.; The .class file created in step 5 is likely incomplete and the JCORE should check for this.; Moving to JCORE; suggest fix if easy.; ; JBL (9/7/2001 12:30:32 PM); No exceptions are logged to the console in 135.; ; JBL (9/7/2001 1:08:54 PM); Was not able to reproduce with the above steps in 118.; ; JBL (9/7/2001 3:53:52 PM); Sent e-mail to DM.; ; DM (9/7/01 7:06:47 PM); In order to see the error you must start Eclipse with -consoleLog or start Eclipse with a batch file ; to have a console which shows the error. Unfortunately the error is not written to the log.; ; JBL (9/10/2001 3:01:10 PM); Exception is caught and hidden by UI. ; ClassFile.isClass() throws a JavaModelException if the .class file is not well formed (as specified in IClassFile).; Problem is more that ClassFile.exists() returns false. In this case; it should be considered as a ; non-java resource.</td>\n",
       "      <td>P2</td>\n",
       "      <td>P3</td>\n",
       "    </tr>\n",
       "  </tbody>\n",
       "</table>\n",
       "</div>"
      ],
      "text/plain": [
       "                                                                                                                                                                                                                                                                                                                                                                                                                                                                                                                                                                                                                                                                                                                                                                                                                                                                                                                                                                                                                                                                                                                                                                                                                                                                                                                                                                                                                                                                                                                                                                                                                                                                                                                                                                                                                                                                                                                                                                                                                                                                                                                                                                                                                                                                                                                                                                                                                                                                                                                                                                                                                                                                                                                                                                                                                                                                                                                                                                                                                                                                                                                                                                                                                                                                                                                                                                                                                                                                                                                                                                                                                                                                                                                                                                                                                                                                                                                                                                                                                                                                                                                                                                                                                                                                                                                                                                                                                                                                                                                                                                                                                                                                                                                                                                                                                                                                                                                                                                                                                                                                                                                                                                                                                                                                                                                                                                                                                                                                                                                                                                                                                                                                                                                                                                                                                                                                                                                                                                                                                                                                                                                                                                                                                                                                                                                                                                                                                                                                                                                                                                                                                                                                                                                                                                                                                                                                                                                                                                                                                                                                                                                                                                                                                                                                                                                                                                                                                                                                                                                                                                                                                                                                                                                                                                                                                                                                                                                                                                                                                                                                                                                                                                                                                                                                                                                                                                                                                                                                                                                                                                                                                                                                                                                                                                                                                                                                                                                                                                                                                                                                                                                                                                                                                                                                                                                                                                                                                                                                                                                                                                                                                                                                                                                                                                                                                                                                                                                                                                                                                                                                                                                                                                                                                                                                                                                                                                                                                                                                                                                                                                                                                                                                                                                                                                                                                                                                                                                                                                                                                                                                                                                                                                                                                                                                                                                                                                                                                                                                                                                                                                                                                                                                                                                                                                                                                                                                                                                                                                                                                                                                                                                                                                                                                                                                                                                                                                                                                                                                                                                                                                                                                                                                                                                                                                                                                                                                                                                                                                                                                                                                                                                                                                                                                                                                                                                                                                                                                                                                                                        text actual predicted\n",
       "1411                                                                                                                                                                                                                                                                                                                                                                                                                                                                                                                                                                                                                                                                                                                                                                                                                                                                                                                                                                                                                                                                                                                                                                                                                                                                                                                                                                                                                                                                                                                                                                                                                                                                                                                                                                                                                                                                                                                                                                                                                                                                                                                                                                                                                                                                                                                                                                                                                                                                                                                                                                                                                                                                                                                                                                                                                                                                                                                                                                                                                                                                                                                                                                                                                                                                                                                                                                                                                                                                                                                                                                                                                                                                                                                                                                                                                                                                                                                                                                                                                                                                                                                                                                                                                                                                                                                                                                                                                                                                                                                                                                                                                                                                                                                                                                                                                                                                                                                                                                                                                                                                                                                                                                                                                                                                                                                                                                                                                                                                                                                                                                                                                                                                                                                                                                                                                                                                                                                                                                                                                                                                                                                                                                                                                                                                                                                                                                                                                                                                                                                                                                                                                                                                                                                                                                                                                                                                                                                                                                                                                                                                                                                                                                                                                                                                                                                                                                                                                                                                                                                                                                                                                                                                                                                                                                                                                                                                                                                                                                                                                                                                                                                                                                                                                                                                                                                                                                                                                                                                                                                                                                                                                                                                                                                                                                                                                                                                                                                                                                                                                                                                                                                                                                                                                                                                                                                                                                                                                                                                                                                                                                                                                                                                                                                                                                                                                                                                                                                                                                                                                                                                                                                                                                                                                                                                                                                                                                                                                                                                                                                                                                                                                                                                                                                                                                                                                                                                                                                                                                                                                                                                                                                                                                                                                                                                                                                                                                                                                                                                                                                                                                                                                                                                                                                                                                                                                                                                                                                                                                                                                                                                                                                                                                                                                                                                                                                                     Thread suspend/resume errors in classes with the same name This bug was exposed as a result of the fix for installing breakpoints in too; many classes (a breakpoint in class Hello would result in a breakpoint being; installed in Hello2). It appears to have been merely exposed by the fix; not; caused by it.; ; 1. Create the two classes which follow and place breakpoints where indicated in; comments.; 2. Debug Hello to the first breakpoint.; 3. Click resume.; 4. Note that the second breakpoint is not hit.; Alternatively:; 1. Same as above.; 2. Same as above.; 3. Step over the System.out call and the instantiation of Hello2; 4. Note that after stepping over the instantiation; the thread was somehow; resumed such that the call to Hello2#foo() is made and the breakpoint in Hello2; is hit.; ; public class Hello() {; ; public static void main(String args) {; Hello h= new Hello();; h.foo();; }; ; public void foo() {; System.out.println(Foo!); // place breakpoint here; Hello2 h2= new Hello2();; h2.foo();; }; }; ; public class Hello2 {; ; public void foo() {; System.out.println(Foo2!); // place breakpoint here; }; ;     P1        P3\n",
       "372   Exception adding .class file to folder in package view (1GEUF3I) 1. Start empty Eclipse; 2. Create Java project; 3. In the packages view add a normal folder; 4. Add x.txt ==> visible; folder icon switches from package to folder; 5. Add testInput.class ==> folder switches back to package and .class file not visible; Exception is written to console (see below); ; Maybe the UI should not allow to add .class files if they cant be; handled later.; ; Note that with the default setup (proj = src = bin) it will not be possible; to have normal folders (i.e. which arent on the classpath). This means; it is not possible to write a program that uses .java or .class only as; input.; ; Java Model Exception: Java Model Status ; at org.eclipse.jdt.internal.core.JavaElement.newNotPresentException(JavaElement.java; Compiled Code); at java.lang.Exception. (Exception.java; Compiled Code); at org.eclipse.core.runtime.CoreException. (CoreException.java; Compiled Code); at org.eclipse.jdt.core.JavaModelException. (JavaModelException.java; Compiled Code); at org.eclipse.jdt.internal.core.JavaElement.newNotPresentException(JavaElement.java; Compiled Code); at org.eclipse.jdt.internal.core.JavaElement.getRawInfo(JavaElement.java; Compiled Code); at org.eclipse.jdt.internal.core.BinaryType.getSuperclassName(BinaryType.java:206); at org.eclipse.jdt.internal.core.hierarchy.TypeHierarchy.subtypesIncludeSupertypeOf(TypeHierarchy.java; Compiled Code); at org.eclipse.jdt.internal.core.hierarchy.TypeHierarchy.isAffectedByType(TypeHierarchy.java; Compiled Code); at org.eclipse.jdt.internal.core.hierarchy.TypeHierarchy.isAffected(TypeHierarchy.java; Compiled Code); at org.eclipse.jdt.internal.core.hierarchy.TypeHierarchy.isAffectedByChildren(TypeHierarchy.java; Compiled Code); at org.eclipse.jdt.internal.core.hierarchy.TypeHierarchy.isAffectedByPackageFragment(TypeHierarchy.java; Compiled Code); at org.eclipse.jdt.internal.core.hierarchy.TypeHierarchy.isAffected(TypeHierarchy.java; Compiled Code); at org.eclipse.jdt.internal.core.hierarchy.TypeHierarchy.isAffectedByChildren(TypeHierarchy.java; Compiled Code); at org.eclipse.jdt.internal.core.hierarchy.TypeHierarchy.isAffectedByPackageFragmentRoot(TypeHierarchy.java; Compiled Code); at org.eclipse.jdt.internal.core.hierarchy.TypeHierarchy.isAffected(TypeHierarchy.java; Compiled Code); at org.eclipse.jdt.internal.core.hierarchy.TypeHierarchy.isAffectedByChildren(TypeHierarchy.java; Compiled Code); at org.eclipse.jdt.internal.core.hierarchy.TypeHierarchy.isAffectedByJavaProject(TypeHierarchy.java; Compiled Code); at org.eclipse.jdt.internal.core.hierarchy.TypeHierarchy.isAffected(TypeHierarchy.java; Compiled Code); at org.eclipse.jdt.internal.core.hierarchy.TypeHierarchy.isAffectedByChildren(TypeHierarchy.java; Compiled Code); at org.eclipse.jdt.internal.core.hierarchy.TypeHierarchy.isAffectedByJavaModel(TypeHierarchy.java; Compiled Code); at org.eclipse.jdt.internal.core.hierarchy.TypeHierarchy.isAffected(TypeHierarchy.java; Compiled Code); at org.eclipse.jdt.internal.core.hierarchy.TypeHierarchy.elementChanged(TypeHierarchy.java; Compiled Code); at org.eclipse.jdt.internal.core.JavaModelManager.fire(JavaModelManager.java; Compiled Code); at org.eclipse.jdt.internal.core.JavaModelManager.resourceChanged(JavaModelManager.java; Compiled Code); at org.eclipse.core.internal.events.NotificationManager$1.run(NotificationManager.java; Compiled Code); at org.eclipse.core.internal.runtime.InternalPlatform.run(InternalPlatform.java; Compiled Code); at org.eclipse.core.runtime.Platform.run(Platform.java; Compiled Code); at org.eclipse.core.internal.events.NotificationManager.notify(NotificationManager.java; Compiled Code); at org.eclipse.core.internal.events.NotificationManager.broadcastChanges(NotificationManager.java:34); at org.eclipse.core.internal.events.NotificationManager.broadcastChanges(NotificationManager.java:48); at org.eclipse.core.internal.resources.Workspace.broadcastChanges(Workspace.java; Compiled Code); at org.eclipse.core.internal.resources.Workspace.endOperation(Workspace.java; Compiled Code); at org.eclipse.core.internal.resources.Workspace.run(Workspace.java:1188); at org.eclipse.ui.actions.WorkspaceModifyOperation.run(WorkspaceModifyOperation.java:78); at org.eclipse.jface.operation.ModalContext$ModalContextThread.run(ModalContext.java:98); Java Model Exception: Java Model Status ; at org.eclipse.jdt.internal.core.JavaElement.newNotPresentException(JavaElement.java; Compiled Code); at java.lang.Exception. (Exception.java; Compiled Code); at org.eclipse.core.runtime.CoreException. (CoreException.java; Compiled Code); at org.eclipse.jdt.core.JavaModelException. (JavaModelException.java; Compiled Code); at org.eclipse.jdt.internal.core.JavaElement.newNotPresentException(JavaElement.java; Compiled Code); at org.eclipse.jdt.internal.core.JavaElement.getRawInfo(JavaElement.java; Compiled Code); at org.eclipse.jdt.internal.core.BinaryType.getSuperclassName(BinaryType.java:206); at org.eclipse.jdt.internal.core.hierarchy.TypeHierarchy.subtypesIncludeSupertypeOf(TypeHierarchy.java; Compiled Code); at org.eclipse.jdt.internal.core.hierarchy.TypeHierarchy.isAffectedByType(TypeHierarchy.java; Compiled Code); at org.eclipse.jdt.internal.core.hierarchy.TypeHierarchy.isAffected(TypeHierarchy.java; Compiled Code); at org.eclipse.jdt.internal.core.hierarchy.TypeHierarchy.isAffectedByChildren(TypeHierarchy.java; Compiled Code); at org.eclipse.jdt.internal.core.hierarchy.TypeHierarchy.isAffectedByPackageFragment(TypeHierarchy.java; Compiled Code); at org.eclipse.jdt.internal.core.hierarchy.TypeHierarchy.isAffected(TypeHierarchy.java; Compiled Code); at org.eclipse.jdt.internal.core.hierarchy.TypeHierarchy.isAffectedByChildren(TypeHierarchy.java; Compiled Code); at org.eclipse.jdt.internal.core.hierarchy.TypeHierarchy.isAffectedByPackageFragmentRoot(TypeHierarchy.java; Compiled Code); at org.eclipse.jdt.internal.core.hierarchy.TypeHierarchy.isAffected(TypeHierarchy.java; Compiled Code); at org.eclipse.jdt.internal.core.hierarchy.TypeHierarchy.isAffectedByChildren(TypeHierarchy.java; Compiled Code); at org.eclipse.jdt.internal.core.hierarchy.TypeHierarchy.isAffectedByJavaProject(TypeHierarchy.java; Compiled Code); at org.eclipse.jdt.internal.core.hierarchy.TypeHierarchy.isAffected(TypeHierarchy.java; Compiled Code); at org.eclipse.jdt.internal.core.hierarchy.TypeHierarchy.isAffectedByChildren(TypeHierarchy.java; Compiled Code); at org.eclipse.jdt.internal.core.hierarchy.TypeHierarchy.isAffectedByJavaModel(TypeHierarchy.java; Compiled Code); at org.eclipse.jdt.internal.core.hierarchy.TypeHierarchy.isAffected(TypeHierarchy.java; Compiled Code); at org.eclipse.jdt.internal.core.hierarchy.TypeHierarchy.elementChanged(TypeHierarchy.java; Compiled Code); at org.eclipse.jdt.internal.core.JavaModelManager.fire(JavaModelManager.java; Compiled Code); at org.eclipse.jdt.internal.core.JavaModelManager.resourceChanged(JavaModelManager.java; Compiled Code); at org.eclipse.core.internal.events.NotificationManager$1.run(NotificationManager.java; Compiled Code); at org.eclipse.core.internal.runtime.InternalPlatform.run(InternalPlatform.java; Compiled Code); at org.eclipse.core.runtime.Platform.run(Platform.java; Compiled Code); at org.eclipse.core.internal.events.NotificationManager.notify(NotificationManager.java; Compiled Code); at org.eclipse.core.internal.events.NotificationManager.broadcastChanges(NotificationManager.java:34); at org.eclipse.core.internal.events.NotificationManager.broadcastChanges(NotificationManager.java:48); at org.eclipse.core.internal.resources.Workspace.broadcastChanges(Workspace.java; Compiled Code); at org.eclipse.core.internal.resources.Workspace.endOperation(Workspace.java; Compiled Code); at org.eclipse.core.internal.resources.Workspace.run(Workspace.java:1188); at org.eclipse.ui.actions.WorkspaceModifyOperation.run(WorkspaceModifyOperation.java:78); at org.eclipse.jface.operation.ModalContext$ModalContextThread.run(ModalContext.java:98); Java Model Exception: Java Model Status ; at org.eclipse.jdt.internal.core.JavaElement.newNotPresentException(JavaElement.java; Compiled Code); at java.lang.Exception. (Exception.java; Compiled Code); at org.eclipse.core.runtime.CoreException. (CoreException.java; Compiled Code); at org.eclipse.jdt.core.JavaModelException. (JavaModelException.java; Compiled Code); at org.eclipse.jdt.internal.core.JavaElement.newNotPresentException(JavaElement.java; Compiled Code); at org.eclipse.jdt.internal.core.JavaElement.getRawInfo(JavaElement.java; Compiled Code); at org.eclipse.jdt.internal.core.BinaryType.getSuperclassName(BinaryType.java:206); at org.eclipse.jdt.internal.core.hierarchy.TypeHierarchy.subtypesIncludeSupertypeOf(TypeHierarchy.java; Compiled Code); at org.eclipse.jdt.internal.core.hierarchy.TypeHierarchy.isAffectedByType(TypeHierarchy.java; Compiled Code); at org.eclipse.jdt.internal.core.hierarchy.TypeHierarchy.isAffected(TypeHierarchy.java; Compiled Code); at org.eclipse.jdt.internal.core.hierarchy.TypeHierarchy.isAffectedByChildren(TypeHierarchy.java; Compiled Code); at org.eclipse.jdt.internal.core.hierarchy.TypeHierarchy.isAffectedByPackageFragment(TypeHierarchy.java; Compiled Code); at org.eclipse.jdt.internal.core.hierarchy.TypeHierarchy.isAffected(TypeHierarchy.java; Compiled Code); at org.eclipse.jdt.internal.core.hierarchy.TypeHierarchy.isAffectedByChildren(TypeHierarchy.java; Compiled Code); at org.eclipse.jdt.internal.core.hierarchy.TypeHierarchy.isAffectedByPackageFragmentRoot(TypeHierarchy.java; Compiled Code); at org.eclipse.jdt.internal.core.hierarchy.TypeHierarchy.isAffected(TypeHierarchy.java; Compiled Code); at org.eclipse.jdt.internal.core.hierarchy.TypeHierarchy.isAffectedByChildren(TypeHierarchy.java; Compiled Code); at org.eclipse.jdt.internal.core.hierarchy.TypeHierarchy.isAffectedByJavaProject(TypeHierarchy.java; Compiled Code); at org.eclipse.jdt.internal.core.hierarchy.TypeHierarchy.isAffected(TypeHierarchy.java; Compiled Code); at org.eclipse.jdt.internal.core.hierarchy.TypeHierarchy.isAffectedByChildren(TypeHierarchy.java; Compiled Code); at org.eclipse.jdt.internal.core.hierarchy.TypeHierarchy.isAffectedByJavaModel(TypeHierarchy.java; Compiled Code); at org.eclipse.jdt.internal.core.hierarchy.TypeHierarchy.isAffected(TypeHierarchy.java; Compiled Code); at org.eclipse.jdt.internal.core.hierarchy.TypeHierarchy.elementChanged(TypeHierarchy.java; Compiled Code); at org.eclipse.jdt.internal.core.JavaModelManager.fire(JavaModelManager.java; Compiled Code); at org.eclipse.jdt.internal.core.JavaModelManager.resourceChanged(JavaModelManager.java; Compiled Code); at org.eclipse.core.internal.events.NotificationManager$1.run(NotificationManager.java; Compiled Code); at org.eclipse.core.internal.runtime.InternalPlatform.run(InternalPlatform.java; Compiled Code); at org.eclipse.core.runtime.Platform.run(Platform.java; Compiled Code); at org.eclipse.core.internal.events.NotificationManager.notify(NotificationManager.java; Compiled Code); at org.eclipse.core.internal.events.NotificationManager.broadcastChanges(NotificationManager.java:34); at org.eclipse.core.internal.events.NotificationManager.broadcastChanges(NotificationManager.java:48); at org.eclipse.core.internal.resources.Workspace.broadcastChanges(Workspace.java; Compiled Code); at org.eclipse.core.internal.resources.Workspace.endOperation(Workspace.java; Compiled Code); at org.eclipse.core.internal.resources.Workspace.run(Workspace.java:1188); at org.eclipse.ui.actions.WorkspaceModifyOperation.run(WorkspaceModifyOperation.java:78); at org.eclipse.jface.operation.ModalContext$ModalContextThread.run(ModalContext.java:98); ; ; NOTES:; ; GDA (6/5/01 11:09:21 AM); Recommend to fix.; ; JW (6/5/01 5:35:00 PM) OK to investigate.; ; EG (6/6/2001 3:50:52 AM); Step 5 was done by using the basic New File wizard. This wizard is part of the workbench and doesnt; know about Java. The wizard has to be available in the Java UI otherwise users cant create non Java; resources like .txt files. This means the UI cant protect the user from this case.; The .class file created in step 5 is likely incomplete and the JCORE should check for this.; Moving to JCORE; suggest fix if easy.; ; JBL (9/7/2001 12:30:32 PM); No exceptions are logged to the console in 135.; ; JBL (9/7/2001 1:08:54 PM); Was not able to reproduce with the above steps in 118.; ; JBL (9/7/2001 3:53:52 PM); Sent e-mail to DM.; ; DM (9/7/01 7:06:47 PM); In order to see the error you must start Eclipse with -consoleLog or start Eclipse with a batch file ; to have a console which shows the error. Unfortunately the error is not written to the log.; ; JBL (9/10/2001 3:01:10 PM); Exception is caught and hidden by UI. ; ClassFile.isClass() throws a JavaModelException if the .class file is not well formed (as specified in IClassFile).; Problem is more that ClassFile.exists() returns false. In this case; it should be considered as a ; non-java resource.     P2        P3"
      ]
     },
     "execution_count": 50,
     "metadata": {},
     "output_type": "execute_result"
    }
   ],
   "source": [
    "result[\n",
    "    ((result[\"actual\"] == \"P1\") | (result[\"actual\"] == \"P2\"))\n",
    "    & (result[\"actual\"] != result[\"predicted\"])\n",
    "].sample(2)"
   ]
  },
  {
   "cell_type": "markdown",
   "id": "chronic-recruitment",
   "metadata": {},
   "source": [
    "### Blueprint: Using Cross-validations to Estimate Realistic Accuracy Metrics\n",
    "\n",
    "Using a cross-validation technique allows us to use all observations, and we do not need to create a separate hold-out test split. This gives the model more data to learn from."
   ]
  },
  {
   "cell_type": "code",
   "execution_count": 52,
   "id": "functioning-worth",
   "metadata": {},
   "outputs": [
    {
     "name": "stdout",
     "output_type": "stream",
     "text": [
      "Validation scores from each iteration of the cross validations [0.48821372 0.44735464 0.44264013 0.42325825 0.37244631]\n",
      "Mean value across of validation scores 0.43478260869565216\n",
      "Standard deviation of validation scores 0.03766511893608705\n"
     ]
    }
   ],
   "source": [
    "from sklearn.model_selection import cross_val_score\n",
    "\n",
    "# Vectorization\n",
    "\n",
    "tfidf = TfidfVectorizer(min_df=10, ngram_range=(1, 2), stop_words=\"english\")\n",
    "dt_tf = tfidf.fit_transform(df[\"text\"]).toarray()\n",
    "\n",
    "# Cross validation with 5 folds.\n",
    "scores = cross_val_score(estimator=model1, X=dt_tf, y=df[\"Priority\"], cv=5)\n",
    "\n",
    "print(\"Validation scores from each iteration of the cross validations\", scores)\n",
    "print(\"Mean value across of validation scores\", scores.mean())\n",
    "print(\"Standard deviation of validation scores\", scores.std())"
   ]
  },
  {
   "cell_type": "markdown",
   "id": "auburn-evanescence",
   "metadata": {},
   "source": [
    "### Blueprint: Performing hyperparameter tuning with Grid Search"
   ]
  },
  {
   "cell_type": "code",
   "execution_count": 59,
   "id": "thermal-allergy",
   "metadata": {},
   "outputs": [
    {
     "name": "stdout",
     "output_type": "stream",
     "text": [
      "Fitting 5 folds for each of 20 candidates, totalling 100 fits\n",
      "[CV] END model__loss=hinge, model__max_iter=10000, model__penalty=l2, tfidf__min_df=5, tfidf__ngram_range=(1, 3); total time=   5.7s\n",
      "[CV] END model__loss=hinge, model__max_iter=10000, model__penalty=l2, tfidf__min_df=5, tfidf__ngram_range=(1, 3); total time=   4.7s\n",
      "[CV] END model__loss=hinge, model__max_iter=10000, model__penalty=l2, tfidf__min_df=5, tfidf__ngram_range=(1, 3); total time=   5.4s\n",
      "[CV] END model__loss=hinge, model__max_iter=10000, model__penalty=l2, tfidf__min_df=5, tfidf__ngram_range=(1, 3); total time=   6.9s\n"
     ]
    },
    {
     "ename": "KeyboardInterrupt",
     "evalue": "",
     "output_type": "error",
     "traceback": [
      "\u001b[0;31m---------------------------------------------------------------------------\u001b[0m",
      "\u001b[0;31mKeyboardInterrupt\u001b[0m                         Traceback (most recent call last)",
      "\u001b[0;32m<ipython-input-59-4f67559589c1>\u001b[0m in \u001b[0;36m<module>\u001b[0;34m\u001b[0m\n\u001b[1;32m     34\u001b[0m     \u001b[0;31m# n_jobs=-1,\u001b[0m\u001b[0;34m\u001b[0m\u001b[0;34m\u001b[0m\u001b[0m\n\u001b[1;32m     35\u001b[0m )\n\u001b[0;32m---> 36\u001b[0;31m \u001b[0mgrid_search_processor\u001b[0m\u001b[0;34m.\u001b[0m\u001b[0mfit\u001b[0m\u001b[0;34m(\u001b[0m\u001b[0mdf\u001b[0m\u001b[0;34m[\u001b[0m\u001b[0;34m\"text\"\u001b[0m\u001b[0;34m]\u001b[0m\u001b[0;34m,\u001b[0m \u001b[0mdf\u001b[0m\u001b[0;34m[\u001b[0m\u001b[0;34m\"Priority\"\u001b[0m\u001b[0;34m]\u001b[0m\u001b[0;34m)\u001b[0m\u001b[0;34m\u001b[0m\u001b[0;34m\u001b[0m\u001b[0m\n\u001b[0m\u001b[1;32m     37\u001b[0m \u001b[0;34m\u001b[0m\u001b[0m\n\u001b[1;32m     38\u001b[0m \u001b[0mbest_params\u001b[0m \u001b[0;34m=\u001b[0m \u001b[0mgrid_search_processor\u001b[0m\u001b[0;34m.\u001b[0m\u001b[0mbest_params_\u001b[0m\u001b[0;34m\u001b[0m\u001b[0;34m\u001b[0m\u001b[0m\n",
      "\u001b[0;32m/usr/local/lib/python3.9/site-packages/sklearn/utils/validation.py\u001b[0m in \u001b[0;36minner_f\u001b[0;34m(*args, **kwargs)\u001b[0m\n\u001b[1;32m     61\u001b[0m             \u001b[0mextra_args\u001b[0m \u001b[0;34m=\u001b[0m \u001b[0mlen\u001b[0m\u001b[0;34m(\u001b[0m\u001b[0margs\u001b[0m\u001b[0;34m)\u001b[0m \u001b[0;34m-\u001b[0m \u001b[0mlen\u001b[0m\u001b[0;34m(\u001b[0m\u001b[0mall_args\u001b[0m\u001b[0;34m)\u001b[0m\u001b[0;34m\u001b[0m\u001b[0;34m\u001b[0m\u001b[0m\n\u001b[1;32m     62\u001b[0m             \u001b[0;32mif\u001b[0m \u001b[0mextra_args\u001b[0m \u001b[0;34m<=\u001b[0m \u001b[0;36m0\u001b[0m\u001b[0;34m:\u001b[0m\u001b[0;34m\u001b[0m\u001b[0;34m\u001b[0m\u001b[0m\n\u001b[0;32m---> 63\u001b[0;31m                 \u001b[0;32mreturn\u001b[0m \u001b[0mf\u001b[0m\u001b[0;34m(\u001b[0m\u001b[0;34m*\u001b[0m\u001b[0margs\u001b[0m\u001b[0;34m,\u001b[0m \u001b[0;34m**\u001b[0m\u001b[0mkwargs\u001b[0m\u001b[0;34m)\u001b[0m\u001b[0;34m\u001b[0m\u001b[0;34m\u001b[0m\u001b[0m\n\u001b[0m\u001b[1;32m     64\u001b[0m \u001b[0;34m\u001b[0m\u001b[0m\n\u001b[1;32m     65\u001b[0m             \u001b[0;31m# extra_args > 0\u001b[0m\u001b[0;34m\u001b[0m\u001b[0;34m\u001b[0m\u001b[0m\n",
      "\u001b[0;32m/usr/local/lib/python3.9/site-packages/sklearn/model_selection/_search.py\u001b[0m in \u001b[0;36mfit\u001b[0;34m(self, X, y, groups, **fit_params)\u001b[0m\n\u001b[1;32m    839\u001b[0m                 \u001b[0;32mreturn\u001b[0m \u001b[0mresults\u001b[0m\u001b[0;34m\u001b[0m\u001b[0;34m\u001b[0m\u001b[0m\n\u001b[1;32m    840\u001b[0m \u001b[0;34m\u001b[0m\u001b[0m\n\u001b[0;32m--> 841\u001b[0;31m             \u001b[0mself\u001b[0m\u001b[0;34m.\u001b[0m\u001b[0m_run_search\u001b[0m\u001b[0;34m(\u001b[0m\u001b[0mevaluate_candidates\u001b[0m\u001b[0;34m)\u001b[0m\u001b[0;34m\u001b[0m\u001b[0;34m\u001b[0m\u001b[0m\n\u001b[0m\u001b[1;32m    842\u001b[0m \u001b[0;34m\u001b[0m\u001b[0m\n\u001b[1;32m    843\u001b[0m             \u001b[0;31m# multimetric is determined here because in the case of a callable\u001b[0m\u001b[0;34m\u001b[0m\u001b[0;34m\u001b[0m\u001b[0m\n",
      "\u001b[0;32m/usr/local/lib/python3.9/site-packages/sklearn/model_selection/_search.py\u001b[0m in \u001b[0;36m_run_search\u001b[0;34m(self, evaluate_candidates)\u001b[0m\n\u001b[1;32m   1294\u001b[0m     \u001b[0;32mdef\u001b[0m \u001b[0m_run_search\u001b[0m\u001b[0;34m(\u001b[0m\u001b[0mself\u001b[0m\u001b[0;34m,\u001b[0m \u001b[0mevaluate_candidates\u001b[0m\u001b[0;34m)\u001b[0m\u001b[0;34m:\u001b[0m\u001b[0;34m\u001b[0m\u001b[0;34m\u001b[0m\u001b[0m\n\u001b[1;32m   1295\u001b[0m         \u001b[0;34m\"\"\"Search all candidates in param_grid\"\"\"\u001b[0m\u001b[0;34m\u001b[0m\u001b[0;34m\u001b[0m\u001b[0m\n\u001b[0;32m-> 1296\u001b[0;31m         \u001b[0mevaluate_candidates\u001b[0m\u001b[0;34m(\u001b[0m\u001b[0mParameterGrid\u001b[0m\u001b[0;34m(\u001b[0m\u001b[0mself\u001b[0m\u001b[0;34m.\u001b[0m\u001b[0mparam_grid\u001b[0m\u001b[0;34m)\u001b[0m\u001b[0;34m)\u001b[0m\u001b[0;34m\u001b[0m\u001b[0;34m\u001b[0m\u001b[0m\n\u001b[0m\u001b[1;32m   1297\u001b[0m \u001b[0;34m\u001b[0m\u001b[0m\n\u001b[1;32m   1298\u001b[0m \u001b[0;34m\u001b[0m\u001b[0m\n",
      "\u001b[0;32m/usr/local/lib/python3.9/site-packages/sklearn/model_selection/_search.py\u001b[0m in \u001b[0;36mevaluate_candidates\u001b[0;34m(candidate_params, cv, more_results)\u001b[0m\n\u001b[1;32m    793\u001b[0m                               n_splits, n_candidates, n_candidates * n_splits))\n\u001b[1;32m    794\u001b[0m \u001b[0;34m\u001b[0m\u001b[0m\n\u001b[0;32m--> 795\u001b[0;31m                 out = parallel(delayed(_fit_and_score)(clone(base_estimator),\n\u001b[0m\u001b[1;32m    796\u001b[0m                                                        \u001b[0mX\u001b[0m\u001b[0;34m,\u001b[0m \u001b[0my\u001b[0m\u001b[0;34m,\u001b[0m\u001b[0;34m\u001b[0m\u001b[0;34m\u001b[0m\u001b[0m\n\u001b[1;32m    797\u001b[0m                                                        \u001b[0mtrain\u001b[0m\u001b[0;34m=\u001b[0m\u001b[0mtrain\u001b[0m\u001b[0;34m,\u001b[0m \u001b[0mtest\u001b[0m\u001b[0;34m=\u001b[0m\u001b[0mtest\u001b[0m\u001b[0;34m,\u001b[0m\u001b[0;34m\u001b[0m\u001b[0;34m\u001b[0m\u001b[0m\n",
      "\u001b[0;32m/usr/local/lib/python3.9/site-packages/joblib/parallel.py\u001b[0m in \u001b[0;36m__call__\u001b[0;34m(self, iterable)\u001b[0m\n\u001b[1;32m   1042\u001b[0m                 \u001b[0mself\u001b[0m\u001b[0;34m.\u001b[0m\u001b[0m_iterating\u001b[0m \u001b[0;34m=\u001b[0m \u001b[0mself\u001b[0m\u001b[0;34m.\u001b[0m\u001b[0m_original_iterator\u001b[0m \u001b[0;32mis\u001b[0m \u001b[0;32mnot\u001b[0m \u001b[0;32mNone\u001b[0m\u001b[0;34m\u001b[0m\u001b[0;34m\u001b[0m\u001b[0m\n\u001b[1;32m   1043\u001b[0m \u001b[0;34m\u001b[0m\u001b[0m\n\u001b[0;32m-> 1044\u001b[0;31m             \u001b[0;32mwhile\u001b[0m \u001b[0mself\u001b[0m\u001b[0;34m.\u001b[0m\u001b[0mdispatch_one_batch\u001b[0m\u001b[0;34m(\u001b[0m\u001b[0miterator\u001b[0m\u001b[0;34m)\u001b[0m\u001b[0;34m:\u001b[0m\u001b[0;34m\u001b[0m\u001b[0;34m\u001b[0m\u001b[0m\n\u001b[0m\u001b[1;32m   1045\u001b[0m                 \u001b[0;32mpass\u001b[0m\u001b[0;34m\u001b[0m\u001b[0;34m\u001b[0m\u001b[0m\n\u001b[1;32m   1046\u001b[0m \u001b[0;34m\u001b[0m\u001b[0m\n",
      "\u001b[0;32m/usr/local/lib/python3.9/site-packages/joblib/parallel.py\u001b[0m in \u001b[0;36mdispatch_one_batch\u001b[0;34m(self, iterator)\u001b[0m\n\u001b[1;32m    857\u001b[0m                 \u001b[0;32mreturn\u001b[0m \u001b[0;32mFalse\u001b[0m\u001b[0;34m\u001b[0m\u001b[0;34m\u001b[0m\u001b[0m\n\u001b[1;32m    858\u001b[0m             \u001b[0;32melse\u001b[0m\u001b[0;34m:\u001b[0m\u001b[0;34m\u001b[0m\u001b[0;34m\u001b[0m\u001b[0m\n\u001b[0;32m--> 859\u001b[0;31m                 \u001b[0mself\u001b[0m\u001b[0;34m.\u001b[0m\u001b[0m_dispatch\u001b[0m\u001b[0;34m(\u001b[0m\u001b[0mtasks\u001b[0m\u001b[0;34m)\u001b[0m\u001b[0;34m\u001b[0m\u001b[0;34m\u001b[0m\u001b[0m\n\u001b[0m\u001b[1;32m    860\u001b[0m                 \u001b[0;32mreturn\u001b[0m \u001b[0;32mTrue\u001b[0m\u001b[0;34m\u001b[0m\u001b[0;34m\u001b[0m\u001b[0m\n\u001b[1;32m    861\u001b[0m \u001b[0;34m\u001b[0m\u001b[0m\n",
      "\u001b[0;32m/usr/local/lib/python3.9/site-packages/joblib/parallel.py\u001b[0m in \u001b[0;36m_dispatch\u001b[0;34m(self, batch)\u001b[0m\n\u001b[1;32m    775\u001b[0m         \u001b[0;32mwith\u001b[0m \u001b[0mself\u001b[0m\u001b[0;34m.\u001b[0m\u001b[0m_lock\u001b[0m\u001b[0;34m:\u001b[0m\u001b[0;34m\u001b[0m\u001b[0;34m\u001b[0m\u001b[0m\n\u001b[1;32m    776\u001b[0m             \u001b[0mjob_idx\u001b[0m \u001b[0;34m=\u001b[0m \u001b[0mlen\u001b[0m\u001b[0;34m(\u001b[0m\u001b[0mself\u001b[0m\u001b[0;34m.\u001b[0m\u001b[0m_jobs\u001b[0m\u001b[0;34m)\u001b[0m\u001b[0;34m\u001b[0m\u001b[0;34m\u001b[0m\u001b[0m\n\u001b[0;32m--> 777\u001b[0;31m             \u001b[0mjob\u001b[0m \u001b[0;34m=\u001b[0m \u001b[0mself\u001b[0m\u001b[0;34m.\u001b[0m\u001b[0m_backend\u001b[0m\u001b[0;34m.\u001b[0m\u001b[0mapply_async\u001b[0m\u001b[0;34m(\u001b[0m\u001b[0mbatch\u001b[0m\u001b[0;34m,\u001b[0m \u001b[0mcallback\u001b[0m\u001b[0;34m=\u001b[0m\u001b[0mcb\u001b[0m\u001b[0;34m)\u001b[0m\u001b[0;34m\u001b[0m\u001b[0;34m\u001b[0m\u001b[0m\n\u001b[0m\u001b[1;32m    778\u001b[0m             \u001b[0;31m# A job can complete so quickly than its callback is\u001b[0m\u001b[0;34m\u001b[0m\u001b[0;34m\u001b[0m\u001b[0m\n\u001b[1;32m    779\u001b[0m             \u001b[0;31m# called before we get here, causing self._jobs to\u001b[0m\u001b[0;34m\u001b[0m\u001b[0;34m\u001b[0m\u001b[0m\n",
      "\u001b[0;32m/usr/local/lib/python3.9/site-packages/joblib/_parallel_backends.py\u001b[0m in \u001b[0;36mapply_async\u001b[0;34m(self, func, callback)\u001b[0m\n\u001b[1;32m    206\u001b[0m     \u001b[0;32mdef\u001b[0m \u001b[0mapply_async\u001b[0m\u001b[0;34m(\u001b[0m\u001b[0mself\u001b[0m\u001b[0;34m,\u001b[0m \u001b[0mfunc\u001b[0m\u001b[0;34m,\u001b[0m \u001b[0mcallback\u001b[0m\u001b[0;34m=\u001b[0m\u001b[0;32mNone\u001b[0m\u001b[0;34m)\u001b[0m\u001b[0;34m:\u001b[0m\u001b[0;34m\u001b[0m\u001b[0;34m\u001b[0m\u001b[0m\n\u001b[1;32m    207\u001b[0m         \u001b[0;34m\"\"\"Schedule a func to be run\"\"\"\u001b[0m\u001b[0;34m\u001b[0m\u001b[0;34m\u001b[0m\u001b[0m\n\u001b[0;32m--> 208\u001b[0;31m         \u001b[0mresult\u001b[0m \u001b[0;34m=\u001b[0m \u001b[0mImmediateResult\u001b[0m\u001b[0;34m(\u001b[0m\u001b[0mfunc\u001b[0m\u001b[0;34m)\u001b[0m\u001b[0;34m\u001b[0m\u001b[0;34m\u001b[0m\u001b[0m\n\u001b[0m\u001b[1;32m    209\u001b[0m         \u001b[0;32mif\u001b[0m \u001b[0mcallback\u001b[0m\u001b[0;34m:\u001b[0m\u001b[0;34m\u001b[0m\u001b[0;34m\u001b[0m\u001b[0m\n\u001b[1;32m    210\u001b[0m             \u001b[0mcallback\u001b[0m\u001b[0;34m(\u001b[0m\u001b[0mresult\u001b[0m\u001b[0;34m)\u001b[0m\u001b[0;34m\u001b[0m\u001b[0;34m\u001b[0m\u001b[0m\n",
      "\u001b[0;32m/usr/local/lib/python3.9/site-packages/joblib/_parallel_backends.py\u001b[0m in \u001b[0;36m__init__\u001b[0;34m(self, batch)\u001b[0m\n\u001b[1;32m    570\u001b[0m         \u001b[0;31m# Don't delay the application, to avoid keeping the input\u001b[0m\u001b[0;34m\u001b[0m\u001b[0;34m\u001b[0m\u001b[0m\n\u001b[1;32m    571\u001b[0m         \u001b[0;31m# arguments in memory\u001b[0m\u001b[0;34m\u001b[0m\u001b[0;34m\u001b[0m\u001b[0m\n\u001b[0;32m--> 572\u001b[0;31m         \u001b[0mself\u001b[0m\u001b[0;34m.\u001b[0m\u001b[0mresults\u001b[0m \u001b[0;34m=\u001b[0m \u001b[0mbatch\u001b[0m\u001b[0;34m(\u001b[0m\u001b[0;34m)\u001b[0m\u001b[0;34m\u001b[0m\u001b[0;34m\u001b[0m\u001b[0m\n\u001b[0m\u001b[1;32m    573\u001b[0m \u001b[0;34m\u001b[0m\u001b[0m\n\u001b[1;32m    574\u001b[0m     \u001b[0;32mdef\u001b[0m \u001b[0mget\u001b[0m\u001b[0;34m(\u001b[0m\u001b[0mself\u001b[0m\u001b[0;34m)\u001b[0m\u001b[0;34m:\u001b[0m\u001b[0;34m\u001b[0m\u001b[0;34m\u001b[0m\u001b[0m\n",
      "\u001b[0;32m/usr/local/lib/python3.9/site-packages/joblib/parallel.py\u001b[0m in \u001b[0;36m__call__\u001b[0;34m(self)\u001b[0m\n\u001b[1;32m    260\u001b[0m         \u001b[0;31m# change the default number of processes to -1\u001b[0m\u001b[0;34m\u001b[0m\u001b[0;34m\u001b[0m\u001b[0m\n\u001b[1;32m    261\u001b[0m         \u001b[0;32mwith\u001b[0m \u001b[0mparallel_backend\u001b[0m\u001b[0;34m(\u001b[0m\u001b[0mself\u001b[0m\u001b[0;34m.\u001b[0m\u001b[0m_backend\u001b[0m\u001b[0;34m,\u001b[0m \u001b[0mn_jobs\u001b[0m\u001b[0;34m=\u001b[0m\u001b[0mself\u001b[0m\u001b[0;34m.\u001b[0m\u001b[0m_n_jobs\u001b[0m\u001b[0;34m)\u001b[0m\u001b[0;34m:\u001b[0m\u001b[0;34m\u001b[0m\u001b[0;34m\u001b[0m\u001b[0m\n\u001b[0;32m--> 262\u001b[0;31m             return [func(*args, **kwargs)\n\u001b[0m\u001b[1;32m    263\u001b[0m                     for func, args, kwargs in self.items]\n\u001b[1;32m    264\u001b[0m \u001b[0;34m\u001b[0m\u001b[0m\n",
      "\u001b[0;32m/usr/local/lib/python3.9/site-packages/joblib/parallel.py\u001b[0m in \u001b[0;36m<listcomp>\u001b[0;34m(.0)\u001b[0m\n\u001b[1;32m    260\u001b[0m         \u001b[0;31m# change the default number of processes to -1\u001b[0m\u001b[0;34m\u001b[0m\u001b[0;34m\u001b[0m\u001b[0m\n\u001b[1;32m    261\u001b[0m         \u001b[0;32mwith\u001b[0m \u001b[0mparallel_backend\u001b[0m\u001b[0;34m(\u001b[0m\u001b[0mself\u001b[0m\u001b[0;34m.\u001b[0m\u001b[0m_backend\u001b[0m\u001b[0;34m,\u001b[0m \u001b[0mn_jobs\u001b[0m\u001b[0;34m=\u001b[0m\u001b[0mself\u001b[0m\u001b[0;34m.\u001b[0m\u001b[0m_n_jobs\u001b[0m\u001b[0;34m)\u001b[0m\u001b[0;34m:\u001b[0m\u001b[0;34m\u001b[0m\u001b[0;34m\u001b[0m\u001b[0m\n\u001b[0;32m--> 262\u001b[0;31m             return [func(*args, **kwargs)\n\u001b[0m\u001b[1;32m    263\u001b[0m                     for func, args, kwargs in self.items]\n\u001b[1;32m    264\u001b[0m \u001b[0;34m\u001b[0m\u001b[0m\n",
      "\u001b[0;32m/usr/local/lib/python3.9/site-packages/sklearn/utils/fixes.py\u001b[0m in \u001b[0;36m__call__\u001b[0;34m(self, *args, **kwargs)\u001b[0m\n\u001b[1;32m    220\u001b[0m     \u001b[0;32mdef\u001b[0m \u001b[0m__call__\u001b[0m\u001b[0;34m(\u001b[0m\u001b[0mself\u001b[0m\u001b[0;34m,\u001b[0m \u001b[0;34m*\u001b[0m\u001b[0margs\u001b[0m\u001b[0;34m,\u001b[0m \u001b[0;34m**\u001b[0m\u001b[0mkwargs\u001b[0m\u001b[0;34m)\u001b[0m\u001b[0;34m:\u001b[0m\u001b[0;34m\u001b[0m\u001b[0;34m\u001b[0m\u001b[0m\n\u001b[1;32m    221\u001b[0m         \u001b[0;32mwith\u001b[0m \u001b[0mconfig_context\u001b[0m\u001b[0;34m(\u001b[0m\u001b[0;34m**\u001b[0m\u001b[0mself\u001b[0m\u001b[0;34m.\u001b[0m\u001b[0mconfig\u001b[0m\u001b[0;34m)\u001b[0m\u001b[0;34m:\u001b[0m\u001b[0;34m\u001b[0m\u001b[0;34m\u001b[0m\u001b[0m\n\u001b[0;32m--> 222\u001b[0;31m             \u001b[0;32mreturn\u001b[0m \u001b[0mself\u001b[0m\u001b[0;34m.\u001b[0m\u001b[0mfunction\u001b[0m\u001b[0;34m(\u001b[0m\u001b[0;34m*\u001b[0m\u001b[0margs\u001b[0m\u001b[0;34m,\u001b[0m \u001b[0;34m**\u001b[0m\u001b[0mkwargs\u001b[0m\u001b[0;34m)\u001b[0m\u001b[0;34m\u001b[0m\u001b[0;34m\u001b[0m\u001b[0m\n\u001b[0m",
      "\u001b[0;32m/usr/local/lib/python3.9/site-packages/sklearn/model_selection/_validation.py\u001b[0m in \u001b[0;36m_fit_and_score\u001b[0;34m(estimator, X, y, scorer, train, test, verbose, parameters, fit_params, return_train_score, return_parameters, return_n_test_samples, return_times, return_estimator, split_progress, candidate_progress, error_score)\u001b[0m\n\u001b[1;32m    596\u001b[0m             \u001b[0mestimator\u001b[0m\u001b[0;34m.\u001b[0m\u001b[0mfit\u001b[0m\u001b[0;34m(\u001b[0m\u001b[0mX_train\u001b[0m\u001b[0;34m,\u001b[0m \u001b[0;34m**\u001b[0m\u001b[0mfit_params\u001b[0m\u001b[0;34m)\u001b[0m\u001b[0;34m\u001b[0m\u001b[0;34m\u001b[0m\u001b[0m\n\u001b[1;32m    597\u001b[0m         \u001b[0;32melse\u001b[0m\u001b[0;34m:\u001b[0m\u001b[0;34m\u001b[0m\u001b[0;34m\u001b[0m\u001b[0m\n\u001b[0;32m--> 598\u001b[0;31m             \u001b[0mestimator\u001b[0m\u001b[0;34m.\u001b[0m\u001b[0mfit\u001b[0m\u001b[0;34m(\u001b[0m\u001b[0mX_train\u001b[0m\u001b[0;34m,\u001b[0m \u001b[0my_train\u001b[0m\u001b[0;34m,\u001b[0m \u001b[0;34m**\u001b[0m\u001b[0mfit_params\u001b[0m\u001b[0;34m)\u001b[0m\u001b[0;34m\u001b[0m\u001b[0;34m\u001b[0m\u001b[0m\n\u001b[0m\u001b[1;32m    599\u001b[0m \u001b[0;34m\u001b[0m\u001b[0m\n\u001b[1;32m    600\u001b[0m     \u001b[0;32mexcept\u001b[0m \u001b[0mException\u001b[0m \u001b[0;32mas\u001b[0m \u001b[0me\u001b[0m\u001b[0;34m:\u001b[0m\u001b[0;34m\u001b[0m\u001b[0;34m\u001b[0m\u001b[0m\n",
      "\u001b[0;32m/usr/local/lib/python3.9/site-packages/sklearn/pipeline.py\u001b[0m in \u001b[0;36mfit\u001b[0;34m(self, X, y, **fit_params)\u001b[0m\n\u001b[1;32m    339\u001b[0m         \"\"\"\n\u001b[1;32m    340\u001b[0m         \u001b[0mfit_params_steps\u001b[0m \u001b[0;34m=\u001b[0m \u001b[0mself\u001b[0m\u001b[0;34m.\u001b[0m\u001b[0m_check_fit_params\u001b[0m\u001b[0;34m(\u001b[0m\u001b[0;34m**\u001b[0m\u001b[0mfit_params\u001b[0m\u001b[0;34m)\u001b[0m\u001b[0;34m\u001b[0m\u001b[0;34m\u001b[0m\u001b[0m\n\u001b[0;32m--> 341\u001b[0;31m         \u001b[0mXt\u001b[0m \u001b[0;34m=\u001b[0m \u001b[0mself\u001b[0m\u001b[0;34m.\u001b[0m\u001b[0m_fit\u001b[0m\u001b[0;34m(\u001b[0m\u001b[0mX\u001b[0m\u001b[0;34m,\u001b[0m \u001b[0my\u001b[0m\u001b[0;34m,\u001b[0m \u001b[0;34m**\u001b[0m\u001b[0mfit_params_steps\u001b[0m\u001b[0;34m)\u001b[0m\u001b[0;34m\u001b[0m\u001b[0;34m\u001b[0m\u001b[0m\n\u001b[0m\u001b[1;32m    342\u001b[0m         with _print_elapsed_time('Pipeline',\n\u001b[1;32m    343\u001b[0m                                  self._log_message(len(self.steps) - 1)):\n",
      "\u001b[0;32m/usr/local/lib/python3.9/site-packages/sklearn/pipeline.py\u001b[0m in \u001b[0;36m_fit\u001b[0;34m(self, X, y, **fit_params_steps)\u001b[0m\n\u001b[1;32m    301\u001b[0m                 \u001b[0mcloned_transformer\u001b[0m \u001b[0;34m=\u001b[0m \u001b[0mclone\u001b[0m\u001b[0;34m(\u001b[0m\u001b[0mtransformer\u001b[0m\u001b[0;34m)\u001b[0m\u001b[0;34m\u001b[0m\u001b[0;34m\u001b[0m\u001b[0m\n\u001b[1;32m    302\u001b[0m             \u001b[0;31m# Fit or load from cache the current transformer\u001b[0m\u001b[0;34m\u001b[0m\u001b[0;34m\u001b[0m\u001b[0m\n\u001b[0;32m--> 303\u001b[0;31m             X, fitted_transformer = fit_transform_one_cached(\n\u001b[0m\u001b[1;32m    304\u001b[0m                 \u001b[0mcloned_transformer\u001b[0m\u001b[0;34m,\u001b[0m \u001b[0mX\u001b[0m\u001b[0;34m,\u001b[0m \u001b[0my\u001b[0m\u001b[0;34m,\u001b[0m \u001b[0;32mNone\u001b[0m\u001b[0;34m,\u001b[0m\u001b[0;34m\u001b[0m\u001b[0;34m\u001b[0m\u001b[0m\n\u001b[1;32m    305\u001b[0m                 \u001b[0mmessage_clsname\u001b[0m\u001b[0;34m=\u001b[0m\u001b[0;34m'Pipeline'\u001b[0m\u001b[0;34m,\u001b[0m\u001b[0;34m\u001b[0m\u001b[0;34m\u001b[0m\u001b[0m\n",
      "\u001b[0;32m/usr/local/lib/python3.9/site-packages/joblib/memory.py\u001b[0m in \u001b[0;36m__call__\u001b[0;34m(self, *args, **kwargs)\u001b[0m\n\u001b[1;32m    350\u001b[0m \u001b[0;34m\u001b[0m\u001b[0m\n\u001b[1;32m    351\u001b[0m     \u001b[0;32mdef\u001b[0m \u001b[0m__call__\u001b[0m\u001b[0;34m(\u001b[0m\u001b[0mself\u001b[0m\u001b[0;34m,\u001b[0m \u001b[0;34m*\u001b[0m\u001b[0margs\u001b[0m\u001b[0;34m,\u001b[0m \u001b[0;34m**\u001b[0m\u001b[0mkwargs\u001b[0m\u001b[0;34m)\u001b[0m\u001b[0;34m:\u001b[0m\u001b[0;34m\u001b[0m\u001b[0;34m\u001b[0m\u001b[0m\n\u001b[0;32m--> 352\u001b[0;31m         \u001b[0;32mreturn\u001b[0m \u001b[0mself\u001b[0m\u001b[0;34m.\u001b[0m\u001b[0mfunc\u001b[0m\u001b[0;34m(\u001b[0m\u001b[0;34m*\u001b[0m\u001b[0margs\u001b[0m\u001b[0;34m,\u001b[0m \u001b[0;34m**\u001b[0m\u001b[0mkwargs\u001b[0m\u001b[0;34m)\u001b[0m\u001b[0;34m\u001b[0m\u001b[0;34m\u001b[0m\u001b[0m\n\u001b[0m\u001b[1;32m    353\u001b[0m \u001b[0;34m\u001b[0m\u001b[0m\n\u001b[1;32m    354\u001b[0m     \u001b[0;32mdef\u001b[0m \u001b[0mcall_and_shelve\u001b[0m\u001b[0;34m(\u001b[0m\u001b[0mself\u001b[0m\u001b[0;34m,\u001b[0m \u001b[0;34m*\u001b[0m\u001b[0margs\u001b[0m\u001b[0;34m,\u001b[0m \u001b[0;34m**\u001b[0m\u001b[0mkwargs\u001b[0m\u001b[0;34m)\u001b[0m\u001b[0;34m:\u001b[0m\u001b[0;34m\u001b[0m\u001b[0;34m\u001b[0m\u001b[0m\n",
      "\u001b[0;32m/usr/local/lib/python3.9/site-packages/sklearn/pipeline.py\u001b[0m in \u001b[0;36m_fit_transform_one\u001b[0;34m(transformer, X, y, weight, message_clsname, message, **fit_params)\u001b[0m\n\u001b[1;32m    752\u001b[0m     \u001b[0;32mwith\u001b[0m \u001b[0m_print_elapsed_time\u001b[0m\u001b[0;34m(\u001b[0m\u001b[0mmessage_clsname\u001b[0m\u001b[0;34m,\u001b[0m \u001b[0mmessage\u001b[0m\u001b[0;34m)\u001b[0m\u001b[0;34m:\u001b[0m\u001b[0;34m\u001b[0m\u001b[0;34m\u001b[0m\u001b[0m\n\u001b[1;32m    753\u001b[0m         \u001b[0;32mif\u001b[0m \u001b[0mhasattr\u001b[0m\u001b[0;34m(\u001b[0m\u001b[0mtransformer\u001b[0m\u001b[0;34m,\u001b[0m \u001b[0;34m'fit_transform'\u001b[0m\u001b[0;34m)\u001b[0m\u001b[0;34m:\u001b[0m\u001b[0;34m\u001b[0m\u001b[0;34m\u001b[0m\u001b[0m\n\u001b[0;32m--> 754\u001b[0;31m             \u001b[0mres\u001b[0m \u001b[0;34m=\u001b[0m \u001b[0mtransformer\u001b[0m\u001b[0;34m.\u001b[0m\u001b[0mfit_transform\u001b[0m\u001b[0;34m(\u001b[0m\u001b[0mX\u001b[0m\u001b[0;34m,\u001b[0m \u001b[0my\u001b[0m\u001b[0;34m,\u001b[0m \u001b[0;34m**\u001b[0m\u001b[0mfit_params\u001b[0m\u001b[0;34m)\u001b[0m\u001b[0;34m\u001b[0m\u001b[0;34m\u001b[0m\u001b[0m\n\u001b[0m\u001b[1;32m    755\u001b[0m         \u001b[0;32melse\u001b[0m\u001b[0;34m:\u001b[0m\u001b[0;34m\u001b[0m\u001b[0;34m\u001b[0m\u001b[0m\n\u001b[1;32m    756\u001b[0m             \u001b[0mres\u001b[0m \u001b[0;34m=\u001b[0m \u001b[0mtransformer\u001b[0m\u001b[0;34m.\u001b[0m\u001b[0mfit\u001b[0m\u001b[0;34m(\u001b[0m\u001b[0mX\u001b[0m\u001b[0;34m,\u001b[0m \u001b[0my\u001b[0m\u001b[0;34m,\u001b[0m \u001b[0;34m**\u001b[0m\u001b[0mfit_params\u001b[0m\u001b[0;34m)\u001b[0m\u001b[0;34m.\u001b[0m\u001b[0mtransform\u001b[0m\u001b[0;34m(\u001b[0m\u001b[0mX\u001b[0m\u001b[0;34m)\u001b[0m\u001b[0;34m\u001b[0m\u001b[0;34m\u001b[0m\u001b[0m\n",
      "\u001b[0;32m/usr/local/lib/python3.9/site-packages/sklearn/feature_extraction/text.py\u001b[0m in \u001b[0;36mfit_transform\u001b[0;34m(self, raw_documents, y)\u001b[0m\n\u001b[1;32m   1844\u001b[0m         \"\"\"\n\u001b[1;32m   1845\u001b[0m         \u001b[0mself\u001b[0m\u001b[0;34m.\u001b[0m\u001b[0m_check_params\u001b[0m\u001b[0;34m(\u001b[0m\u001b[0;34m)\u001b[0m\u001b[0;34m\u001b[0m\u001b[0;34m\u001b[0m\u001b[0m\n\u001b[0;32m-> 1846\u001b[0;31m         \u001b[0mX\u001b[0m \u001b[0;34m=\u001b[0m \u001b[0msuper\u001b[0m\u001b[0;34m(\u001b[0m\u001b[0;34m)\u001b[0m\u001b[0;34m.\u001b[0m\u001b[0mfit_transform\u001b[0m\u001b[0;34m(\u001b[0m\u001b[0mraw_documents\u001b[0m\u001b[0;34m)\u001b[0m\u001b[0;34m\u001b[0m\u001b[0;34m\u001b[0m\u001b[0m\n\u001b[0m\u001b[1;32m   1847\u001b[0m         \u001b[0mself\u001b[0m\u001b[0;34m.\u001b[0m\u001b[0m_tfidf\u001b[0m\u001b[0;34m.\u001b[0m\u001b[0mfit\u001b[0m\u001b[0;34m(\u001b[0m\u001b[0mX\u001b[0m\u001b[0;34m)\u001b[0m\u001b[0;34m\u001b[0m\u001b[0;34m\u001b[0m\u001b[0m\n\u001b[1;32m   1848\u001b[0m         \u001b[0;31m# X is already a transformed view of raw_documents so\u001b[0m\u001b[0;34m\u001b[0m\u001b[0;34m\u001b[0m\u001b[0m\n",
      "\u001b[0;32m/usr/local/lib/python3.9/site-packages/sklearn/feature_extraction/text.py\u001b[0m in \u001b[0;36mfit_transform\u001b[0;34m(self, raw_documents, y)\u001b[0m\n\u001b[1;32m   1200\u001b[0m         \u001b[0mmax_features\u001b[0m \u001b[0;34m=\u001b[0m \u001b[0mself\u001b[0m\u001b[0;34m.\u001b[0m\u001b[0mmax_features\u001b[0m\u001b[0;34m\u001b[0m\u001b[0;34m\u001b[0m\u001b[0m\n\u001b[1;32m   1201\u001b[0m \u001b[0;34m\u001b[0m\u001b[0m\n\u001b[0;32m-> 1202\u001b[0;31m         vocabulary, X = self._count_vocab(raw_documents,\n\u001b[0m\u001b[1;32m   1203\u001b[0m                                           self.fixed_vocabulary_)\n\u001b[1;32m   1204\u001b[0m \u001b[0;34m\u001b[0m\u001b[0m\n",
      "\u001b[0;32m/usr/local/lib/python3.9/site-packages/sklearn/feature_extraction/text.py\u001b[0m in \u001b[0;36m_count_vocab\u001b[0;34m(self, raw_documents, fixed_vocab)\u001b[0m\n\u001b[1;32m   1112\u001b[0m         \u001b[0;32mfor\u001b[0m \u001b[0mdoc\u001b[0m \u001b[0;32min\u001b[0m \u001b[0mraw_documents\u001b[0m\u001b[0;34m:\u001b[0m\u001b[0;34m\u001b[0m\u001b[0;34m\u001b[0m\u001b[0m\n\u001b[1;32m   1113\u001b[0m             \u001b[0mfeature_counter\u001b[0m \u001b[0;34m=\u001b[0m \u001b[0;34m{\u001b[0m\u001b[0;34m}\u001b[0m\u001b[0;34m\u001b[0m\u001b[0;34m\u001b[0m\u001b[0m\n\u001b[0;32m-> 1114\u001b[0;31m             \u001b[0;32mfor\u001b[0m \u001b[0mfeature\u001b[0m \u001b[0;32min\u001b[0m \u001b[0manalyze\u001b[0m\u001b[0;34m(\u001b[0m\u001b[0mdoc\u001b[0m\u001b[0;34m)\u001b[0m\u001b[0;34m:\u001b[0m\u001b[0;34m\u001b[0m\u001b[0;34m\u001b[0m\u001b[0m\n\u001b[0m\u001b[1;32m   1115\u001b[0m                 \u001b[0;32mtry\u001b[0m\u001b[0;34m:\u001b[0m\u001b[0;34m\u001b[0m\u001b[0;34m\u001b[0m\u001b[0m\n\u001b[1;32m   1116\u001b[0m                     \u001b[0mfeature_idx\u001b[0m \u001b[0;34m=\u001b[0m \u001b[0mvocabulary\u001b[0m\u001b[0;34m[\u001b[0m\u001b[0mfeature\u001b[0m\u001b[0;34m]\u001b[0m\u001b[0;34m\u001b[0m\u001b[0;34m\u001b[0m\u001b[0m\n",
      "\u001b[0;32m/usr/local/lib/python3.9/site-packages/sklearn/feature_extraction/text.py\u001b[0m in \u001b[0;36m_analyze\u001b[0;34m(doc, analyzer, tokenizer, ngrams, preprocessor, decoder, stop_words)\u001b[0m\n\u001b[1;32m    104\u001b[0m             \u001b[0mdoc\u001b[0m \u001b[0;34m=\u001b[0m \u001b[0mpreprocessor\u001b[0m\u001b[0;34m(\u001b[0m\u001b[0mdoc\u001b[0m\u001b[0;34m)\u001b[0m\u001b[0;34m\u001b[0m\u001b[0;34m\u001b[0m\u001b[0m\n\u001b[1;32m    105\u001b[0m         \u001b[0;32mif\u001b[0m \u001b[0mtokenizer\u001b[0m \u001b[0;32mis\u001b[0m \u001b[0;32mnot\u001b[0m \u001b[0;32mNone\u001b[0m\u001b[0;34m:\u001b[0m\u001b[0;34m\u001b[0m\u001b[0;34m\u001b[0m\u001b[0m\n\u001b[0;32m--> 106\u001b[0;31m             \u001b[0mdoc\u001b[0m \u001b[0;34m=\u001b[0m \u001b[0mtokenizer\u001b[0m\u001b[0;34m(\u001b[0m\u001b[0mdoc\u001b[0m\u001b[0;34m)\u001b[0m\u001b[0;34m\u001b[0m\u001b[0;34m\u001b[0m\u001b[0m\n\u001b[0m\u001b[1;32m    107\u001b[0m         \u001b[0;32mif\u001b[0m \u001b[0mngrams\u001b[0m \u001b[0;32mis\u001b[0m \u001b[0;32mnot\u001b[0m \u001b[0;32mNone\u001b[0m\u001b[0;34m:\u001b[0m\u001b[0;34m\u001b[0m\u001b[0;34m\u001b[0m\u001b[0m\n\u001b[1;32m    108\u001b[0m             \u001b[0;32mif\u001b[0m \u001b[0mstop_words\u001b[0m \u001b[0;32mis\u001b[0m \u001b[0;32mnot\u001b[0m \u001b[0;32mNone\u001b[0m\u001b[0;34m:\u001b[0m\u001b[0;34m\u001b[0m\u001b[0;34m\u001b[0m\u001b[0m\n",
      "\u001b[0;31mKeyboardInterrupt\u001b[0m: "
     ]
    }
   ],
   "source": [
    "from sklearn.feature_extraction.text import TfidfVectorizer\n",
    "from sklearn.model_selection import GridSearchCV\n",
    "from sklearn.pipeline import Pipeline\n",
    "\n",
    "training_pipeline = Pipeline(\n",
    "    steps=[\n",
    "        (\"tfidf\", TfidfVectorizer(stop_words=\"english\")),\n",
    "        (\"model\", LinearSVC(random_state=42, tol=1e-5)),\n",
    "    ]\n",
    ")\n",
    "\n",
    "grid_param = [\n",
    "    {\n",
    "        \"tfidf__min_df\": [5, 10],\n",
    "        \"tfidf__ngram_range\": [(1, 3), (1, 6)],\n",
    "        \"model__penalty\": [\"l2\"],\n",
    "        \"model__loss\": [\"hinge\"],\n",
    "        \"model__max_iter\": [10000],\n",
    "    },\n",
    "    {\n",
    "        \"tfidf__min_df\": [5, 10],\n",
    "        \"tfidf__ngram_range\": [(1, 3), (1, 6)],\n",
    "        \"model__penalty\": [\"l2\"],\n",
    "        \"model__C\": [1, 10],\n",
    "        \"model__tol\": [1e-2, 1e-3],\n",
    "    },\n",
    "]\n",
    "\n",
    "grid_search_processor = GridSearchCV(\n",
    "    estimator=training_pipeline,\n",
    "    param_grid=grid_param,\n",
    "    cv=5,\n",
    "    verbose=2,  # Print progress.\n",
    "    # n_jobs=-1,\n",
    ")\n",
    "grid_search_processor.fit(df[\"text\"], df[\"Priority\"])\n",
    "\n",
    "best_params = grid_search_processor.best_params_\n",
    "print(\"Best alpha parameter identified by grid search\", best_params)\n",
    "\n",
    "best_result = grid_search_processor.best_score_\n",
    "print(\"Best result identified by grid search\", best_result)"
   ]
  },
  {
   "cell_type": "code",
   "execution_count": null,
   "id": "healthy-prince",
   "metadata": {},
   "outputs": [],
   "source": [
    "grid_search_results = pd.DataFrame(grid_search_processor.cv_results)\n",
    "grid_search_results[[\"rank_test_score\", \"mean_test_score\", \"params\"]].sort_values(\n",
    "    by=[\"rank_test_score\"]\n",
    ")[:5]"
   ]
  },
  {
   "cell_type": "code",
   "execution_count": null,
   "id": "cheap-temperature",
   "metadata": {},
   "outputs": [],
   "source": []
  }
 ],
 "metadata": {
  "kernelspec": {
   "display_name": "Python 3",
   "language": "python",
   "name": "python3"
  },
  "language_info": {
   "codemirror_mode": {
    "name": "ipython",
    "version": 3
   },
   "file_extension": ".py",
   "mimetype": "text/x-python",
   "name": "python",
   "nbconvert_exporter": "python",
   "pygments_lexer": "ipython3",
   "version": "3.9.10"
  }
 },
 "nbformat": 4,
 "nbformat_minor": 5
}
