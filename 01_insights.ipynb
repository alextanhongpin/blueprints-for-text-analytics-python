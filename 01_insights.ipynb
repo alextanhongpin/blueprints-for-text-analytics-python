{
 "cells": [
  {
   "cell_type": "code",
   "execution_count": 33,
   "id": "pursuant-trigger",
   "metadata": {},
   "outputs": [],
   "source": [
    "import pandas as pd\n",
    "\n",
    "%matplotlib inline"
   ]
  },
  {
   "cell_type": "code",
   "execution_count": 12,
   "id": "olympic-pharmaceutical",
   "metadata": {},
   "outputs": [
    {
     "data": {
      "text/html": [
       "<div>\n",
       "<style scoped>\n",
       "    .dataframe tbody tr th:only-of-type {\n",
       "        vertical-align: middle;\n",
       "    }\n",
       "\n",
       "    .dataframe tbody tr th {\n",
       "        vertical-align: top;\n",
       "    }\n",
       "\n",
       "    .dataframe thead th {\n",
       "        text-align: right;\n",
       "    }\n",
       "</style>\n",
       "<table border=\"1\" class=\"dataframe\">\n",
       "  <thead>\n",
       "    <tr style=\"text-align: right;\">\n",
       "      <th></th>\n",
       "      <th>session</th>\n",
       "      <th>year</th>\n",
       "      <th>country</th>\n",
       "      <th>country_name</th>\n",
       "      <th>speaker</th>\n",
       "      <th>position</th>\n",
       "      <th>text</th>\n",
       "    </tr>\n",
       "  </thead>\n",
       "  <tbody>\n",
       "    <tr>\n",
       "      <th>1017</th>\n",
       "      <td>33</td>\n",
       "      <td>1978</td>\n",
       "      <td>HND</td>\n",
       "      <td>Honduras</td>\n",
       "      <td>Palma Galvez</td>\n",
       "      <td>NaN</td>\n",
       "      <td>﻿293.\\tMy presence in this hall at the thirty-...</td>\n",
       "    </tr>\n",
       "    <tr>\n",
       "      <th>4025</th>\n",
       "      <td>52</td>\n",
       "      <td>1997</td>\n",
       "      <td>MDG</td>\n",
       "      <td>Madagascar</td>\n",
       "      <td>Herizo Razafimahaleo</td>\n",
       "      <td>Deputy Prime Minister</td>\n",
       "      <td>﻿The success of a\\nsession of our General Asse...</td>\n",
       "    </tr>\n",
       "  </tbody>\n",
       "</table>\n",
       "</div>"
      ],
      "text/plain": [
       "      session  year country country_name               speaker  \\\n",
       "1017       33  1978     HND     Honduras          Palma Galvez   \n",
       "4025       52  1997     MDG   Madagascar  Herizo Razafimahaleo   \n",
       "\n",
       "                   position                                               text  \n",
       "1017                    NaN  ﻿293.\\tMy presence in this hall at the thirty-...  \n",
       "4025  Deputy Prime Minister  ﻿The success of a\\nsession of our General Asse...  "
      ]
     },
     "execution_count": 12,
     "metadata": {},
     "output_type": "execute_result"
    }
   ],
   "source": [
    "df = pd.read_csv(\"data/un-general-debates-blueprint.csv\")\n",
    "df.sample(2)"
   ]
  },
  {
   "cell_type": "markdown",
   "id": "defined-judge",
   "metadata": {},
   "source": [
    "**Viewing columns**"
   ]
  },
  {
   "cell_type": "code",
   "execution_count": 13,
   "id": "after-folder",
   "metadata": {},
   "outputs": [
    {
     "name": "stdout",
     "output_type": "stream",
     "text": [
      "columns: session | year | country | country_name | speaker | position | text\n"
     ]
    }
   ],
   "source": [
    "cols = \" | \".join(list(df.columns))\n",
    "print(\"columns:\", cols)"
   ]
  },
  {
   "cell_type": "markdown",
   "id": "handled-candy",
   "metadata": {},
   "source": [
    "**Viewing number of rows and cols**"
   ]
  },
  {
   "cell_type": "code",
   "execution_count": 11,
   "id": "further-morocco",
   "metadata": {},
   "outputs": [
    {
     "data": {
      "text/plain": [
       "(7507, 7)"
      ]
     },
     "execution_count": 11,
     "metadata": {},
     "output_type": "execute_result"
    }
   ],
   "source": [
    "df.shape"
   ]
  },
  {
   "cell_type": "markdown",
   "id": "independent-earth",
   "metadata": {},
   "source": [
    "### Getting an overview of the data with pandas\n",
    "\n",
    "1. calculate summary statistics\n",
    "2. check for missing values\n",
    "3. plot distributions of interesting attributes\n",
    "4. compare distributions across categorires\n",
    "5. visualize developments over time"
   ]
  },
  {
   "cell_type": "code",
   "execution_count": 16,
   "id": "worldwide-animal",
   "metadata": {},
   "outputs": [
    {
     "data": {
      "text/plain": [
       "Index(['session', 'year', 'country', 'country_name', 'speaker', 'position',\n",
       "       'text'],\n",
       "      dtype='object')"
      ]
     },
     "execution_count": 16,
     "metadata": {},
     "output_type": "execute_result"
    }
   ],
   "source": [
    "df.columns"
   ]
  },
  {
   "cell_type": "code",
   "execution_count": 17,
   "id": "athletic-craft",
   "metadata": {},
   "outputs": [
    {
     "data": {
      "text/plain": [
       "session          int64\n",
       "year             int64\n",
       "country         object\n",
       "country_name    object\n",
       "speaker         object\n",
       "position        object\n",
       "text            object\n",
       "dtype: object"
      ]
     },
     "execution_count": 17,
     "metadata": {},
     "output_type": "execute_result"
    }
   ],
   "source": [
    "df.dtypes"
   ]
  },
  {
   "cell_type": "code",
   "execution_count": 22,
   "id": "african-painting",
   "metadata": {},
   "outputs": [
    {
     "name": "stdout",
     "output_type": "stream",
     "text": [
      "<class 'pandas.core.frame.DataFrame'>\n",
      "RangeIndex: 7507 entries, 0 to 7506\n",
      "Data columns (total 8 columns):\n",
      " #   Column        Non-Null Count  Dtype \n",
      "---  ------        --------------  ----- \n",
      " 0   session       7507 non-null   int64 \n",
      " 1   year          7507 non-null   int64 \n",
      " 2   country       7507 non-null   object\n",
      " 3   country_name  7507 non-null   object\n",
      " 4   speaker       7480 non-null   object\n",
      " 5   position      4502 non-null   object\n",
      " 6   text          7507 non-null   object\n",
      " 7   length        7507 non-null   int64 \n",
      "dtypes: int64(3), object(5)\n",
      "memory usage: 469.3+ KB\n"
     ]
    }
   ],
   "source": [
    "df.info()"
   ]
  },
  {
   "cell_type": "markdown",
   "id": "distinguished-reflection",
   "metadata": {},
   "source": [
    "**Calculating summary statistics for columns**\n",
    "\n",
    "Tip: Transpose the columns `df.describe().T` for better visualization."
   ]
  },
  {
   "cell_type": "code",
   "execution_count": 21,
   "id": "negative-punch",
   "metadata": {},
   "outputs": [
    {
     "data": {
      "text/html": [
       "<div>\n",
       "<style scoped>\n",
       "    .dataframe tbody tr th:only-of-type {\n",
       "        vertical-align: middle;\n",
       "    }\n",
       "\n",
       "    .dataframe tbody tr th {\n",
       "        vertical-align: top;\n",
       "    }\n",
       "\n",
       "    .dataframe thead th {\n",
       "        text-align: right;\n",
       "    }\n",
       "</style>\n",
       "<table border=\"1\" class=\"dataframe\">\n",
       "  <thead>\n",
       "    <tr style=\"text-align: right;\">\n",
       "      <th></th>\n",
       "      <th>count</th>\n",
       "      <th>mean</th>\n",
       "      <th>std</th>\n",
       "      <th>min</th>\n",
       "      <th>25%</th>\n",
       "      <th>50%</th>\n",
       "      <th>75%</th>\n",
       "      <th>max</th>\n",
       "    </tr>\n",
       "  </thead>\n",
       "  <tbody>\n",
       "    <tr>\n",
       "      <th>session</th>\n",
       "      <td>7507.0</td>\n",
       "      <td>49.610763</td>\n",
       "      <td>12.892155</td>\n",
       "      <td>25.0</td>\n",
       "      <td>39.0</td>\n",
       "      <td>51.0</td>\n",
       "      <td>61.0</td>\n",
       "      <td>70.0</td>\n",
       "    </tr>\n",
       "    <tr>\n",
       "      <th>year</th>\n",
       "      <td>7507.0</td>\n",
       "      <td>1994.610763</td>\n",
       "      <td>12.892155</td>\n",
       "      <td>1970.0</td>\n",
       "      <td>1984.0</td>\n",
       "      <td>1996.0</td>\n",
       "      <td>2006.0</td>\n",
       "      <td>2015.0</td>\n",
       "    </tr>\n",
       "    <tr>\n",
       "      <th>length</th>\n",
       "      <td>7507.0</td>\n",
       "      <td>17967.281604</td>\n",
       "      <td>7860.038463</td>\n",
       "      <td>2362.0</td>\n",
       "      <td>12077.0</td>\n",
       "      <td>16424.0</td>\n",
       "      <td>22479.5</td>\n",
       "      <td>72041.0</td>\n",
       "    </tr>\n",
       "  </tbody>\n",
       "</table>\n",
       "</div>"
      ],
      "text/plain": [
       "          count          mean          std     min      25%      50%      75%  \\\n",
       "session  7507.0     49.610763    12.892155    25.0     39.0     51.0     61.0   \n",
       "year     7507.0   1994.610763    12.892155  1970.0   1984.0   1996.0   2006.0   \n",
       "length   7507.0  17967.281604  7860.038463  2362.0  12077.0  16424.0  22479.5   \n",
       "\n",
       "             max  \n",
       "session     70.0  \n",
       "year      2015.0  \n",
       "length   72041.0  "
      ]
     },
     "execution_count": 21,
     "metadata": {},
     "output_type": "execute_result"
    }
   ],
   "source": [
    "df[\"length\"] = df[\"text\"].str.len()\n",
    "df.describe().T"
   ]
  },
  {
   "cell_type": "markdown",
   "id": "human-bicycle",
   "metadata": {},
   "source": [
    "**Summary for non-numerical columns**\n",
    "\n",
    "A summary for non-numerical columns can be produced by specifying `include='O'` (alias for `np.object`)."
   ]
  },
  {
   "cell_type": "code",
   "execution_count": 24,
   "id": "differential-hybrid",
   "metadata": {},
   "outputs": [
    {
     "data": {
      "text/html": [
       "<div>\n",
       "<style scoped>\n",
       "    .dataframe tbody tr th:only-of-type {\n",
       "        vertical-align: middle;\n",
       "    }\n",
       "\n",
       "    .dataframe tbody tr th {\n",
       "        vertical-align: top;\n",
       "    }\n",
       "\n",
       "    .dataframe thead th {\n",
       "        text-align: right;\n",
       "    }\n",
       "</style>\n",
       "<table border=\"1\" class=\"dataframe\">\n",
       "  <thead>\n",
       "    <tr style=\"text-align: right;\">\n",
       "      <th></th>\n",
       "      <th>count</th>\n",
       "      <th>unique</th>\n",
       "      <th>top</th>\n",
       "      <th>freq</th>\n",
       "    </tr>\n",
       "  </thead>\n",
       "  <tbody>\n",
       "    <tr>\n",
       "      <th>country</th>\n",
       "      <td>7507</td>\n",
       "      <td>199</td>\n",
       "      <td>MAR</td>\n",
       "      <td>46</td>\n",
       "    </tr>\n",
       "    <tr>\n",
       "      <th>speaker</th>\n",
       "      <td>7480</td>\n",
       "      <td>5428</td>\n",
       "      <td>Seyoum Mesfin</td>\n",
       "      <td>12</td>\n",
       "    </tr>\n",
       "  </tbody>\n",
       "</table>\n",
       "</div>"
      ],
      "text/plain": [
       "        count unique            top freq\n",
       "country  7507    199            MAR   46\n",
       "speaker  7480   5428  Seyoum Mesfin   12"
      ]
     },
     "execution_count": 24,
     "metadata": {},
     "output_type": "execute_result"
    }
   ],
   "source": [
    "df[[\"country\", \"speaker\"]].describe(include=\"O\").T"
   ]
  },
  {
   "cell_type": "markdown",
   "id": "animal-watershed",
   "metadata": {},
   "source": [
    "**Checking for missing data**"
   ]
  },
  {
   "cell_type": "code",
   "execution_count": 27,
   "id": "chinese-tutorial",
   "metadata": {},
   "outputs": [
    {
     "data": {
      "text/plain": [
       "session            0\n",
       "year               0\n",
       "country            0\n",
       "country_name       0\n",
       "speaker           27\n",
       "position        3005\n",
       "text               0\n",
       "length             0\n",
       "dtype: int64"
      ]
     },
     "execution_count": 27,
     "metadata": {},
     "output_type": "execute_result"
    }
   ],
   "source": [
    "# isna() is just an alias to isnull(), but shorter.\n",
    "df.isna().sum()"
   ]
  },
  {
   "cell_type": "code",
   "execution_count": 28,
   "id": "successful-strike",
   "metadata": {},
   "outputs": [],
   "source": [
    "df[\"speaker\"].fillna(\"uknown\", inplace=True)"
   ]
  },
  {
   "cell_type": "code",
   "execution_count": 29,
   "id": "wired-helen",
   "metadata": {},
   "outputs": [
    {
     "data": {
      "text/plain": [
       "George W. Bush        4\n",
       "Mr. George W. Bush    2\n",
       "Mr. George W Bush     1\n",
       "Bush                  1\n",
       "George Bush           1\n",
       "Name: speaker, dtype: int64"
      ]
     },
     "execution_count": 29,
     "metadata": {},
     "output_type": "execute_result"
    }
   ],
   "source": [
    "# Ambiguous/different spellings for a given speaker name.\n",
    "df[df[\"speaker\"].str.contains(\"Bush\")][\"speaker\"].value_counts()"
   ]
  },
  {
   "cell_type": "markdown",
   "id": "spoken-celebration",
   "metadata": {},
   "source": [
    "**Plotting Value Distributions**"
   ]
  },
  {
   "cell_type": "code",
   "execution_count": 30,
   "id": "polar-bacon",
   "metadata": {},
   "outputs": [
    {
     "data": {
      "text/plain": [
       "<AxesSubplot:>"
      ]
     },
     "execution_count": 30,
     "metadata": {},
     "output_type": "execute_result"
    },
    {
     "data": {
      "image/png": "[encoded data removed]",
      "text/plain": [
       "<Figure size 432x288 with 1 Axes>"
      ]
     },
     "metadata": {
      "needs_background": "light"
     },
     "output_type": "display_data"
    }
   ],
   "source": [
    "df[\"length\"].plot(kind=\"box\", vert=False)"
   ]
  },
  {
   "cell_type": "code",
   "execution_count": 34,
   "id": "capable-denmark",
   "metadata": {},
   "outputs": [
    {
     "data": {
      "text/plain": [
       "<AxesSubplot:ylabel='Frequency'>"
      ]
     },
     "execution_count": 34,
     "metadata": {},
     "output_type": "execute_result"
    },
    {
     "data": {
      "image/png": "[encoded data removed]",
      "text/plain": [
       "<Figure size 432x288 with 1 Axes>"
      ]
     },
     "metadata": {
      "needs_background": "light"
     },
     "output_type": "display_data"
    }
   ],
   "source": [
    "df[\"length\"].plot(kind=\"hist\", bins=30)"
   ]
  },
  {
   "cell_type": "markdown",
   "id": "deadly-incidence",
   "metadata": {},
   "source": [
    "**Comparing Value Distributions across categories**"
   ]
  },
  {
   "cell_type": "code",
   "execution_count": 35,
   "id": "downtown-tournament",
   "metadata": {},
   "outputs": [
    {
     "data": {
      "text/plain": [
       "<seaborn.axisgrid.FacetGrid at 0x125877e20>"
      ]
     },
     "execution_count": 35,
     "metadata": {},
     "output_type": "execute_result"
    },
    {
     "data": {
      "image/png": "[encoded data removed]",
      "text/plain": [
       "<Figure size 360x360 with 1 Axes>"
      ]
     },
     "metadata": {
      "needs_background": "light"
     },
     "output_type": "display_data"
    },
    {
     "data": {
      "image/png": "[encoded data removed]",
      "text/plain": [
       "<Figure size 360x360 with 1 Axes>"
      ]
     },
     "metadata": {
      "needs_background": "light"
     },
     "output_type": "display_data"
    }
   ],
   "source": [
    "import seaborn as sns\n",
    "\n",
    "where = df[\"country\"].isin([\"USA\", \"FRA\", \"GBR\", \"CHN\", \"RUS\"])\n",
    "sns.catplot(data=df[where], x=\"country\", y=\"length\", kind=\"box\")\n",
    "sns.catplot(data=df[where], x=\"country\", y=\"length\", kind=\"violin\")"
   ]
  },
  {
   "cell_type": "markdown",
   "id": "fundamental-disclaimer",
   "metadata": {},
   "source": [
    "**Visualizing developments over time**"
   ]
  },
  {
   "cell_type": "code",
   "execution_count": 39,
   "id": "fitted-climb",
   "metadata": {},
   "outputs": [
    {
     "data": {
      "text/plain": [
       "<AxesSubplot:title={'center':'Number of Countries'}, xlabel='year'>"
      ]
     },
     "execution_count": 39,
     "metadata": {},
     "output_type": "execute_result"
    },
    {
     "data": {
      "image/png": "[encoded data removed]",
      "text/plain": [
       "<Figure size 432x288 with 1 Axes>"
      ]
     },
     "metadata": {
      "needs_background": "light"
     },
     "output_type": "display_data"
    }
   ],
   "source": [
    "df.groupby(\"year\").size().plot(title=\"Number of Countries\")"
   ]
  },
  {
   "cell_type": "code",
   "execution_count": 40,
   "id": "cognitive-recognition",
   "metadata": {},
   "outputs": [
    {
     "data": {
      "text/plain": [
       "<AxesSubplot:title={'center':'Avg. Speech Length'}, xlabel='year'>"
      ]
     },
     "execution_count": 40,
     "metadata": {},
     "output_type": "execute_result"
    },
    {
     "data": {
      "image/png": "[encoded data removed]",
      "text/plain": [
       "<Figure size 432x288 with 1 Axes>"
      ]
     },
     "metadata": {
      "needs_background": "light"
     },
     "output_type": "display_data"
    }
   ],
   "source": [
    "df.groupby(\"year\").agg({\"length\": \"mean\"}).plot(\n",
    "    title=\"Avg. Speech Length\", ylim=(0, 30000)\n",
    ")"
   ]
  }
 ],
 "metadata": {
  "kernelspec": {
   "display_name": "Python 3",
   "language": "python",
   "name": "python3"
  },
  "language_info": {
   "codemirror_mode": {
    "name": "ipython",
    "version": 3
   },
   "file_extension": ".py",
   "mimetype": "text/x-python",
   "name": "python",
   "nbconvert_exporter": "python",
   "pygments_lexer": "ipython3",
   "version": "3.9.10"
  }
 },
 "nbformat": 4,
 "nbformat_minor": 5
}
