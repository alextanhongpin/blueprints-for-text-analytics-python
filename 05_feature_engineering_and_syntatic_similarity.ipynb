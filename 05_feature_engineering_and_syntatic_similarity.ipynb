{
  "cells": [
    {
      "cell_type": "markdown",
      "metadata": {
        "id": "view-in-github",
        "colab_type": "text"
      },
      "source": [
        "<a href=\"https://colab.research.google.com/github/alextanhongpin/blueprints-for-text-analytics-python/blob/master/05_feature_engineering_and_syntatic_similarity.ipynb\" target=\"_parent\"><img src=\"https://colab.research.google.com/assets/colab-badge.svg\" alt=\"Open In Colab\"/></a>"
      ]
    },
    {
      "cell_type": "markdown",
      "id": "duplicate-latin",
      "metadata": {
        "id": "duplicate-latin"
      },
      "source": [
        "# Feature Engineering and Syntatic Similarity"
      ]
    },
    {
      "cell_type": "markdown",
      "id": "brave-force",
      "metadata": {
        "id": "brave-force"
      },
      "source": [
        "## Blueprint: Building your own Vectorizer"
      ]
    },
    {
      "cell_type": "code",
      "execution_count": null,
      "id": "lightweight-coating",
      "metadata": {
        "id": "lightweight-coating"
      },
      "outputs": [],
      "source": [
        "sentences = [\n",
        "    \"It was the best of times\",\n",
        "    \"it was the worst of times\",\n",
        "    \"it was the age of wisdom\",\n",
        "    \"it was the age of foolishness\",\n",
        "]\n",
        "tokenized_sentences = [[t for t in sentence.split()] for sentence in sentences]\n",
        "vocabulary = set([w for s in tokenized_sentences for w in s])"
      ]
    },
    {
      "cell_type": "code",
      "execution_count": null,
      "id": "weird-yorkshire",
      "metadata": {
        "id": "weird-yorkshire",
        "outputId": "20abfefb-d7fe-4c14-cf4c-24fac7a0ba7c"
      },
      "outputs": [
        {
          "data": {
            "text/html": [
              "<div>\n",
              "<style scoped>\n",
              "    .dataframe tbody tr th:only-of-type {\n",
              "        vertical-align: middle;\n",
              "    }\n",
              "\n",
              "    .dataframe tbody tr th {\n",
              "        vertical-align: top;\n",
              "    }\n",
              "\n",
              "    .dataframe thead th {\n",
              "        text-align: right;\n",
              "    }\n",
              "</style>\n",
              "<table border=\"1\" class=\"dataframe\">\n",
              "  <thead>\n",
              "    <tr style=\"text-align: right;\">\n",
              "      <th></th>\n",
              "      <th>0</th>\n",
              "      <th>1</th>\n",
              "    </tr>\n",
              "  </thead>\n",
              "  <tbody>\n",
              "    <tr>\n",
              "      <th>0</th>\n",
              "      <td>worst</td>\n",
              "      <td>0</td>\n",
              "    </tr>\n",
              "    <tr>\n",
              "      <th>1</th>\n",
              "      <td>times</td>\n",
              "      <td>1</td>\n",
              "    </tr>\n",
              "    <tr>\n",
              "      <th>2</th>\n",
              "      <td>foolishness</td>\n",
              "      <td>2</td>\n",
              "    </tr>\n",
              "    <tr>\n",
              "      <th>3</th>\n",
              "      <td>the</td>\n",
              "      <td>3</td>\n",
              "    </tr>\n",
              "    <tr>\n",
              "      <th>4</th>\n",
              "      <td>was</td>\n",
              "      <td>4</td>\n",
              "    </tr>\n",
              "    <tr>\n",
              "      <th>5</th>\n",
              "      <td>best</td>\n",
              "      <td>5</td>\n",
              "    </tr>\n",
              "    <tr>\n",
              "      <th>6</th>\n",
              "      <td>of</td>\n",
              "      <td>6</td>\n",
              "    </tr>\n",
              "    <tr>\n",
              "      <th>7</th>\n",
              "      <td>wisdom</td>\n",
              "      <td>7</td>\n",
              "    </tr>\n",
              "    <tr>\n",
              "      <th>8</th>\n",
              "      <td>age</td>\n",
              "      <td>8</td>\n",
              "    </tr>\n",
              "    <tr>\n",
              "      <th>9</th>\n",
              "      <td>It</td>\n",
              "      <td>9</td>\n",
              "    </tr>\n",
              "    <tr>\n",
              "      <th>10</th>\n",
              "      <td>it</td>\n",
              "      <td>10</td>\n",
              "    </tr>\n",
              "  </tbody>\n",
              "</table>\n",
              "</div>"
            ],
            "text/plain": [
              "              0   1\n",
              "0         worst   0\n",
              "1         times   1\n",
              "2   foolishness   2\n",
              "3           the   3\n",
              "4           was   4\n",
              "5          best   5\n",
              "6            of   6\n",
              "7        wisdom   7\n",
              "8           age   8\n",
              "9            It   9\n",
              "10           it  10"
            ]
          },
          "execution_count": 9,
          "metadata": {},
          "output_type": "execute_result"
        }
      ],
      "source": [
        "import pandas as pd\n",
        "\n",
        "pd.DataFrame([[w, i] for i, w in enumerate(vocabulary)])"
      ]
    },
    {
      "cell_type": "markdown",
      "id": "humanitarian-calcium",
      "metadata": {
        "id": "humanitarian-calcium"
      },
      "source": [
        "## Vectorizing Documents"
      ]
    },
    {
      "cell_type": "code",
      "execution_count": null,
      "id": "moving-landscape",
      "metadata": {
        "id": "moving-landscape",
        "outputId": "0b6081a6-6ffa-41e5-8e7b-de0d91201ae7"
      },
      "outputs": [
        {
          "name": "stdout",
          "output_type": "stream",
          "text": [
            "[0, 1, 0, 1, 1, 1, 1, 0, 0, 1, 0]: It was the best of times\n",
            "[1, 1, 0, 1, 1, 0, 1, 0, 0, 0, 1]: it was the worst of times\n",
            "[0, 0, 0, 1, 1, 0, 1, 1, 1, 0, 1]: it was the age of wisdom\n",
            "[0, 0, 1, 1, 1, 0, 1, 0, 1, 0, 1]: it was the age of foolishness\n"
          ]
        }
      ],
      "source": [
        "def onehot_encode(tokenized_sentence):\n",
        "    return [1 if w in tokenized_sentence else 0 for w in vocabulary]\n",
        "\n",
        "\n",
        "onehot = [\n",
        "    onehot_encode(tokenized_sentence) for tokenized_sentence in tokenized_sentences\n",
        "]\n",
        "\n",
        "for sentence, oh in zip(sentences, onehot):\n",
        "    print(f\"{oh}: {sentence}\")"
      ]
    },
    {
      "cell_type": "markdown",
      "id": "moving-difficulty",
      "metadata": {
        "id": "moving-difficulty"
      },
      "source": [
        "**Out-of-vocabulary documents**"
      ]
    },
    {
      "cell_type": "code",
      "execution_count": null,
      "id": "political-economics",
      "metadata": {
        "id": "political-economics",
        "outputId": "caf890bb-9fa7-4fbd-d46f-21e0929233e7"
      },
      "outputs": [
        {
          "data": {
            "text/plain": [
              "[0, 1, 0, 1, 0, 1, 1, 1, 1, 0, 0]"
            ]
          },
          "execution_count": 14,
          "metadata": {},
          "output_type": "execute_result"
        }
      ],
      "source": [
        "onehot_encode(\"the age of wisdom is the best of times\".split())"
      ]
    },
    {
      "cell_type": "code",
      "execution_count": null,
      "id": "overall-holocaust",
      "metadata": {
        "id": "overall-holocaust",
        "outputId": "eb394ed9-bef7-4772-c7d4-4377486c44d4"
      },
      "outputs": [
        {
          "data": {
            "text/plain": [
              "[0, 0, 0, 0, 0, 0, 0, 0, 0, 0, 0]"
            ]
          },
          "execution_count": 15,
          "metadata": {},
          "output_type": "execute_result"
        }
      ],
      "source": [
        "onehot_encode(\"John likes to watch movies. Mary likes movies too.\".split())"
      ]
    },
    {
      "cell_type": "markdown",
      "id": "million-intensity",
      "metadata": {
        "id": "million-intensity"
      },
      "source": [
        "### The Document–Term Matrix"
      ]
    },
    {
      "cell_type": "code",
      "execution_count": null,
      "id": "unknown-headline",
      "metadata": {
        "id": "unknown-headline",
        "outputId": "01eb464b-8bb5-4efa-8b9d-363a969ed6f5"
      },
      "outputs": [
        {
          "data": {
            "text/html": [
              "<div>\n",
              "<style scoped>\n",
              "    .dataframe tbody tr th:only-of-type {\n",
              "        vertical-align: middle;\n",
              "    }\n",
              "\n",
              "    .dataframe tbody tr th {\n",
              "        vertical-align: top;\n",
              "    }\n",
              "\n",
              "    .dataframe thead th {\n",
              "        text-align: right;\n",
              "    }\n",
              "</style>\n",
              "<table border=\"1\" class=\"dataframe\">\n",
              "  <thead>\n",
              "    <tr style=\"text-align: right;\">\n",
              "      <th></th>\n",
              "      <th>worst</th>\n",
              "      <th>times</th>\n",
              "      <th>foolishness</th>\n",
              "      <th>the</th>\n",
              "      <th>was</th>\n",
              "      <th>best</th>\n",
              "      <th>of</th>\n",
              "      <th>wisdom</th>\n",
              "      <th>age</th>\n",
              "      <th>It</th>\n",
              "      <th>it</th>\n",
              "    </tr>\n",
              "  </thead>\n",
              "  <tbody>\n",
              "    <tr>\n",
              "      <th>0</th>\n",
              "      <td>0</td>\n",
              "      <td>1</td>\n",
              "      <td>0</td>\n",
              "      <td>1</td>\n",
              "      <td>1</td>\n",
              "      <td>1</td>\n",
              "      <td>1</td>\n",
              "      <td>0</td>\n",
              "      <td>0</td>\n",
              "      <td>1</td>\n",
              "      <td>0</td>\n",
              "    </tr>\n",
              "    <tr>\n",
              "      <th>1</th>\n",
              "      <td>1</td>\n",
              "      <td>1</td>\n",
              "      <td>0</td>\n",
              "      <td>1</td>\n",
              "      <td>1</td>\n",
              "      <td>0</td>\n",
              "      <td>1</td>\n",
              "      <td>0</td>\n",
              "      <td>0</td>\n",
              "      <td>0</td>\n",
              "      <td>1</td>\n",
              "    </tr>\n",
              "    <tr>\n",
              "      <th>2</th>\n",
              "      <td>0</td>\n",
              "      <td>0</td>\n",
              "      <td>0</td>\n",
              "      <td>1</td>\n",
              "      <td>1</td>\n",
              "      <td>0</td>\n",
              "      <td>1</td>\n",
              "      <td>1</td>\n",
              "      <td>1</td>\n",
              "      <td>0</td>\n",
              "      <td>1</td>\n",
              "    </tr>\n",
              "    <tr>\n",
              "      <th>3</th>\n",
              "      <td>0</td>\n",
              "      <td>0</td>\n",
              "      <td>1</td>\n",
              "      <td>1</td>\n",
              "      <td>1</td>\n",
              "      <td>0</td>\n",
              "      <td>1</td>\n",
              "      <td>0</td>\n",
              "      <td>1</td>\n",
              "      <td>0</td>\n",
              "      <td>1</td>\n",
              "    </tr>\n",
              "  </tbody>\n",
              "</table>\n",
              "</div>"
            ],
            "text/plain": [
              "   worst  times  foolishness  the  was  best  of  wisdom  age  It  it\n",
              "0      0      1            0    1    1     1   1       0    0   1   0\n",
              "1      1      1            0    1    1     0   1       0    0   0   1\n",
              "2      0      0            0    1    1     0   1       1    1   0   1\n",
              "3      0      0            1    1    1     0   1       0    1   0   1"
            ]
          },
          "execution_count": 18,
          "metadata": {},
          "output_type": "execute_result"
        }
      ],
      "source": [
        "pd.DataFrame(onehot, columns=vocabulary)"
      ]
    },
    {
      "cell_type": "markdown",
      "id": "decimal-agenda",
      "metadata": {
        "id": "decimal-agenda"
      },
      "source": [
        "**Calculating similarities**\n",
        "\n",
        "Calculate similarity between the first and second sentences."
      ]
    },
    {
      "cell_type": "code",
      "execution_count": null,
      "id": "particular-satellite",
      "metadata": {
        "id": "particular-satellite",
        "outputId": "0bee0cc6-7b3f-4b45-c8af-990cb3dfbb16"
      },
      "outputs": [
        {
          "data": {
            "text/plain": [
              "4"
            ]
          },
          "execution_count": 21,
          "metadata": {},
          "output_type": "execute_result"
        }
      ],
      "source": [
        "sim = [onehot[0][i] & onehot[1][i] for i in range(0, len(vocabulary))]\n",
        "sum(sim)"
      ]
    },
    {
      "cell_type": "code",
      "execution_count": null,
      "id": "rational-lightning",
      "metadata": {
        "id": "rational-lightning",
        "outputId": "8f83e45c-c91e-4ae4-a566-e725e45ef98c"
      },
      "outputs": [
        {
          "data": {
            "text/plain": [
              "4"
            ]
          },
          "execution_count": 23,
          "metadata": {},
          "output_type": "execute_result"
        }
      ],
      "source": [
        "import numpy as np\n",
        "\n",
        "np.dot(onehot[0], onehot[1])"
      ]
    },
    {
      "cell_type": "markdown",
      "id": "fifteen-thanks",
      "metadata": {
        "id": "fifteen-thanks"
      },
      "source": [
        "### The Similarity Matrix"
      ]
    },
    {
      "cell_type": "code",
      "execution_count": null,
      "id": "angry-sweet",
      "metadata": {
        "id": "angry-sweet",
        "outputId": "e82dd114-162e-48f7-837d-ff2ad2a1113e"
      },
      "outputs": [
        {
          "data": {
            "text/plain": [
              "array([[6, 4, 3, 3],\n",
              "       [4, 6, 4, 4],\n",
              "       [3, 4, 6, 5],\n",
              "       [3, 4, 5, 6]])"
            ]
          },
          "execution_count": 26,
          "metadata": {},
          "output_type": "execute_result"
        }
      ],
      "source": [
        "np.dot(onehot, np.transpose(onehot))"
      ]
    },
    {
      "cell_type": "markdown",
      "id": "monthly-expression",
      "metadata": {
        "id": "monthly-expression"
      },
      "source": [
        "**One-Hot Encoding with scikit-learn**"
      ]
    },
    {
      "cell_type": "code",
      "execution_count": null,
      "id": "practical-biotechnology",
      "metadata": {
        "id": "practical-biotechnology",
        "outputId": "adb87909-65a5-4313-b3e6-7511c3e7854b"
      },
      "outputs": [
        {
          "data": {
            "text/plain": [
              "array([[1, 0, 1, 0, 0, 1, 1, 1, 1, 0, 0],\n",
              "       [0, 0, 0, 0, 1, 1, 1, 1, 1, 0, 1],\n",
              "       [0, 1, 0, 0, 1, 1, 1, 0, 1, 1, 0],\n",
              "       [0, 1, 0, 1, 1, 1, 1, 0, 1, 0, 0]])"
            ]
          },
          "execution_count": 42,
          "metadata": {},
          "output_type": "execute_result"
        }
      ],
      "source": [
        "from sklearn.preprocessing import MultiLabelBinarizer\n",
        "\n",
        "lb = MultiLabelBinarizer()\n",
        "lb.fit([vocabulary])\n",
        "lb.transform(tokenized_sentences)"
      ]
    },
    {
      "cell_type": "code",
      "execution_count": null,
      "id": "cleared-draft",
      "metadata": {
        "id": "cleared-draft",
        "outputId": "b5aa289a-55d3-4138-d90d-91ad2267dbdb"
      },
      "outputs": [
        {
          "data": {
            "text/html": [
              "<div>\n",
              "<style scoped>\n",
              "    .dataframe tbody tr th:only-of-type {\n",
              "        vertical-align: middle;\n",
              "    }\n",
              "\n",
              "    .dataframe tbody tr th {\n",
              "        vertical-align: top;\n",
              "    }\n",
              "\n",
              "    .dataframe thead th {\n",
              "        text-align: right;\n",
              "    }\n",
              "</style>\n",
              "<table border=\"1\" class=\"dataframe\">\n",
              "  <thead>\n",
              "    <tr style=\"text-align: right;\">\n",
              "      <th></th>\n",
              "      <th>It</th>\n",
              "      <th>age</th>\n",
              "      <th>best</th>\n",
              "      <th>foolishness</th>\n",
              "      <th>it</th>\n",
              "      <th>of</th>\n",
              "      <th>the</th>\n",
              "      <th>times</th>\n",
              "      <th>was</th>\n",
              "      <th>wisdom</th>\n",
              "      <th>worst</th>\n",
              "    </tr>\n",
              "  </thead>\n",
              "  <tbody>\n",
              "    <tr>\n",
              "      <th>0</th>\n",
              "      <td>1</td>\n",
              "      <td>0</td>\n",
              "      <td>1</td>\n",
              "      <td>0</td>\n",
              "      <td>0</td>\n",
              "      <td>1</td>\n",
              "      <td>1</td>\n",
              "      <td>1</td>\n",
              "      <td>1</td>\n",
              "      <td>0</td>\n",
              "      <td>0</td>\n",
              "    </tr>\n",
              "    <tr>\n",
              "      <th>1</th>\n",
              "      <td>0</td>\n",
              "      <td>0</td>\n",
              "      <td>0</td>\n",
              "      <td>0</td>\n",
              "      <td>1</td>\n",
              "      <td>1</td>\n",
              "      <td>1</td>\n",
              "      <td>1</td>\n",
              "      <td>1</td>\n",
              "      <td>0</td>\n",
              "      <td>1</td>\n",
              "    </tr>\n",
              "    <tr>\n",
              "      <th>2</th>\n",
              "      <td>0</td>\n",
              "      <td>1</td>\n",
              "      <td>0</td>\n",
              "      <td>0</td>\n",
              "      <td>1</td>\n",
              "      <td>1</td>\n",
              "      <td>1</td>\n",
              "      <td>0</td>\n",
              "      <td>1</td>\n",
              "      <td>1</td>\n",
              "      <td>0</td>\n",
              "    </tr>\n",
              "    <tr>\n",
              "      <th>3</th>\n",
              "      <td>0</td>\n",
              "      <td>1</td>\n",
              "      <td>0</td>\n",
              "      <td>1</td>\n",
              "      <td>1</td>\n",
              "      <td>1</td>\n",
              "      <td>1</td>\n",
              "      <td>0</td>\n",
              "      <td>1</td>\n",
              "      <td>0</td>\n",
              "      <td>0</td>\n",
              "    </tr>\n",
              "  </tbody>\n",
              "</table>\n",
              "</div>"
            ],
            "text/plain": [
              "   It  age  best  foolishness  it  of  the  times  was  wisdom  worst\n",
              "0   1    0     1            0   0   1    1      1    1       0      0\n",
              "1   0    0     0            0   1   1    1      1    1       0      1\n",
              "2   0    1     0            0   1   1    1      0    1       1      0\n",
              "3   0    1     0            1   1   1    1      0    1       0      0"
            ]
          },
          "execution_count": 45,
          "metadata": {},
          "output_type": "execute_result"
        }
      ],
      "source": [
        "pd.DataFrame(lb.transform(tokenized_sentences), columns=lb.classes_)"
      ]
    },
    {
      "cell_type": "markdown",
      "id": "sized-express",
      "metadata": {
        "id": "sized-express"
      },
      "source": [
        "## Bag-of-Words Models\n"
      ]
    },
    {
      "cell_type": "markdown",
      "id": "prescription-generator",
      "metadata": {
        "id": "prescription-generator"
      },
      "source": [
        "### Blueprint: Using scikit-learn's CountVectorizer"
      ]
    },
    {
      "cell_type": "code",
      "execution_count": null,
      "id": "technical-roots",
      "metadata": {
        "id": "technical-roots"
      },
      "outputs": [],
      "source": [
        "from sklearn.feature_extraction.text import CountVectorizer\n",
        "\n",
        "cv = CountVectorizer()"
      ]
    },
    {
      "cell_type": "code",
      "execution_count": null,
      "id": "interstate-genealogy",
      "metadata": {
        "id": "interstate-genealogy"
      },
      "outputs": [],
      "source": [
        "more_sentences = sentences + [\n",
        "    \"John likes to watch movies. Mary like movies too.\",\n",
        "    \"Mary also likes to watch football games.\",\n",
        "]"
      ]
    },
    {
      "cell_type": "markdown",
      "id": "fitted-nirvana",
      "metadata": {
        "id": "fitted-nirvana"
      },
      "source": [
        "**Fitting the vocabulary**"
      ]
    },
    {
      "cell_type": "code",
      "execution_count": null,
      "id": "cellular-sherman",
      "metadata": {
        "id": "cellular-sherman",
        "outputId": "671e5235-d0cf-496f-a587-9bb469fd95c2"
      },
      "outputs": [
        {
          "data": {
            "text/plain": [
              "CountVectorizer()"
            ]
          },
          "execution_count": 48,
          "metadata": {},
          "output_type": "execute_result"
        }
      ],
      "source": [
        "cv.fit(more_sentences)"
      ]
    },
    {
      "cell_type": "code",
      "execution_count": null,
      "id": "acoustic-shopping",
      "metadata": {
        "id": "acoustic-shopping",
        "outputId": "56367143-5957-4ffb-da46-85e4fb6dac91"
      },
      "outputs": [
        {
          "data": {
            "text/plain": [
              "['age',\n",
              " 'also',\n",
              " 'best',\n",
              " 'foolishness',\n",
              " 'football',\n",
              " 'games',\n",
              " 'it',\n",
              " 'john',\n",
              " 'like',\n",
              " 'likes',\n",
              " 'mary',\n",
              " 'movies',\n",
              " 'of',\n",
              " 'the',\n",
              " 'times',\n",
              " 'to',\n",
              " 'too',\n",
              " 'was',\n",
              " 'watch',\n",
              " 'wisdom',\n",
              " 'worst']"
            ]
          },
          "execution_count": 49,
          "metadata": {},
          "output_type": "execute_result"
        }
      ],
      "source": [
        "cv.get_feature_names()"
      ]
    },
    {
      "cell_type": "markdown",
      "id": "military-onion",
      "metadata": {
        "id": "military-onion"
      },
      "source": [
        "**Transforming the documents to vectors**"
      ]
    },
    {
      "cell_type": "code",
      "execution_count": null,
      "id": "accompanied-madonna",
      "metadata": {
        "id": "accompanied-madonna",
        "outputId": "b942b512-08ce-4df4-dcdf-a26e13268cc6"
      },
      "outputs": [
        {
          "data": {
            "text/plain": [
              "<6x21 sparse matrix of type '<class 'numpy.int64'>'\n",
              "\twith 39 stored elements in Compressed Sparse Row format>"
            ]
          },
          "execution_count": 50,
          "metadata": {},
          "output_type": "execute_result"
        }
      ],
      "source": [
        "dt = cv.transform(more_sentences)\n",
        "dt"
      ]
    },
    {
      "cell_type": "code",
      "execution_count": null,
      "id": "first-musical",
      "metadata": {
        "id": "first-musical",
        "outputId": "8499ab57-6ef1-426b-bb24-980c79b79a9b"
      },
      "outputs": [
        {
          "data": {
            "text/html": [
              "<div>\n",
              "<style scoped>\n",
              "    .dataframe tbody tr th:only-of-type {\n",
              "        vertical-align: middle;\n",
              "    }\n",
              "\n",
              "    .dataframe tbody tr th {\n",
              "        vertical-align: top;\n",
              "    }\n",
              "\n",
              "    .dataframe thead th {\n",
              "        text-align: right;\n",
              "    }\n",
              "</style>\n",
              "<table border=\"1\" class=\"dataframe\">\n",
              "  <thead>\n",
              "    <tr style=\"text-align: right;\">\n",
              "      <th></th>\n",
              "      <th>age</th>\n",
              "      <th>also</th>\n",
              "      <th>best</th>\n",
              "      <th>foolishness</th>\n",
              "      <th>football</th>\n",
              "      <th>games</th>\n",
              "      <th>it</th>\n",
              "      <th>john</th>\n",
              "      <th>like</th>\n",
              "      <th>likes</th>\n",
              "      <th>...</th>\n",
              "      <th>movies</th>\n",
              "      <th>of</th>\n",
              "      <th>the</th>\n",
              "      <th>times</th>\n",
              "      <th>to</th>\n",
              "      <th>too</th>\n",
              "      <th>was</th>\n",
              "      <th>watch</th>\n",
              "      <th>wisdom</th>\n",
              "      <th>worst</th>\n",
              "    </tr>\n",
              "  </thead>\n",
              "  <tbody>\n",
              "    <tr>\n",
              "      <th>0</th>\n",
              "      <td>0</td>\n",
              "      <td>0</td>\n",
              "      <td>1</td>\n",
              "      <td>0</td>\n",
              "      <td>0</td>\n",
              "      <td>0</td>\n",
              "      <td>1</td>\n",
              "      <td>0</td>\n",
              "      <td>0</td>\n",
              "      <td>0</td>\n",
              "      <td>...</td>\n",
              "      <td>0</td>\n",
              "      <td>1</td>\n",
              "      <td>1</td>\n",
              "      <td>1</td>\n",
              "      <td>0</td>\n",
              "      <td>0</td>\n",
              "      <td>1</td>\n",
              "      <td>0</td>\n",
              "      <td>0</td>\n",
              "      <td>0</td>\n",
              "    </tr>\n",
              "    <tr>\n",
              "      <th>1</th>\n",
              "      <td>0</td>\n",
              "      <td>0</td>\n",
              "      <td>0</td>\n",
              "      <td>0</td>\n",
              "      <td>0</td>\n",
              "      <td>0</td>\n",
              "      <td>1</td>\n",
              "      <td>0</td>\n",
              "      <td>0</td>\n",
              "      <td>0</td>\n",
              "      <td>...</td>\n",
              "      <td>0</td>\n",
              "      <td>1</td>\n",
              "      <td>1</td>\n",
              "      <td>1</td>\n",
              "      <td>0</td>\n",
              "      <td>0</td>\n",
              "      <td>1</td>\n",
              "      <td>0</td>\n",
              "      <td>0</td>\n",
              "      <td>1</td>\n",
              "    </tr>\n",
              "    <tr>\n",
              "      <th>2</th>\n",
              "      <td>1</td>\n",
              "      <td>0</td>\n",
              "      <td>0</td>\n",
              "      <td>0</td>\n",
              "      <td>0</td>\n",
              "      <td>0</td>\n",
              "      <td>1</td>\n",
              "      <td>0</td>\n",
              "      <td>0</td>\n",
              "      <td>0</td>\n",
              "      <td>...</td>\n",
              "      <td>0</td>\n",
              "      <td>1</td>\n",
              "      <td>1</td>\n",
              "      <td>0</td>\n",
              "      <td>0</td>\n",
              "      <td>0</td>\n",
              "      <td>1</td>\n",
              "      <td>0</td>\n",
              "      <td>1</td>\n",
              "      <td>0</td>\n",
              "    </tr>\n",
              "    <tr>\n",
              "      <th>3</th>\n",
              "      <td>1</td>\n",
              "      <td>0</td>\n",
              "      <td>0</td>\n",
              "      <td>1</td>\n",
              "      <td>0</td>\n",
              "      <td>0</td>\n",
              "      <td>1</td>\n",
              "      <td>0</td>\n",
              "      <td>0</td>\n",
              "      <td>0</td>\n",
              "      <td>...</td>\n",
              "      <td>0</td>\n",
              "      <td>1</td>\n",
              "      <td>1</td>\n",
              "      <td>0</td>\n",
              "      <td>0</td>\n",
              "      <td>0</td>\n",
              "      <td>1</td>\n",
              "      <td>0</td>\n",
              "      <td>0</td>\n",
              "      <td>0</td>\n",
              "    </tr>\n",
              "    <tr>\n",
              "      <th>4</th>\n",
              "      <td>0</td>\n",
              "      <td>0</td>\n",
              "      <td>0</td>\n",
              "      <td>0</td>\n",
              "      <td>0</td>\n",
              "      <td>0</td>\n",
              "      <td>0</td>\n",
              "      <td>1</td>\n",
              "      <td>1</td>\n",
              "      <td>1</td>\n",
              "      <td>...</td>\n",
              "      <td>2</td>\n",
              "      <td>0</td>\n",
              "      <td>0</td>\n",
              "      <td>0</td>\n",
              "      <td>1</td>\n",
              "      <td>1</td>\n",
              "      <td>0</td>\n",
              "      <td>1</td>\n",
              "      <td>0</td>\n",
              "      <td>0</td>\n",
              "    </tr>\n",
              "    <tr>\n",
              "      <th>5</th>\n",
              "      <td>0</td>\n",
              "      <td>1</td>\n",
              "      <td>0</td>\n",
              "      <td>0</td>\n",
              "      <td>1</td>\n",
              "      <td>1</td>\n",
              "      <td>0</td>\n",
              "      <td>0</td>\n",
              "      <td>0</td>\n",
              "      <td>1</td>\n",
              "      <td>...</td>\n",
              "      <td>0</td>\n",
              "      <td>0</td>\n",
              "      <td>0</td>\n",
              "      <td>0</td>\n",
              "      <td>1</td>\n",
              "      <td>0</td>\n",
              "      <td>0</td>\n",
              "      <td>1</td>\n",
              "      <td>0</td>\n",
              "      <td>0</td>\n",
              "    </tr>\n",
              "  </tbody>\n",
              "</table>\n",
              "<p>6 rows × 21 columns</p>\n",
              "</div>"
            ],
            "text/plain": [
              "   age  also  best  foolishness  football  games  it  john  like  likes  ...  \\\n",
              "0    0     0     1            0         0      0   1     0     0      0  ...   \n",
              "1    0     0     0            0         0      0   1     0     0      0  ...   \n",
              "2    1     0     0            0         0      0   1     0     0      0  ...   \n",
              "3    1     0     0            1         0      0   1     0     0      0  ...   \n",
              "4    0     0     0            0         0      0   0     1     1      1  ...   \n",
              "5    0     1     0            0         1      1   0     0     0      1  ...   \n",
              "\n",
              "   movies  of  the  times  to  too  was  watch  wisdom  worst  \n",
              "0       0   1    1      1   0    0    1      0       0      0  \n",
              "1       0   1    1      1   0    0    1      0       0      1  \n",
              "2       0   1    1      0   0    0    1      0       1      0  \n",
              "3       0   1    1      0   0    0    1      0       0      0  \n",
              "4       2   0    0      0   1    1    0      1       0      0  \n",
              "5       0   0    0      0   1    0    0      1       0      0  \n",
              "\n",
              "[6 rows x 21 columns]"
            ]
          },
          "execution_count": 51,
          "metadata": {},
          "output_type": "execute_result"
        }
      ],
      "source": [
        "pd.DataFrame(dt.toarray(), columns=cv.get_feature_names())"
      ]
    },
    {
      "cell_type": "markdown",
      "id": "diverse-navigation",
      "metadata": {
        "id": "diverse-navigation"
      },
      "source": [
        "### Blueprint: Calculating Similarities"
      ]
    },
    {
      "cell_type": "code",
      "execution_count": 12,
      "id": "blind-cooking",
      "metadata": {
        "id": "blind-cooking",
        "outputId": "296c6067-dfd7-4c7c-a517-a90239261837",
        "colab": {
          "base_uri": "https://localhost:8080/"
        }
      },
      "outputs": [
        {
          "output_type": "execute_result",
          "data": {
            "text/plain": [
              "array([[0.]])"
            ]
          },
          "metadata": {},
          "execution_count": 12
        }
      ],
      "source": [
        "from sklearn.metrics.pairwise import cosine_similarity\n",
        "\n",
        "# Check the similarity between the first two sentences.\n",
        "cosine_similarity(dt[0], dt[1])"
      ]
    },
    {
      "cell_type": "code",
      "execution_count": null,
      "id": "rental-brother",
      "metadata": {
        "id": "rental-brother",
        "outputId": "3685ab92-705b-4e46-a0bf-8135e059a2c8"
      },
      "outputs": [
        {
          "data": {
            "text/html": [
              "<div>\n",
              "<style scoped>\n",
              "    .dataframe tbody tr th:only-of-type {\n",
              "        vertical-align: middle;\n",
              "    }\n",
              "\n",
              "    .dataframe tbody tr th {\n",
              "        vertical-align: top;\n",
              "    }\n",
              "\n",
              "    .dataframe thead th {\n",
              "        text-align: right;\n",
              "    }\n",
              "</style>\n",
              "<table border=\"1\" class=\"dataframe\">\n",
              "  <thead>\n",
              "    <tr style=\"text-align: right;\">\n",
              "      <th></th>\n",
              "      <th>0</th>\n",
              "      <th>1</th>\n",
              "      <th>2</th>\n",
              "      <th>3</th>\n",
              "      <th>4</th>\n",
              "      <th>5</th>\n",
              "    </tr>\n",
              "  </thead>\n",
              "  <tbody>\n",
              "    <tr>\n",
              "      <th>0</th>\n",
              "      <td>1.000000</td>\n",
              "      <td>0.833333</td>\n",
              "      <td>0.666667</td>\n",
              "      <td>0.666667</td>\n",
              "      <td>0.000000</td>\n",
              "      <td>0.000000</td>\n",
              "    </tr>\n",
              "    <tr>\n",
              "      <th>1</th>\n",
              "      <td>0.833333</td>\n",
              "      <td>1.000000</td>\n",
              "      <td>0.666667</td>\n",
              "      <td>0.666667</td>\n",
              "      <td>0.000000</td>\n",
              "      <td>0.000000</td>\n",
              "    </tr>\n",
              "    <tr>\n",
              "      <th>2</th>\n",
              "      <td>0.666667</td>\n",
              "      <td>0.666667</td>\n",
              "      <td>1.000000</td>\n",
              "      <td>0.833333</td>\n",
              "      <td>0.000000</td>\n",
              "      <td>0.000000</td>\n",
              "    </tr>\n",
              "    <tr>\n",
              "      <th>3</th>\n",
              "      <td>0.666667</td>\n",
              "      <td>0.666667</td>\n",
              "      <td>0.833333</td>\n",
              "      <td>1.000000</td>\n",
              "      <td>0.000000</td>\n",
              "      <td>0.000000</td>\n",
              "    </tr>\n",
              "    <tr>\n",
              "      <th>4</th>\n",
              "      <td>0.000000</td>\n",
              "      <td>0.000000</td>\n",
              "      <td>0.000000</td>\n",
              "      <td>0.000000</td>\n",
              "      <td>1.000000</td>\n",
              "      <td>0.455842</td>\n",
              "    </tr>\n",
              "    <tr>\n",
              "      <th>5</th>\n",
              "      <td>0.000000</td>\n",
              "      <td>0.000000</td>\n",
              "      <td>0.000000</td>\n",
              "      <td>0.000000</td>\n",
              "      <td>0.455842</td>\n",
              "      <td>1.000000</td>\n",
              "    </tr>\n",
              "  </tbody>\n",
              "</table>\n",
              "</div>"
            ],
            "text/plain": [
              "          0         1         2         3         4         5\n",
              "0  1.000000  0.833333  0.666667  0.666667  0.000000  0.000000\n",
              "1  0.833333  1.000000  0.666667  0.666667  0.000000  0.000000\n",
              "2  0.666667  0.666667  1.000000  0.833333  0.000000  0.000000\n",
              "3  0.666667  0.666667  0.833333  1.000000  0.000000  0.000000\n",
              "4  0.000000  0.000000  0.000000  0.000000  1.000000  0.455842\n",
              "5  0.000000  0.000000  0.000000  0.000000  0.455842  1.000000"
            ]
          },
          "execution_count": 54,
          "metadata": {},
          "output_type": "execute_result"
        }
      ],
      "source": [
        "pd.DataFrame(cosine_similarity(dt, dt))"
      ]
    },
    {
      "cell_type": "markdown",
      "id": "spread-superintendent",
      "metadata": {
        "id": "spread-superintendent"
      },
      "source": [
        "## TF-IDF Models"
      ]
    },
    {
      "cell_type": "markdown",
      "id": "hollywood-legislature",
      "metadata": {
        "id": "hollywood-legislature"
      },
      "source": [
        "### Optimized Document Vectors with TfidfTransformer"
      ]
    },
    {
      "cell_type": "code",
      "execution_count": null,
      "id": "public-program",
      "metadata": {
        "id": "public-program",
        "outputId": "2e6c1cd5-f3f2-4bbd-a781-cbe7513eeba6"
      },
      "outputs": [
        {
          "data": {
            "text/html": [
              "<div>\n",
              "<style scoped>\n",
              "    .dataframe tbody tr th:only-of-type {\n",
              "        vertical-align: middle;\n",
              "    }\n",
              "\n",
              "    .dataframe tbody tr th {\n",
              "        vertical-align: top;\n",
              "    }\n",
              "\n",
              "    .dataframe thead th {\n",
              "        text-align: right;\n",
              "    }\n",
              "</style>\n",
              "<table border=\"1\" class=\"dataframe\">\n",
              "  <thead>\n",
              "    <tr style=\"text-align: right;\">\n",
              "      <th></th>\n",
              "      <th>age</th>\n",
              "      <th>also</th>\n",
              "      <th>best</th>\n",
              "      <th>foolishness</th>\n",
              "      <th>football</th>\n",
              "      <th>games</th>\n",
              "      <th>it</th>\n",
              "      <th>john</th>\n",
              "      <th>like</th>\n",
              "      <th>likes</th>\n",
              "      <th>...</th>\n",
              "      <th>movies</th>\n",
              "      <th>of</th>\n",
              "      <th>the</th>\n",
              "      <th>times</th>\n",
              "      <th>to</th>\n",
              "      <th>too</th>\n",
              "      <th>was</th>\n",
              "      <th>watch</th>\n",
              "      <th>wisdom</th>\n",
              "      <th>worst</th>\n",
              "    </tr>\n",
              "  </thead>\n",
              "  <tbody>\n",
              "    <tr>\n",
              "      <th>0</th>\n",
              "      <td>0.000000</td>\n",
              "      <td>0.000000</td>\n",
              "      <td>0.56978</td>\n",
              "      <td>0.00000</td>\n",
              "      <td>0.000000</td>\n",
              "      <td>0.000000</td>\n",
              "      <td>0.338027</td>\n",
              "      <td>0.000000</td>\n",
              "      <td>0.000000</td>\n",
              "      <td>0.000000</td>\n",
              "      <td>...</td>\n",
              "      <td>0.000000</td>\n",
              "      <td>0.338027</td>\n",
              "      <td>0.338027</td>\n",
              "      <td>0.467228</td>\n",
              "      <td>0.000000</td>\n",
              "      <td>0.000000</td>\n",
              "      <td>0.338027</td>\n",
              "      <td>0.000000</td>\n",
              "      <td>0.00000</td>\n",
              "      <td>0.00000</td>\n",
              "    </tr>\n",
              "    <tr>\n",
              "      <th>1</th>\n",
              "      <td>0.000000</td>\n",
              "      <td>0.000000</td>\n",
              "      <td>0.00000</td>\n",
              "      <td>0.00000</td>\n",
              "      <td>0.000000</td>\n",
              "      <td>0.000000</td>\n",
              "      <td>0.338027</td>\n",
              "      <td>0.000000</td>\n",
              "      <td>0.000000</td>\n",
              "      <td>0.000000</td>\n",
              "      <td>...</td>\n",
              "      <td>0.000000</td>\n",
              "      <td>0.338027</td>\n",
              "      <td>0.338027</td>\n",
              "      <td>0.467228</td>\n",
              "      <td>0.000000</td>\n",
              "      <td>0.000000</td>\n",
              "      <td>0.338027</td>\n",
              "      <td>0.000000</td>\n",
              "      <td>0.00000</td>\n",
              "      <td>0.56978</td>\n",
              "    </tr>\n",
              "    <tr>\n",
              "      <th>2</th>\n",
              "      <td>0.467228</td>\n",
              "      <td>0.000000</td>\n",
              "      <td>0.00000</td>\n",
              "      <td>0.00000</td>\n",
              "      <td>0.000000</td>\n",
              "      <td>0.000000</td>\n",
              "      <td>0.338027</td>\n",
              "      <td>0.000000</td>\n",
              "      <td>0.000000</td>\n",
              "      <td>0.000000</td>\n",
              "      <td>...</td>\n",
              "      <td>0.000000</td>\n",
              "      <td>0.338027</td>\n",
              "      <td>0.338027</td>\n",
              "      <td>0.000000</td>\n",
              "      <td>0.000000</td>\n",
              "      <td>0.000000</td>\n",
              "      <td>0.338027</td>\n",
              "      <td>0.000000</td>\n",
              "      <td>0.56978</td>\n",
              "      <td>0.00000</td>\n",
              "    </tr>\n",
              "    <tr>\n",
              "      <th>3</th>\n",
              "      <td>0.467228</td>\n",
              "      <td>0.000000</td>\n",
              "      <td>0.00000</td>\n",
              "      <td>0.56978</td>\n",
              "      <td>0.000000</td>\n",
              "      <td>0.000000</td>\n",
              "      <td>0.338027</td>\n",
              "      <td>0.000000</td>\n",
              "      <td>0.000000</td>\n",
              "      <td>0.000000</td>\n",
              "      <td>...</td>\n",
              "      <td>0.000000</td>\n",
              "      <td>0.338027</td>\n",
              "      <td>0.338027</td>\n",
              "      <td>0.000000</td>\n",
              "      <td>0.000000</td>\n",
              "      <td>0.000000</td>\n",
              "      <td>0.338027</td>\n",
              "      <td>0.000000</td>\n",
              "      <td>0.00000</td>\n",
              "      <td>0.00000</td>\n",
              "    </tr>\n",
              "    <tr>\n",
              "      <th>4</th>\n",
              "      <td>0.000000</td>\n",
              "      <td>0.000000</td>\n",
              "      <td>0.00000</td>\n",
              "      <td>0.00000</td>\n",
              "      <td>0.000000</td>\n",
              "      <td>0.000000</td>\n",
              "      <td>0.000000</td>\n",
              "      <td>0.321251</td>\n",
              "      <td>0.321251</td>\n",
              "      <td>0.263431</td>\n",
              "      <td>...</td>\n",
              "      <td>0.642503</td>\n",
              "      <td>0.000000</td>\n",
              "      <td>0.000000</td>\n",
              "      <td>0.000000</td>\n",
              "      <td>0.263431</td>\n",
              "      <td>0.321251</td>\n",
              "      <td>0.000000</td>\n",
              "      <td>0.263431</td>\n",
              "      <td>0.00000</td>\n",
              "      <td>0.00000</td>\n",
              "    </tr>\n",
              "    <tr>\n",
              "      <th>5</th>\n",
              "      <td>0.000000</td>\n",
              "      <td>0.419233</td>\n",
              "      <td>0.00000</td>\n",
              "      <td>0.00000</td>\n",
              "      <td>0.419233</td>\n",
              "      <td>0.419233</td>\n",
              "      <td>0.000000</td>\n",
              "      <td>0.000000</td>\n",
              "      <td>0.000000</td>\n",
              "      <td>0.343777</td>\n",
              "      <td>...</td>\n",
              "      <td>0.000000</td>\n",
              "      <td>0.000000</td>\n",
              "      <td>0.000000</td>\n",
              "      <td>0.000000</td>\n",
              "      <td>0.343777</td>\n",
              "      <td>0.000000</td>\n",
              "      <td>0.000000</td>\n",
              "      <td>0.343777</td>\n",
              "      <td>0.00000</td>\n",
              "      <td>0.00000</td>\n",
              "    </tr>\n",
              "  </tbody>\n",
              "</table>\n",
              "<p>6 rows × 21 columns</p>\n",
              "</div>"
            ],
            "text/plain": [
              "        age      also     best  foolishness  football     games        it  \\\n",
              "0  0.000000  0.000000  0.56978      0.00000  0.000000  0.000000  0.338027   \n",
              "1  0.000000  0.000000  0.00000      0.00000  0.000000  0.000000  0.338027   \n",
              "2  0.467228  0.000000  0.00000      0.00000  0.000000  0.000000  0.338027   \n",
              "3  0.467228  0.000000  0.00000      0.56978  0.000000  0.000000  0.338027   \n",
              "4  0.000000  0.000000  0.00000      0.00000  0.000000  0.000000  0.000000   \n",
              "5  0.000000  0.419233  0.00000      0.00000  0.419233  0.419233  0.000000   \n",
              "\n",
              "       john      like     likes  ...    movies        of       the     times  \\\n",
              "0  0.000000  0.000000  0.000000  ...  0.000000  0.338027  0.338027  0.467228   \n",
              "1  0.000000  0.000000  0.000000  ...  0.000000  0.338027  0.338027  0.467228   \n",
              "2  0.000000  0.000000  0.000000  ...  0.000000  0.338027  0.338027  0.000000   \n",
              "3  0.000000  0.000000  0.000000  ...  0.000000  0.338027  0.338027  0.000000   \n",
              "4  0.321251  0.321251  0.263431  ...  0.642503  0.000000  0.000000  0.000000   \n",
              "5  0.000000  0.000000  0.343777  ...  0.000000  0.000000  0.000000  0.000000   \n",
              "\n",
              "         to       too       was     watch   wisdom    worst  \n",
              "0  0.000000  0.000000  0.338027  0.000000  0.00000  0.00000  \n",
              "1  0.000000  0.000000  0.338027  0.000000  0.00000  0.56978  \n",
              "2  0.000000  0.000000  0.338027  0.000000  0.56978  0.00000  \n",
              "3  0.000000  0.000000  0.338027  0.000000  0.00000  0.00000  \n",
              "4  0.263431  0.321251  0.000000  0.263431  0.00000  0.00000  \n",
              "5  0.343777  0.000000  0.000000  0.343777  0.00000  0.00000  \n",
              "\n",
              "[6 rows x 21 columns]"
            ]
          },
          "execution_count": 56,
          "metadata": {},
          "output_type": "execute_result"
        }
      ],
      "source": [
        "from sklearn.feature_extraction.text import TfidfTransformer\n",
        "\n",
        "tfidf = TfidfTransformer()\n",
        "tfidf_dt = tfidf.fit_transform(dt)\n",
        "pd.DataFrame(tfidf_dt.toarray(), columns=cv.get_feature_names())"
      ]
    },
    {
      "cell_type": "code",
      "execution_count": null,
      "id": "declared-aggregate",
      "metadata": {
        "id": "declared-aggregate",
        "outputId": "7526a46e-c6b6-4d8a-bede-c5dd0afcff8c"
      },
      "outputs": [
        {
          "data": {
            "text/html": [
              "<div>\n",
              "<style scoped>\n",
              "    .dataframe tbody tr th:only-of-type {\n",
              "        vertical-align: middle;\n",
              "    }\n",
              "\n",
              "    .dataframe tbody tr th {\n",
              "        vertical-align: top;\n",
              "    }\n",
              "\n",
              "    .dataframe thead th {\n",
              "        text-align: right;\n",
              "    }\n",
              "</style>\n",
              "<table border=\"1\" class=\"dataframe\">\n",
              "  <thead>\n",
              "    <tr style=\"text-align: right;\">\n",
              "      <th></th>\n",
              "      <th>0</th>\n",
              "      <th>1</th>\n",
              "      <th>2</th>\n",
              "      <th>3</th>\n",
              "      <th>4</th>\n",
              "      <th>5</th>\n",
              "    </tr>\n",
              "  </thead>\n",
              "  <tbody>\n",
              "    <tr>\n",
              "      <th>0</th>\n",
              "      <td>1.000000</td>\n",
              "      <td>0.675351</td>\n",
              "      <td>0.457049</td>\n",
              "      <td>0.457049</td>\n",
              "      <td>0.000000</td>\n",
              "      <td>0.000000</td>\n",
              "    </tr>\n",
              "    <tr>\n",
              "      <th>1</th>\n",
              "      <td>0.675351</td>\n",
              "      <td>1.000000</td>\n",
              "      <td>0.457049</td>\n",
              "      <td>0.457049</td>\n",
              "      <td>0.000000</td>\n",
              "      <td>0.000000</td>\n",
              "    </tr>\n",
              "    <tr>\n",
              "      <th>2</th>\n",
              "      <td>0.457049</td>\n",
              "      <td>0.457049</td>\n",
              "      <td>1.000000</td>\n",
              "      <td>0.675351</td>\n",
              "      <td>0.000000</td>\n",
              "      <td>0.000000</td>\n",
              "    </tr>\n",
              "    <tr>\n",
              "      <th>3</th>\n",
              "      <td>0.457049</td>\n",
              "      <td>0.457049</td>\n",
              "      <td>0.675351</td>\n",
              "      <td>1.000000</td>\n",
              "      <td>0.000000</td>\n",
              "      <td>0.000000</td>\n",
              "    </tr>\n",
              "    <tr>\n",
              "      <th>4</th>\n",
              "      <td>0.000000</td>\n",
              "      <td>0.000000</td>\n",
              "      <td>0.000000</td>\n",
              "      <td>0.000000</td>\n",
              "      <td>1.000000</td>\n",
              "      <td>0.362246</td>\n",
              "    </tr>\n",
              "    <tr>\n",
              "      <th>5</th>\n",
              "      <td>0.000000</td>\n",
              "      <td>0.000000</td>\n",
              "      <td>0.000000</td>\n",
              "      <td>0.000000</td>\n",
              "      <td>0.362246</td>\n",
              "      <td>1.000000</td>\n",
              "    </tr>\n",
              "  </tbody>\n",
              "</table>\n",
              "</div>"
            ],
            "text/plain": [
              "          0         1         2         3         4         5\n",
              "0  1.000000  0.675351  0.457049  0.457049  0.000000  0.000000\n",
              "1  0.675351  1.000000  0.457049  0.457049  0.000000  0.000000\n",
              "2  0.457049  0.457049  1.000000  0.675351  0.000000  0.000000\n",
              "3  0.457049  0.457049  0.675351  1.000000  0.000000  0.000000\n",
              "4  0.000000  0.000000  0.000000  0.000000  1.000000  0.362246\n",
              "5  0.000000  0.000000  0.000000  0.000000  0.362246  1.000000"
            ]
          },
          "execution_count": 57,
          "metadata": {},
          "output_type": "execute_result"
        }
      ],
      "source": [
        "pd.DataFrame(cosine_similarity(tfidf_dt, tfidf_dt))"
      ]
    },
    {
      "cell_type": "markdown",
      "id": "split-differential",
      "metadata": {
        "id": "split-differential"
      },
      "source": [
        "## Introducing the ABC Dataset"
      ]
    },
    {
      "cell_type": "code",
      "execution_count": 3,
      "id": "applied-rings",
      "metadata": {
        "id": "applied-rings",
        "outputId": "7e159aff-85a4-4274-8f39-3efbc9d94a1f",
        "colab": {
          "base_uri": "https://localhost:8080/",
          "height": 313
        }
      },
      "outputs": [
        {
          "output_type": "stream",
          "name": "stdout",
          "text": [
            "  % Total    % Received % Xferd  Average Speed   Time    Time     Time  Current\n",
            "                                 Dload  Upload   Total   Spent    Left  Speed\n",
            "100   177  100   177    0     0    811      0 --:--:-- --:--:-- --:--:--   811\n",
            "100   196  100   196    0     0    531      0 --:--:-- --:--:-- --:--:--   531\n",
            "100 18.3M  100 18.3M    0     0  10.4M      0  0:00:01  0:00:01 --:--:-- 49.8M\n",
            "1103663\n"
          ]
        },
        {
          "output_type": "execute_result",
          "data": {
            "text/html": [
              "\n",
              "  <div id=\"df-75e85a7a-ddc9-43c7-888d-645db1c0a1d1\">\n",
              "    <div class=\"colab-df-container\">\n",
              "      <div>\n",
              "<style scoped>\n",
              "    .dataframe tbody tr th:only-of-type {\n",
              "        vertical-align: middle;\n",
              "    }\n",
              "\n",
              "    .dataframe tbody tr th {\n",
              "        vertical-align: top;\n",
              "    }\n",
              "\n",
              "    .dataframe thead th {\n",
              "        text-align: right;\n",
              "    }\n",
              "</style>\n",
              "<table border=\"1\" class=\"dataframe\">\n",
              "  <thead>\n",
              "    <tr style=\"text-align: right;\">\n",
              "      <th></th>\n",
              "      <th>publish_date</th>\n",
              "      <th>headline_text</th>\n",
              "    </tr>\n",
              "  </thead>\n",
              "  <tbody>\n",
              "    <tr>\n",
              "      <th>0</th>\n",
              "      <td>2003-02-19</td>\n",
              "      <td>aba decides against community broadcasting lic...</td>\n",
              "    </tr>\n",
              "    <tr>\n",
              "      <th>1</th>\n",
              "      <td>2003-02-19</td>\n",
              "      <td>act fire witnesses must be aware of defamation</td>\n",
              "    </tr>\n",
              "    <tr>\n",
              "      <th>2</th>\n",
              "      <td>2003-02-19</td>\n",
              "      <td>a g calls for infrastructure protection summit</td>\n",
              "    </tr>\n",
              "    <tr>\n",
              "      <th>3</th>\n",
              "      <td>2003-02-19</td>\n",
              "      <td>air nz staff in aust strike for pay rise</td>\n",
              "    </tr>\n",
              "    <tr>\n",
              "      <th>4</th>\n",
              "      <td>2003-02-19</td>\n",
              "      <td>air nz strike to affect australian travellers</td>\n",
              "    </tr>\n",
              "  </tbody>\n",
              "</table>\n",
              "</div>\n",
              "      <button class=\"colab-df-convert\" onclick=\"convertToInteractive('df-75e85a7a-ddc9-43c7-888d-645db1c0a1d1')\"\n",
              "              title=\"Convert this dataframe to an interactive table.\"\n",
              "              style=\"display:none;\">\n",
              "        \n",
              "  <svg xmlns=\"http://www.w3.org/2000/svg\" height=\"24px\"viewBox=\"0 0 24 24\"\n",
              "       width=\"24px\">\n",
              "    <path d=\"M0 0h24v24H0V0z\" fill=\"none\"/>\n",
              "    <path d=\"M18.56 5.44l.94 2.06.94-2.06 2.06-.94-2.06-.94-.94-2.06-.94 2.06-2.06.94zm-11 1L8.5 8.5l.94-2.06 2.06-.94-2.06-.94L8.5 2.5l-.94 2.06-2.06.94zm10 10l.94 2.06.94-2.06 2.06-.94-2.06-.94-.94-2.06-.94 2.06-2.06.94z\"/><path d=\"M17.41 7.96l-1.37-1.37c-.4-.4-.92-.59-1.43-.59-.52 0-1.04.2-1.43.59L10.3 9.45l-7.72 7.72c-.78.78-.78 2.05 0 2.83L4 21.41c.39.39.9.59 1.41.59.51 0 1.02-.2 1.41-.59l7.78-7.78 2.81-2.81c.8-.78.8-2.07 0-2.86zM5.41 20L4 18.59l7.72-7.72 1.47 1.35L5.41 20z\"/>\n",
              "  </svg>\n",
              "      </button>\n",
              "      \n",
              "  <style>\n",
              "    .colab-df-container {\n",
              "      display:flex;\n",
              "      flex-wrap:wrap;\n",
              "      gap: 12px;\n",
              "    }\n",
              "\n",
              "    .colab-df-convert {\n",
              "      background-color: #E8F0FE;\n",
              "      border: none;\n",
              "      border-radius: 50%;\n",
              "      cursor: pointer;\n",
              "      display: none;\n",
              "      fill: #1967D2;\n",
              "      height: 32px;\n",
              "      padding: 0 0 0 0;\n",
              "      width: 32px;\n",
              "    }\n",
              "\n",
              "    .colab-df-convert:hover {\n",
              "      background-color: #E2EBFA;\n",
              "      box-shadow: 0px 1px 2px rgba(60, 64, 67, 0.3), 0px 1px 3px 1px rgba(60, 64, 67, 0.15);\n",
              "      fill: #174EA6;\n",
              "    }\n",
              "\n",
              "    [theme=dark] .colab-df-convert {\n",
              "      background-color: #3B4455;\n",
              "      fill: #D2E3FC;\n",
              "    }\n",
              "\n",
              "    [theme=dark] .colab-df-convert:hover {\n",
              "      background-color: #434B5C;\n",
              "      box-shadow: 0px 1px 3px 1px rgba(0, 0, 0, 0.15);\n",
              "      filter: drop-shadow(0px 1px 2px rgba(0, 0, 0, 0.3));\n",
              "      fill: #FFFFFF;\n",
              "    }\n",
              "  </style>\n",
              "\n",
              "      <script>\n",
              "        const buttonEl =\n",
              "          document.querySelector('#df-75e85a7a-ddc9-43c7-888d-645db1c0a1d1 button.colab-df-convert');\n",
              "        buttonEl.style.display =\n",
              "          google.colab.kernel.accessAllowed ? 'block' : 'none';\n",
              "\n",
              "        async function convertToInteractive(key) {\n",
              "          const element = document.querySelector('#df-75e85a7a-ddc9-43c7-888d-645db1c0a1d1');\n",
              "          const dataTable =\n",
              "            await google.colab.kernel.invokeFunction('convertToInteractive',\n",
              "                                                     [key], {});\n",
              "          if (!dataTable) return;\n",
              "\n",
              "          const docLinkHtml = 'Like what you see? Visit the ' +\n",
              "            '<a target=\"_blank\" href=https://colab.research.google.com/notebooks/data_table.ipynb>data table notebook</a>'\n",
              "            + ' to learn more about interactive tables.';\n",
              "          element.innerHTML = '';\n",
              "          dataTable['output_type'] = 'display_data';\n",
              "          await google.colab.output.renderOutput(dataTable, element);\n",
              "          const docLink = document.createElement('div');\n",
              "          docLink.innerHTML = docLinkHtml;\n",
              "          element.appendChild(docLink);\n",
              "        }\n",
              "      </script>\n",
              "    </div>\n",
              "  </div>\n",
              "  "
            ],
            "text/plain": [
              "  publish_date                                      headline_text\n",
              "0   2003-02-19  aba decides against community broadcasting lic...\n",
              "1   2003-02-19     act fire witnesses must be aware of defamation\n",
              "2   2003-02-19     a g calls for infrastructure protection summit\n",
              "3   2003-02-19           air nz staff in aust strike for pay rise\n",
              "4   2003-02-19      air nz strike to affect australian travellers"
            ]
          },
          "metadata": {},
          "execution_count": 3
        }
      ],
      "source": [
        "!mkdir data\n",
        "!ls data\n",
        "!curl -L https://github.com/alextanhongpin/blueprints-for-text-analytics-python/blob/master/data/abcnews-date-text.csv.gz?raw=true -o data/abcnews-date-text.csv.gz\n",
        "import pandas as pd \n",
        "\n",
        "headlines = pd.read_csv(\"data/abcnews-date-text.csv.gz\", parse_dates=[\"publish_date\"])\n",
        "print(len(headlines))\n",
        "headlines.head()"
      ]
    },
    {
      "cell_type": "code",
      "execution_count": 4,
      "id": "unexpected-ending",
      "metadata": {
        "id": "unexpected-ending",
        "outputId": "11f12c05-1267-455f-8217-a9c86f3d7e54",
        "colab": {
          "base_uri": "https://localhost:8080/"
        }
      },
      "outputs": [
        {
          "output_type": "execute_result",
          "data": {
            "text/plain": [
              "<1103663x95878 sparse matrix of type '<class 'numpy.float64'>'\n",
              "\twith 7001357 stored elements in Compressed Sparse Row format>"
            ]
          },
          "metadata": {},
          "execution_count": 4
        }
      ],
      "source": [
        "from sklearn.feature_extraction.text import TfidfVectorizer\n",
        "\n",
        "tfidf = TfidfVectorizer()\n",
        "dt = tfidf.fit_transform(headlines[\"headline_text\"])\n",
        "dt"
      ]
    },
    {
      "cell_type": "code",
      "execution_count": 5,
      "id": "measured-bishop",
      "metadata": {
        "id": "measured-bishop",
        "outputId": "8eff00c9-5f2d-4a2d-92c6-e5c693bfb586",
        "colab": {
          "base_uri": "https://localhost:8080/",
          "height": 407
        }
      },
      "outputs": [
        {
          "output_type": "error",
          "ename": "NameError",
          "evalue": "ignored",
          "traceback": [
            "\u001b[0;31m---------------------------------------------------------------------------\u001b[0m",
            "\u001b[0;31mNameError\u001b[0m                                 Traceback (most recent call last)",
            "\u001b[0;32m<ipython-input-5-a11c60eb79d0>\u001b[0m in \u001b[0;36m<module>\u001b[0;34m()\u001b[0m\n\u001b[0;32m----> 1\u001b[0;31m \u001b[0mget_ipython\u001b[0m\u001b[0;34m(\u001b[0m\u001b[0;34m)\u001b[0m\u001b[0;34m.\u001b[0m\u001b[0mrun_cell_magic\u001b[0m\u001b[0;34m(\u001b[0m\u001b[0;34m'time'\u001b[0m\u001b[0;34m,\u001b[0m \u001b[0;34m''\u001b[0m\u001b[0;34m,\u001b[0m \u001b[0;34m'cosine_similarity(dt[0:10000], dt[0:10000])'\u001b[0m\u001b[0;34m)\u001b[0m\u001b[0;34m\u001b[0m\u001b[0;34m\u001b[0m\u001b[0m\n\u001b[0m",
            "\u001b[0;32m/usr/local/lib/python3.7/dist-packages/IPython/core/interactiveshell.py\u001b[0m in \u001b[0;36mrun_cell_magic\u001b[0;34m(self, magic_name, line, cell)\u001b[0m\n\u001b[1;32m   2115\u001b[0m             \u001b[0mmagic_arg_s\u001b[0m \u001b[0;34m=\u001b[0m \u001b[0mself\u001b[0m\u001b[0;34m.\u001b[0m\u001b[0mvar_expand\u001b[0m\u001b[0;34m(\u001b[0m\u001b[0mline\u001b[0m\u001b[0;34m,\u001b[0m \u001b[0mstack_depth\u001b[0m\u001b[0;34m)\u001b[0m\u001b[0;34m\u001b[0m\u001b[0;34m\u001b[0m\u001b[0m\n\u001b[1;32m   2116\u001b[0m             \u001b[0;32mwith\u001b[0m \u001b[0mself\u001b[0m\u001b[0;34m.\u001b[0m\u001b[0mbuiltin_trap\u001b[0m\u001b[0;34m:\u001b[0m\u001b[0;34m\u001b[0m\u001b[0;34m\u001b[0m\u001b[0m\n\u001b[0;32m-> 2117\u001b[0;31m                 \u001b[0mresult\u001b[0m \u001b[0;34m=\u001b[0m \u001b[0mfn\u001b[0m\u001b[0;34m(\u001b[0m\u001b[0mmagic_arg_s\u001b[0m\u001b[0;34m,\u001b[0m \u001b[0mcell\u001b[0m\u001b[0;34m)\u001b[0m\u001b[0;34m\u001b[0m\u001b[0;34m\u001b[0m\u001b[0m\n\u001b[0m\u001b[1;32m   2118\u001b[0m             \u001b[0;32mreturn\u001b[0m \u001b[0mresult\u001b[0m\u001b[0;34m\u001b[0m\u001b[0;34m\u001b[0m\u001b[0m\n\u001b[1;32m   2119\u001b[0m \u001b[0;34m\u001b[0m\u001b[0m\n",
            "\u001b[0;32m<decorator-gen-53>\u001b[0m in \u001b[0;36mtime\u001b[0;34m(self, line, cell, local_ns)\u001b[0m\n",
            "\u001b[0;32m/usr/local/lib/python3.7/dist-packages/IPython/core/magic.py\u001b[0m in \u001b[0;36m<lambda>\u001b[0;34m(f, *a, **k)\u001b[0m\n\u001b[1;32m    186\u001b[0m     \u001b[0;31m# but it's overkill for just that one bit of state.\u001b[0m\u001b[0;34m\u001b[0m\u001b[0;34m\u001b[0m\u001b[0;34m\u001b[0m\u001b[0m\n\u001b[1;32m    187\u001b[0m     \u001b[0;32mdef\u001b[0m \u001b[0mmagic_deco\u001b[0m\u001b[0;34m(\u001b[0m\u001b[0marg\u001b[0m\u001b[0;34m)\u001b[0m\u001b[0;34m:\u001b[0m\u001b[0;34m\u001b[0m\u001b[0;34m\u001b[0m\u001b[0m\n\u001b[0;32m--> 188\u001b[0;31m         \u001b[0mcall\u001b[0m \u001b[0;34m=\u001b[0m \u001b[0;32mlambda\u001b[0m \u001b[0mf\u001b[0m\u001b[0;34m,\u001b[0m \u001b[0;34m*\u001b[0m\u001b[0ma\u001b[0m\u001b[0;34m,\u001b[0m \u001b[0;34m**\u001b[0m\u001b[0mk\u001b[0m\u001b[0;34m:\u001b[0m \u001b[0mf\u001b[0m\u001b[0;34m(\u001b[0m\u001b[0;34m*\u001b[0m\u001b[0ma\u001b[0m\u001b[0;34m,\u001b[0m \u001b[0;34m**\u001b[0m\u001b[0mk\u001b[0m\u001b[0;34m)\u001b[0m\u001b[0;34m\u001b[0m\u001b[0;34m\u001b[0m\u001b[0m\n\u001b[0m\u001b[1;32m    189\u001b[0m \u001b[0;34m\u001b[0m\u001b[0m\n\u001b[1;32m    190\u001b[0m         \u001b[0;32mif\u001b[0m \u001b[0mcallable\u001b[0m\u001b[0;34m(\u001b[0m\u001b[0marg\u001b[0m\u001b[0;34m)\u001b[0m\u001b[0;34m:\u001b[0m\u001b[0;34m\u001b[0m\u001b[0;34m\u001b[0m\u001b[0m\n",
            "\u001b[0;32m/usr/local/lib/python3.7/dist-packages/IPython/core/magics/execution.py\u001b[0m in \u001b[0;36mtime\u001b[0;34m(self, line, cell, local_ns)\u001b[0m\n\u001b[1;32m   1187\u001b[0m         \u001b[0;32mif\u001b[0m \u001b[0mmode\u001b[0m\u001b[0;34m==\u001b[0m\u001b[0;34m'eval'\u001b[0m\u001b[0;34m:\u001b[0m\u001b[0;34m\u001b[0m\u001b[0;34m\u001b[0m\u001b[0m\n\u001b[1;32m   1188\u001b[0m             \u001b[0mst\u001b[0m \u001b[0;34m=\u001b[0m \u001b[0mclock2\u001b[0m\u001b[0;34m(\u001b[0m\u001b[0;34m)\u001b[0m\u001b[0;34m\u001b[0m\u001b[0;34m\u001b[0m\u001b[0m\n\u001b[0;32m-> 1189\u001b[0;31m             \u001b[0mout\u001b[0m \u001b[0;34m=\u001b[0m \u001b[0meval\u001b[0m\u001b[0;34m(\u001b[0m\u001b[0mcode\u001b[0m\u001b[0;34m,\u001b[0m \u001b[0mglob\u001b[0m\u001b[0;34m,\u001b[0m \u001b[0mlocal_ns\u001b[0m\u001b[0;34m)\u001b[0m\u001b[0;34m\u001b[0m\u001b[0;34m\u001b[0m\u001b[0m\n\u001b[0m\u001b[1;32m   1190\u001b[0m             \u001b[0mend\u001b[0m \u001b[0;34m=\u001b[0m \u001b[0mclock2\u001b[0m\u001b[0;34m(\u001b[0m\u001b[0;34m)\u001b[0m\u001b[0;34m\u001b[0m\u001b[0;34m\u001b[0m\u001b[0m\n\u001b[1;32m   1191\u001b[0m         \u001b[0;32melse\u001b[0m\u001b[0;34m:\u001b[0m\u001b[0;34m\u001b[0m\u001b[0;34m\u001b[0m\u001b[0m\n",
            "\u001b[0;32m<timed eval>\u001b[0m in \u001b[0;36m<module>\u001b[0;34m()\u001b[0m\n",
            "\u001b[0;31mNameError\u001b[0m: name 'cosine_similarity' is not defined"
          ]
        }
      ],
      "source": [
        "%%time\n",
        "cosine_similarity(dt[0:10000], dt[0:10000])"
      ]
    },
    {
      "cell_type": "code",
      "execution_count": 6,
      "id": "adjacent-meter",
      "metadata": {
        "id": "adjacent-meter",
        "outputId": "6bf398c1-f72d-4d79-ee21-de1e116350ce",
        "colab": {
          "base_uri": "https://localhost:8080/"
        }
      },
      "outputs": [
        {
          "output_type": "stream",
          "name": "stdout",
          "text": [
            "CPU times: user 291 ms, sys: 360 ms, total: 650 ms\n",
            "Wall time: 676 ms\n"
          ]
        }
      ],
      "source": [
        "%%time\n",
        "from sklearn.metrics.pairwise import linear_kernel\n",
        "\n",
        "linear_kernel(dt[0:10000], dt[0:10000])"
      ]
    },
    {
      "cell_type": "markdown",
      "id": "applied-result",
      "metadata": {
        "id": "applied-result"
      },
      "source": [
        "### Blueprint: Removing Feature Dimensions"
      ]
    },
    {
      "cell_type": "markdown",
      "id": "quick-murray",
      "metadata": {
        "id": "quick-murray"
      },
      "source": [
        "**Removing Stop Words**"
      ]
    },
    {
      "cell_type": "code",
      "execution_count": 7,
      "id": "stable-rehabilitation",
      "metadata": {
        "id": "stable-rehabilitation",
        "outputId": "89202982-fa56-4ebc-be21-4458910c0d68",
        "colab": {
          "base_uri": "https://localhost:8080/"
        }
      },
      "outputs": [
        {
          "output_type": "stream",
          "name": "stdout",
          "text": [
            "326\n"
          ]
        }
      ],
      "source": [
        "from spacy.lang.en.stop_words import STOP_WORDS as stopwords\n",
        "\n",
        "print(len(stopwords))"
      ]
    },
    {
      "cell_type": "code",
      "execution_count": 8,
      "id": "armed-mouth",
      "metadata": {
        "id": "armed-mouth",
        "outputId": "0002a353-76c7-4c19-b5ad-b5a3b338b495",
        "colab": {
          "base_uri": "https://localhost:8080/"
        }
      },
      "outputs": [
        {
          "output_type": "stream",
          "name": "stderr",
          "text": [
            "/usr/local/lib/python3.7/dist-packages/sklearn/feature_extraction/text.py:401: UserWarning: Your stop_words may be inconsistent with your preprocessing. Tokenizing the stop words generated tokens ['ll', 've'] not in stop_words.\n",
            "  % sorted(inconsistent)\n"
          ]
        },
        {
          "output_type": "execute_result",
          "data": {
            "text/plain": [
              "<1103663x95600 sparse matrix of type '<class 'numpy.float64'>'\n",
              "\twith 5644186 stored elements in Compressed Sparse Row format>"
            ]
          },
          "metadata": {},
          "execution_count": 8
        }
      ],
      "source": [
        "tfidf = TfidfVectorizer(stop_words=stopwords)\n",
        "dt = tfidf.fit_transform(headlines[\"headline_text\"])\n",
        "dt"
      ]
    },
    {
      "cell_type": "markdown",
      "id": "incorporate-termination",
      "metadata": {
        "id": "incorporate-termination"
      },
      "source": [
        "**Minimum Frequency**"
      ]
    },
    {
      "cell_type": "code",
      "execution_count": 9,
      "id": "knowing-croatia",
      "metadata": {
        "id": "knowing-croatia",
        "outputId": "1df4c0f4-a9fa-4c96-b42f-063349efdab5",
        "colab": {
          "base_uri": "https://localhost:8080/"
        }
      },
      "outputs": [
        {
          "output_type": "stream",
          "name": "stderr",
          "text": [
            "/usr/local/lib/python3.7/dist-packages/sklearn/feature_extraction/text.py:401: UserWarning: Your stop_words may be inconsistent with your preprocessing. Tokenizing the stop words generated tokens ['ll', 've'] not in stop_words.\n",
            "  % sorted(inconsistent)\n"
          ]
        },
        {
          "output_type": "execute_result",
          "data": {
            "text/plain": [
              "<1103663x58527 sparse matrix of type '<class 'numpy.float64'>'\n",
              "\twith 5607113 stored elements in Compressed Sparse Row format>"
            ]
          },
          "metadata": {},
          "execution_count": 9
        }
      ],
      "source": [
        "tfidf = TfidfVectorizer(stop_words=stopwords, min_df=2)\n",
        "dt = tfidf.fit_transform(headlines[\"headline_text\"])\n",
        "dt"
      ]
    },
    {
      "cell_type": "code",
      "execution_count": 10,
      "id": "angry-jesus",
      "metadata": {
        "id": "angry-jesus",
        "outputId": "9bee7b5f-dd64-4db0-84ab-ac717e5d7653",
        "colab": {
          "base_uri": "https://localhost:8080/"
        }
      },
      "outputs": [
        {
          "output_type": "stream",
          "name": "stderr",
          "text": [
            "/usr/local/lib/python3.7/dist-packages/sklearn/feature_extraction/text.py:401: UserWarning: Your stop_words may be inconsistent with your preprocessing. Tokenizing the stop words generated tokens ['ll', 've'] not in stop_words.\n",
            "  % sorted(inconsistent)\n"
          ]
        },
        {
          "output_type": "execute_result",
          "data": {
            "text/plain": [
              "<1103663x6772 sparse matrix of type '<class 'numpy.float64'>'\n",
              "\twith 4816381 stored elements in Compressed Sparse Row format>"
            ]
          },
          "metadata": {},
          "execution_count": 10
        }
      ],
      "source": [
        "# When using float for min_df, the word has to occur in a minimum fraction of documents.\n",
        "tfidf = TfidfVectorizer(stop_words=stopwords, min_df=0.0001)\n",
        "dt = tfidf.fit_transform(headlines[\"headline_text\"])\n",
        "dt"
      ]
    },
    {
      "cell_type": "markdown",
      "id": "needed-preliminary",
      "metadata": {
        "id": "needed-preliminary"
      },
      "source": [
        "**Maximum Frequency**"
      ]
    },
    {
      "cell_type": "code",
      "execution_count": 11,
      "id": "analyzed-screen",
      "metadata": {
        "id": "analyzed-screen",
        "outputId": "f380e4e6-eda6-4ff9-9607-f84702284bdc",
        "colab": {
          "base_uri": "https://localhost:8080/"
        }
      },
      "outputs": [
        {
          "output_type": "stream",
          "name": "stderr",
          "text": [
            "/usr/local/lib/python3.7/dist-packages/sklearn/feature_extraction/text.py:401: UserWarning: Your stop_words may be inconsistent with your preprocessing. Tokenizing the stop words generated tokens ['ll', 've'] not in stop_words.\n",
            "  % sorted(inconsistent)\n"
          ]
        },
        {
          "output_type": "execute_result",
          "data": {
            "text/plain": [
              "<1103663x95600 sparse matrix of type '<class 'numpy.float64'>'\n",
              "\twith 5644186 stored elements in Compressed Sparse Row format>"
            ]
          },
          "metadata": {},
          "execution_count": 11
        }
      ],
      "source": [
        "# Eliminate all the words that appears in at least 10% of the headlines\n",
        "tfidf = TfidfVectorizer(stop_words=stopwords, max_df=0.1)\n",
        "dt = tfidf.fit_transform(headlines[\"headline_text\"])\n",
        "dt"
      ]
    },
    {
      "cell_type": "markdown",
      "id": "shared-terrorist",
      "metadata": {
        "id": "shared-terrorist"
      },
      "source": [
        "### Blueprints: Improving features by making them more specific"
      ]
    },
    {
      "cell_type": "markdown",
      "id": "surprised-singer",
      "metadata": {
        "id": "surprised-singer"
      },
      "source": [
        "**Performing linguistic analysis**"
      ]
    },
    {
      "cell_type": "code",
      "execution_count": 12,
      "id": "killing-shoulder",
      "metadata": {
        "id": "killing-shoulder",
        "outputId": "73adc770-9813-4046-afb1-9ea6483542ed",
        "colab": {
          "base_uri": "https://localhost:8080/"
        }
      },
      "outputs": [
        {
          "output_type": "execute_result",
          "data": {
            "text/plain": [
              "True"
            ]
          },
          "metadata": {},
          "execution_count": 12
        }
      ],
      "source": [
        "# Google Colab is using the old version. Install and restart runtime.\n",
        "# You need to enable the GPU runtime too.\n",
        "#!pip install -U spacy\n",
        "\n",
        "import spacy\n",
        "\n",
        "spacy.prefer_gpu()"
      ]
    },
    {
      "cell_type": "code",
      "execution_count": 24,
      "id": "lesbian-single",
      "metadata": {
        "id": "lesbian-single",
        "outputId": "e88a721d-347b-4b66-e77a-60c65d1a9aba",
        "colab": {
          "base_uri": "https://localhost:8080/"
        }
      },
      "outputs": [
        {
          "output_type": "stream",
          "name": "stderr",
          "text": [
            "100%|██████████| 1103663/1103663 [14:04<00:00, 1307.07it/s]\n"
          ]
        }
      ],
      "source": [
        "from tqdm import tqdm\n",
        "\n",
        "nlp = spacy.load(\"en_core_web_sm\")\n",
        "nouns_adjective_verbs = [\"NOUN\", \"PROPN\", \"ADJ\", \"ADV\", \"VERB\"]\n",
        "\n",
        "\n",
        "lemmas = []\n",
        "navs = []\n",
        "for doc in tqdm(nlp.pipe(headlines['headline_text'].values), total=len(headlines)):\n",
        "  lemmas.append(\" \".join([token.lemma_ for token in doc]))\n",
        "  navs.append(\" \".join([token.lemma_ for token in doc if token.pos_ in nouns_adjective_verbs]))\n",
        "headlines['lemmas'] = lemmas\n",
        "headlines['nav'] = navs\n",
        "\n",
        "# The approach below is too slow.\n",
        "# with tqdm(total=len(headlines)) as pbar:\n",
        "#     for i, row in headlines.iterrows():\n",
        "#         doc = nlp(str(row[\"headline_text\"]))\n",
        "#         headlines.at[i, \"lemmas\"] = \" \".join([token.lemma_ for token in doc])\n",
        "#         headlines.at[i, \"nav\"] = \" \".join(\n",
        "#             [token.lemma_ for token in doc if token.pos_ in nouns_adjective_verbs]\n",
        "#         )\n",
        "#         pbar.update(1)"
      ]
    },
    {
      "cell_type": "markdown",
      "id": "continued-crisis",
      "metadata": {
        "id": "continued-crisis"
      },
      "source": [
        "**Blueprint: Using lemmas instead of Words for Vectorizing Documents**"
      ]
    },
    {
      "cell_type": "code",
      "execution_count": 28,
      "id": "stupid-andrew",
      "metadata": {
        "id": "stupid-andrew",
        "outputId": "902f3adc-bf35-4de9-9d43-7ae972a7609e",
        "colab": {
          "base_uri": "https://localhost:8080/"
        }
      },
      "outputs": [
        {
          "output_type": "stream",
          "name": "stderr",
          "text": [
            "/usr/local/lib/python3.7/dist-packages/sklearn/feature_extraction/text.py:401: UserWarning: Your stop_words may be inconsistent with your preprocessing. Tokenizing the stop words generated tokens ['ll', 've'] not in stop_words.\n",
            "  % sorted(inconsistent)\n"
          ]
        },
        {
          "output_type": "execute_result",
          "data": {
            "text/plain": [
              "<1103663x86434 sparse matrix of type '<class 'numpy.float64'>'\n",
              "\twith 5578953 stored elements in Compressed Sparse Row format>"
            ]
          },
          "metadata": {},
          "execution_count": 28
        }
      ],
      "source": [
        "tfidf = TfidfVectorizer(stop_words=stopwords)\n",
        "dt = tfidf.fit_transform(headlines[\"lemmas\"].map(str))\n",
        "dt"
      ]
    },
    {
      "cell_type": "markdown",
      "id": "curious-minutes",
      "metadata": {
        "id": "curious-minutes"
      },
      "source": [
        "**Blueprint: Limit Word Types**"
      ]
    },
    {
      "cell_type": "code",
      "execution_count": 29,
      "id": "senior-exclusive",
      "metadata": {
        "id": "senior-exclusive",
        "outputId": "099279c9-b0d6-443c-e707-f009cf539d1c",
        "colab": {
          "base_uri": "https://localhost:8080/"
        }
      },
      "outputs": [
        {
          "output_type": "stream",
          "name": "stderr",
          "text": [
            "/usr/local/lib/python3.7/dist-packages/sklearn/feature_extraction/text.py:401: UserWarning: Your stop_words may be inconsistent with your preprocessing. Tokenizing the stop words generated tokens ['ll', 've'] not in stop_words.\n",
            "  % sorted(inconsistent)\n"
          ]
        },
        {
          "output_type": "execute_result",
          "data": {
            "text/plain": [
              "<1103663x83491 sparse matrix of type '<class 'numpy.float64'>'\n",
              "\twith 5451900 stored elements in Compressed Sparse Row format>"
            ]
          },
          "metadata": {},
          "execution_count": 29
        }
      ],
      "source": [
        "tfidf = TfidfVectorizer(stop_words=stopwords)\n",
        "dt = tfidf.fit_transform(headlines[\"nav\"].map(str))\n",
        "dt"
      ]
    },
    {
      "cell_type": "markdown",
      "id": "personalized-parish",
      "metadata": {
        "id": "personalized-parish"
      },
      "source": [
        "**Blueprint: Remove Most Common Words**"
      ]
    },
    {
      "cell_type": "code",
      "execution_count": 30,
      "id": "aggressive-scene",
      "metadata": {
        "id": "aggressive-scene",
        "outputId": "479ff383-515b-4826-b187-f078bac01939",
        "colab": {
          "base_uri": "https://localhost:8080/"
        }
      },
      "outputs": [
        {
          "output_type": "execute_result",
          "data": {
            "text/plain": [
              "<1103663x75455 sparse matrix of type '<class 'numpy.float64'>'\n",
              "\twith 1377264 stored elements in Compressed Sparse Row format>"
            ]
          },
          "metadata": {},
          "execution_count": 30
        }
      ],
      "source": [
        "top_10000 = pd.read_csv(\n",
        "    \"https://raw.githubusercontent.com/first20hours/google-10000-english/master/google-10000-english.txt\",\n",
        "    header=None,\n",
        ")\n",
        "tfidf = TfidfVectorizer(stop_words=set(top_10000.iloc[:, 0].values))\n",
        "dt = tfidf.fit_transform(headlines[\"nav\"].map(str))\n",
        "dt"
      ]
    },
    {
      "cell_type": "markdown",
      "id": "located-sleeping",
      "metadata": {
        "id": "located-sleeping"
      },
      "source": [
        "**Blueprint: Adding Context via N-Grams**"
      ]
    },
    {
      "cell_type": "code",
      "execution_count": 31,
      "id": "secure-croatia",
      "metadata": {
        "id": "secure-croatia",
        "outputId": "e16f5bb5-8075-42e9-87b6-ebe0879432b6",
        "colab": {
          "base_uri": "https://localhost:8080/"
        }
      },
      "outputs": [
        {
          "output_type": "stream",
          "name": "stderr",
          "text": [
            "/usr/local/lib/python3.7/dist-packages/sklearn/feature_extraction/text.py:401: UserWarning: Your stop_words may be inconsistent with your preprocessing. Tokenizing the stop words generated tokens ['ll', 've'] not in stop_words.\n",
            "  % sorted(inconsistent)\n"
          ]
        },
        {
          "output_type": "stream",
          "name": "stdout",
          "text": [
            "(1103663, 559961)\n",
            "67325400\n"
          ]
        },
        {
          "output_type": "stream",
          "name": "stderr",
          "text": [
            "/usr/local/lib/python3.7/dist-packages/sklearn/feature_extraction/text.py:401: UserWarning: Your stop_words may be inconsistent with your preprocessing. Tokenizing the stop words generated tokens ['ll', 've'] not in stop_words.\n",
            "  % sorted(inconsistent)\n"
          ]
        },
        {
          "output_type": "stream",
          "name": "stdout",
          "text": [
            "(1103663, 747988)\n",
            "72360104\n"
          ]
        }
      ],
      "source": [
        "tfidf = TfidfVectorizer(stop_words=stopwords, ngram_range=(1, 2), min_df=2)\n",
        "dt = tfidf.fit_transform(headlines[\"headline_text\"])\n",
        "print(dt.shape)\n",
        "print(dt.data.nbytes)\n",
        "\n",
        "tfidf = TfidfVectorizer(stop_words=stopwords, ngram_range=(1, 3), min_df=2)\n",
        "dt = tfidf.fit_transform(headlines[\"headline_text\"])\n",
        "print(dt.shape)\n",
        "print(dt.data.nbytes)"
      ]
    },
    {
      "cell_type": "markdown",
      "source": [
        "## Syntatic Similarity in the ABC Dataset"
      ],
      "metadata": {
        "id": "5RqqjpY_0Vrv"
      },
      "id": "5RqqjpY_0Vrv"
    },
    {
      "cell_type": "code",
      "execution_count": 35,
      "id": "equal-gibson",
      "metadata": {
        "id": "equal-gibson",
        "outputId": "1b75db1d-1495-4c94-b388-53827098dbe5",
        "colab": {
          "base_uri": "https://localhost:8080/"
        }
      },
      "outputs": [
        {
          "output_type": "stream",
          "name": "stderr",
          "text": [
            "/usr/local/lib/python3.7/dist-packages/sklearn/feature_extraction/text.py:401: UserWarning: Your stop_words may be inconsistent with your preprocessing. Tokenizing the stop words generated tokens ['ll', 've'] not in stop_words.\n",
            "  % sorted(inconsistent)\n"
          ]
        },
        {
          "output_type": "execute_result",
          "data": {
            "text/plain": [
              "<1103663x559346 sparse matrix of type '<class 'numpy.float64'>'\n",
              "\twith 8405225 stored elements in Compressed Sparse Row format>"
            ]
          },
          "metadata": {},
          "execution_count": 35
        }
      ],
      "source": [
        "# There are \"test\" headlines in the corpus.\n",
        "stopwords.add('test')\n",
        "tfidf = TfidfVectorizer(stop_words=stopwords, ngram_range=(1, 2), min_df=2, norm='l2')\n",
        "dt = tfidf.fit_transform(headlines['headline_text'])\n",
        "dt"
      ]
    },
    {
      "cell_type": "markdown",
      "source": [
        "### Blueprint: Finding Most Similar Headlines to a Made-up Headline"
      ],
      "metadata": {
        "id": "QD09oey20ybE"
      },
      "id": "QD09oey20ybE"
    },
    {
      "cell_type": "code",
      "source": [
        "made_up = tfidf.transform(['australia and new zealand discuss optimal apple size'])"
      ],
      "metadata": {
        "id": "O3a_kFvX0VB7"
      },
      "id": "O3a_kFvX0VB7",
      "execution_count": 36,
      "outputs": []
    },
    {
      "cell_type": "code",
      "source": [
        "from sklearn.metrics.pairwise import cosine_similarity\n",
        "\n",
        "sim = cosine_similarity(made_up, dt)"
      ],
      "metadata": {
        "id": "LaqV7_st08Kp"
      },
      "id": "LaqV7_st08Kp",
      "execution_count": 37,
      "outputs": []
    },
    {
      "cell_type": "code",
      "source": [
        "import numpy as np\n",
        "\n",
        "headlines.iloc[np.argmax(sim)]"
      ],
      "metadata": {
        "id": "pyITHsvm0-4-",
        "outputId": "a4d614e8-173b-4eb4-8121-c2015b407f92",
        "colab": {
          "base_uri": "https://localhost:8080/"
        }
      },
      "id": "pyITHsvm0-4-",
      "execution_count": 39,
      "outputs": [
        {
          "output_type": "execute_result",
          "data": {
            "text/plain": [
              "publish_date     2015-06-04 00:00:00\n",
              "headline_text       new zealand wool\n",
              "lemmas              new zealand wool\n",
              "nav                 new zealand wool\n",
              "Name: 957797, dtype: object"
            ]
          },
          "metadata": {},
          "execution_count": 39
        }
      ]
    },
    {
      "cell_type": "markdown",
      "source": [
        "### Blueprint: Finding the two most similar documents in a large corpus (Much more difficult)"
      ],
      "metadata": {
        "id": "oul258un4GLT"
      },
      "id": "oul258un4GLT"
    },
    {
      "cell_type": "code",
      "source": [
        "%%time\n",
        "np.dot(dt[0:10000], np.transpose(dt[0:10000]))"
      ],
      "metadata": {
        "id": "o93aAeDc1KYc",
        "outputId": "3f37b1b7-3859-49d4-9fb6-53992de1d383",
        "colab": {
          "base_uri": "https://localhost:8080/"
        }
      },
      "id": "o93aAeDc1KYc",
      "execution_count": 41,
      "outputs": [
        {
          "output_type": "stream",
          "name": "stdout",
          "text": [
            "CPU times: user 30.6 ms, sys: 997 µs, total: 31.6 ms\n",
            "Wall time: 32.9 ms\n"
          ]
        },
        {
          "output_type": "execute_result",
          "data": {
            "text/plain": [
              "<10000x10000 sparse matrix of type '<class 'numpy.float64'>'\n",
              "\twith 1817473 stored elements in Compressed Sparse Row format>"
            ]
          },
          "metadata": {},
          "execution_count": 41
        }
      ]
    },
    {
      "cell_type": "code",
      "source": [
        "%%time\n",
        "\n",
        "batch = 10000\n",
        "max_sim = 0.0\n",
        "\n",
        "\n",
        "max_a = None\n",
        "max_b = None\n",
        "\n",
        "for a in range(0, dt.shape[0], batch):\n",
        "  for b in range(0, a+batch, batch):\n",
        "    r = np.dot(dt[a:a+batch], np.transpose(dt[b:b+batch]))\n",
        "    # Eliminate identical vectors by setting their similarity to np.nan which gets sorted out.\n",
        "    r[r>0.9999] = np.nan\n",
        "    sim = r.max()\n",
        "    if sim > max_sim:\n",
        "      # argmax returns a single value which we have to map to the two dimensions.\n",
        "      (max_a, max_b) = np.unravel_index(np.argmax(r), r.shape)\n",
        "\n",
        "      # Adjust offsets in corpus (this is a submatrix).\n",
        "      max_a += a\n",
        "      max_b += b\n",
        "      max_sim = sim"
      ],
      "metadata": {
        "id": "FfPWjTfj2BVR",
        "outputId": "a4089322-a3db-45f4-be16-03da220d9545",
        "colab": {
          "base_uri": "https://localhost:8080/"
        }
      },
      "id": "FfPWjTfj2BVR",
      "execution_count": 42,
      "outputs": [
        {
          "output_type": "stream",
          "name": "stdout",
          "text": [
            "CPU times: user 7min 16s, sys: 3.15 s, total: 7min 19s\n",
            "Wall time: 7min 40s\n"
          ]
        }
      ]
    },
    {
      "cell_type": "code",
      "source": [
        "print(headlines.iloc[max_a])\n",
        "print(headlines.iloc[max_b])"
      ],
      "metadata": {
        "id": "ojGfd7Fv30Wd",
        "outputId": "e0c4ac22-f8f2-40ec-c50a-062b3a265608",
        "colab": {
          "base_uri": "https://localhost:8080/"
        }
      },
      "id": "ojGfd7Fv30Wd",
      "execution_count": 43,
      "outputs": [
        {
          "output_type": "stream",
          "name": "stdout",
          "text": [
            "publish_date                                2014-09-18 00:00:00\n",
            "headline_text    vline fails to meet punctuality targets report\n",
            "lemmas             vline fail to meet punctuality target report\n",
            "nav                   vline fail meet punctuality target report\n",
            "Name: 904965, dtype: object\n",
            "publish_date                         2008-02-15 00:00:00\n",
            "headline_text    vline fails to meet punctuality targets\n",
            "lemmas             vline fail to meet punctuality target\n",
            "nav                   vline fail meet punctuality target\n",
            "Name: 364042, dtype: object\n"
          ]
        }
      ]
    },
    {
      "cell_type": "markdown",
      "source": [
        "### Blueprint: Finding Related Words"
      ],
      "metadata": {
        "id": "lbLX5Kka4C6-"
      },
      "id": "lbLX5Kka4C6-"
    },
    {
      "cell_type": "code",
      "source": [
        "tfidf_word = TfidfVectorizer(stop_words=stopwords, min_df=1000)\n",
        "dt_word = tfidf_word.fit_transform(headlines['headline_text'])\n",
        "dt_word"
      ],
      "metadata": {
        "id": "FEPTlkNr34wC",
        "outputId": "4d79381e-06b9-4e69-e59e-d6e93bf3b9fb",
        "colab": {
          "base_uri": "https://localhost:8080/"
        }
      },
      "id": "FEPTlkNr34wC",
      "execution_count": 45,
      "outputs": [
        {
          "output_type": "stream",
          "name": "stderr",
          "text": [
            "/usr/local/lib/python3.7/dist-packages/sklearn/feature_extraction/text.py:401: UserWarning: Your stop_words may be inconsistent with your preprocessing. Tokenizing the stop words generated tokens ['ll', 've'] not in stop_words.\n",
            "  % sorted(inconsistent)\n"
          ]
        },
        {
          "output_type": "execute_result",
          "data": {
            "text/plain": [
              "<1103663x1132 sparse matrix of type '<class 'numpy.float64'>'\n",
              "\twith 2980495 stored elements in Compressed Sparse Row format>"
            ]
          },
          "metadata": {},
          "execution_count": 45
        }
      ]
    },
    {
      "cell_type": "code",
      "source": [
        "r = cosine_similarity(dt_word.T, dt_word.T)\n",
        "np.fill_diagonal(r, 0)"
      ],
      "metadata": {
        "id": "DklGC8dT4aVi"
      },
      "id": "DklGC8dT4aVi",
      "execution_count": 46,
      "outputs": []
    },
    {
      "cell_type": "code",
      "source": [
        "voc = tfidf_word.get_feature_names()\n",
        "size = r.shape[0] # Quadratic.\n",
        "for index in np.argsort(r.flatten())[::-1][0:40]:\n",
        "  a = int(index/size)\n",
        "  b = index%size\n",
        "  if a > b: # Avoid repetitions.\n",
        "    print('\"%s\" related to \"%s\"' % (voc[a], voc[b]))"
      ],
      "metadata": {
        "id": "bJuygZJ_4hkW",
        "outputId": "54570ef1-412e-4876-d983-a230fbb3b0c6",
        "colab": {
          "base_uri": "https://localhost:8080/"
        }
      },
      "id": "bJuygZJ_4hkW",
      "execution_count": 47,
      "outputs": [
        {
          "output_type": "stream",
          "name": "stdout",
          "text": [
            "\"sri\" related to \"lanka\"\n",
            "\"hour\" related to \"country\"\n",
            "\"seekers\" related to \"asylum\"\n",
            "\"springs\" related to \"alice\"\n",
            "\"pleads\" related to \"guilty\"\n",
            "\"hill\" related to \"broken\"\n",
            "\"trump\" related to \"donald\"\n",
            "\"violence\" related to \"domestic\"\n",
            "\"climate\" related to \"change\"\n",
            "\"driving\" related to \"drink\"\n",
            "\"care\" related to \"aged\"\n",
            "\"gold\" related to \"coast\"\n",
            "\"royal\" related to \"commission\"\n",
            "\"mental\" related to \"health\"\n",
            "\"wind\" related to \"farm\"\n",
            "\"flu\" related to \"bird\"\n",
            "\"murray\" related to \"darling\"\n",
            "\"world\" related to \"cup\"\n",
            "\"north\" related to \"korea\"\n",
            "\"hour\" related to \"2014\"\n"
          ]
        },
        {
          "output_type": "stream",
          "name": "stderr",
          "text": [
            "/usr/local/lib/python3.7/dist-packages/sklearn/utils/deprecation.py:87: FutureWarning: Function get_feature_names is deprecated; get_feature_names is deprecated in 1.0 and will be removed in 1.2. Please use get_feature_names_out instead.\n",
            "  warnings.warn(msg, category=FutureWarning)\n"
          ]
        }
      ]
    },
    {
      "cell_type": "code",
      "source": [
        ""
      ],
      "metadata": {
        "id": "eRkRDQzf5r-T"
      },
      "id": "eRkRDQzf5r-T",
      "execution_count": null,
      "outputs": []
    }
  ],
  "metadata": {
    "kernelspec": {
      "display_name": "Python 3",
      "language": "python",
      "name": "python3"
    },
    "language_info": {
      "codemirror_mode": {
        "name": "ipython",
        "version": 3
      },
      "file_extension": ".py",
      "mimetype": "text/x-python",
      "name": "python",
      "nbconvert_exporter": "python",
      "pygments_lexer": "ipython3",
      "version": "3.9.10"
    },
    "colab": {
      "name": "05_feature_engineering_and_syntatic_similarity.ipynb",
      "provenance": [],
      "include_colab_link": true
    },
    "accelerator": "GPU"
  },
  "nbformat": 4,
  "nbformat_minor": 5
}